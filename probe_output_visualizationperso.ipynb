{
 "cells": [
  {
   "cell_type": "code",
   "execution_count": 1,
   "metadata": {},
   "outputs": [
    {
     "name": "stderr",
     "output_type": "stream",
     "text": [
      "2024-12-17 15:27:49,651 - probe_training_utils - INFO - {'vocab_size': 32, 'itos': {0: ' ', 1: '#', 2: '+', 3: '-', 4: '.', 5: '0', 6: '1', 7: '2', 8: '3', 9: '4', 10: '5', 11: '6', 12: '7', 13: '8', 14: '9', 15: ';', 16: '=', 17: 'B', 18: 'K', 19: 'N', 20: 'O', 21: 'Q', 22: 'R', 23: 'a', 24: 'b', 25: 'c', 26: 'd', 27: 'e', 28: 'f', 29: 'g', 30: 'h', 31: 'x'}, 'stoi': {' ': 0, '#': 1, '+': 2, '-': 3, '.': 4, '0': 5, '1': 6, '2': 7, '3': 8, '4': 9, '5': 10, '6': 11, '7': 12, '8': 13, '9': 14, ';': 15, '=': 16, 'B': 17, 'K': 18, 'N': 19, 'O': 20, 'Q': 21, 'R': 22, 'a': 23, 'b': 24, 'c': 25, 'd': 26, 'e': 27, 'f': 28, 'g': 29, 'h': 30, 'x': 31}}\n",
      "2024-12-17 15:27:49,652 - probe_training_utils - INFO - Using device: cpu\n",
      "2024-12-17 15:27:49,653 - probe_training_utils - INFO - [6, 4, 27, 9, 0, 27, 11, 0, 7, 4, 19, 28, 8]\n",
      "2024-12-17 15:27:49,653 - probe_training_utils - INFO - Performing round trip test on meta\n"
     ]
    }
   ],
   "source": [
    "import torch\n",
    "import numpy as np\n",
    "from fancy_einsum import einsum\n",
    "import chess\n",
    "import numpy as np\n",
    "import pickle\n",
    "import logging\n",
    "import plotly.graph_objects as go\n",
    "from functools import partial\n",
    "\n",
    "import chess_utils\n",
    "import train_test_chess\n",
    "import importlib"
   ]
  },
  {
   "cell_type": "markdown",
   "metadata": {},
   "source": [
    "There's a bunch of setup below to get some data in some tensors that we can feed to our model."
   ]
  },
  {
   "cell_type": "code",
   "execution_count": 2,
   "metadata": {},
   "outputs": [
    {
     "data": {
      "text/plain": [
       "<torch.autograd.grad_mode.set_grad_enabled at 0x7648e21094c0>"
      ]
     },
     "execution_count": 2,
     "metadata": {},
     "output_type": "execute_result"
    }
   ],
   "source": [
    "torch.set_grad_enabled(False)"
   ]
  },
  {
   "cell_type": "code",
   "execution_count": 3,
   "metadata": {},
   "outputs": [],
   "source": [
    "# Flags to control logging\n",
    "debug_mode = False\n",
    "info_mode = True\n",
    "\n",
    "if debug_mode:\n",
    "    log_level = logging.DEBUG\n",
    "elif info_mode:\n",
    "    log_level = logging.INFO\n",
    "else:\n",
    "    log_level = logging.WARNING\n",
    "\n",
    "# Configure logging\n",
    "logging.basicConfig(level=log_level)\n",
    "logger = logging.getLogger(__name__)"
   ]
  },
  {
   "cell_type": "markdown",
   "metadata": {},
   "source": [
    "Here you can select which probe and model to use. By default, the model_setup.py downloads a lichess 8 layer model. We can then select a probe from saved_probes/. Ideally, this should also be a lichess probe. Then this code should auto populate parameters according to the probe's state dict.\n",
    "\n",
    "To reproduce paper / blog post figures, set USE_16_LAYER to True and run model_setup.py on the lichess 16 layer model."
   ]
  },
  {
   "cell_type": "code",
   "execution_count": 4,
   "metadata": {},
   "outputs": [
    {
     "name": "stderr",
     "output_type": "stream",
     "text": [
      "INFO:__main__:Using device: cpu\n"
     ]
    },
    {
     "name": "stdout",
     "output_type": "stream",
     "text": [
      "dict_keys(['linear_probe', 'final_loss', 'iters', 'epochs', 'acc', 'linear_probe_name', 'layer', 'indexing_function_name', 'batch_size', 'lr', 'wd', 'pos_start', 'num_epochs', 'modes', 'wandb_project', 'config_name', 'column_name', 'levels_of_interest', 'split', 'dataset_prefix', 'model_name', 'n_layers', 'wandb_run_name', 'num_games'])\n",
      "final_loss tensor(0.9204, requires_grad=True)\n",
      "iters 100000\n",
      "epochs 4\n",
      "acc tensor(0.9957)\n",
      "linear_probe_name chess_piece_probe\n",
      "layer 5\n",
      "indexing_function_name find_dots_indices\n",
      "batch_size 2\n",
      "lr 0.001\n",
      "wd 0.01\n",
      "pos_start 0\n",
      "num_epochs 5\n",
      "modes 1\n",
      "wandb_project chess_linear_probes\n",
      "config_name chess_piece_probe\n",
      "column_name None\n",
      "levels_of_interest None\n",
      "split train\n",
      "dataset_prefix lichess_\n",
      "model_name tf_lens_lichess_8layers_ckpt_no_optimizer\n",
      "n_layers 8\n",
      "wandb_run_name chess_piece_probe_tf_lens_lichess_8layers_ckpt_no_optimizer_layer_5_indexing_find_dots_indices_max_games_20000\n",
      "num_games 21000\n",
      "This is the control probe: linear_probes/saved_probes/tf_lens_lichess_8layers_ckpt_no_optimizer_chess_piece_probe_layer_5.pth\n",
      "dict_keys(['linear_probe', 'final_loss', 'iters', 'epochs', 'acc', 'linear_probe_name', 'layer', 'indexing_function_name', 'batch_size', 'lr', 'wd', 'pos_start', 'num_epochs', 'modes', 'wandb_project', 'config_name', 'column_name', 'levels_of_interest', 'split', 'dataset_prefix', 'model_name', 'n_layers', 'wandb_run_name', 'num_games'])\n",
      "final_loss tensor(0.9204, requires_grad=True)\n",
      "iters 100000\n",
      "epochs 4\n",
      "acc tensor(0.9957)\n",
      "linear_probe_name chess_piece_probe\n",
      "layer 5\n",
      "indexing_function_name find_dots_indices\n",
      "batch_size 2\n",
      "lr 0.001\n",
      "wd 0.01\n",
      "pos_start 0\n",
      "num_epochs 5\n",
      "modes 1\n",
      "wandb_project chess_linear_probes\n",
      "config_name chess_piece_probe\n",
      "column_name None\n",
      "levels_of_interest None\n",
      "split train\n",
      "dataset_prefix lichess_\n",
      "model_name tf_lens_lichess_8layers_ckpt_no_optimizer\n",
      "n_layers 8\n",
      "wandb_run_name chess_piece_probe_tf_lens_lichess_8layers_ckpt_no_optimizer_layer_5_indexing_find_dots_indices_max_games_20000\n",
      "num_games 21000\n"
     ]
    }
   ],
   "source": [
    "MODEL_DIR = \"models/\"\n",
    "DATA_DIR = \"data/\"\n",
    "PROBE_DIR = \"linear_probes/\"\n",
    "SAVED_PROBE_DIR = \"linear_probes/saved_probes/\"\n",
    "SPLIT = \"test\"\n",
    "\n",
    "DEVICE = \"cpu\"\n",
    "logger.info(f\"Using device: {DEVICE}\")\n",
    "probe_type = 'lichess'\n",
    "control_type = \"lichess\"\n",
    "base_probe_name = f\"tf_lens_{probe_type}_8layers_ckpt_no_optimizer_chess_piece_probe_layer_0.pth\"\n",
    "base_control_probe_name = f\"tf_lens_{probe_type}_8layers_ckpt_no_optimizer_chess_piece_probe_layer_5.pth\"\n",
    "\n",
    "LAYER = 5\n",
    "\n",
    "USE_16_LAYER = False\n",
    "\n",
    "if USE_16_LAYER:\n",
    "    LAYER = 11\n",
    "    base_probe_name = \"tf_lens_lichess_16layers_ckpt_no_optimizer_chess_piece_probe_layer_0.pth\"\n",
    "\n",
    "probe_to_test = base_probe_name.replace(\"layer_0\", f\"layer_{LAYER}\")\n",
    "\n",
    "num_games = 10\n",
    "sample_size = 1\n",
    "modes = 1\n",
    "\n",
    "probe_file_location = f\"{SAVED_PROBE_DIR}{probe_to_test}\"\n",
    "control_probe_file_location = f\"{SAVED_PROBE_DIR}{base_control_probe_name}\"\n",
    "with open(probe_file_location, \"rb\") as f:\n",
    "    state_dict = torch.load(f, map_location=torch.device(DEVICE))\n",
    "    print(state_dict.keys())\n",
    "    for key in state_dict.keys():\n",
    "        if key != \"linear_probe\":\n",
    "            print(key, state_dict[key])\n",
    "\n",
    "    config = chess_utils.find_config_by_name(state_dict[\"config_name\"])\n",
    "    layer = state_dict[\"layer\"]\n",
    "    model_name = state_dict[\"model_name\"]\n",
    "    dataset_prefix = state_dict[\"dataset_prefix\"]\n",
    "    column_name = state_dict[\"column_name\"]\n",
    "    config.pos_start = state_dict[\"pos_start\"]\n",
    "    levels_of_interest = None\n",
    "    if \"levels_of_interest\" in state_dict.keys():\n",
    "        levels_of_interest = state_dict[\"levels_of_interest\"]\n",
    "    config.levels_of_interest = levels_of_interest\n",
    "    indexing_function_name = state_dict[\"indexing_function_name\"]\n",
    "    n_layers = state_dict[\"n_layers\"]\n",
    "    \n",
    "\n",
    "    split = SPLIT\n",
    "    input_dataframe_file = f\"{DATA_DIR}{dataset_prefix}_{split}.csv\"\n",
    "    config = chess_utils.set_config_min_max_vals_and_column_name(\n",
    "        config, input_dataframe_file, dataset_prefix\n",
    "    )\n",
    "    misc_logging_dict = {\n",
    "        \"split\": split,\n",
    "        \"dataset_prefix\": dataset_prefix,\n",
    "        \"model_name\": model_name,\n",
    "        \"n_layers\": n_layers,\n",
    "    }\n",
    "print(f\"This is the control probe: {control_probe_file_location}\")\n",
    "with open(control_probe_file_location, \"rb\") as f:\n",
    "    control_state_dict = torch.load(f, map_location=torch.device(DEVICE))\n",
    "    print(control_state_dict.keys())\n",
    "    for key in control_state_dict.keys():\n",
    "        if key != \"linear_probe\":\n",
    "            print(key, control_state_dict[key])\n",
    "\n",
    "    control_config = chess_utils.find_config_by_name(state_dict[\"config_name\"])\n",
    "    control_layer = state_dict[\"layer\"]\n",
    "    control_model_name = state_dict[\"model_name\"]\n",
    "    control_dataset_prefix = state_dict[\"dataset_prefix\"]\n",
    "    control_column_name = state_dict[\"column_name\"]\n",
    "    control_config.pos_start = state_dict[\"pos_start\"]\n",
    "    control_levels_of_interest = None\n",
    "    if \"levels_of_interest\" in control_state_dict.keys():\n",
    "        control_levels_of_interest = control_state_dict[\"levels_of_interest\"]\n",
    "    control_config.levels_of_interest = levels_of_interest\n",
    "    control_indexing_function_name = state_dict[\"indexing_function_name\"]\n",
    "    control_n_layers = state_dict[\"n_layers\"]\n",
    "    \n",
    "\n",
    "    control_split = SPLIT\n",
    "    control_input_dataframe_file = f\"{DATA_DIR}{dataset_prefix}_{split}.csv\"\n",
    "    control_config = chess_utils.set_config_min_max_vals_and_column_name(\n",
    "        control_config, input_dataframe_file, dataset_prefix\n",
    "    )\n",
    "    misc_logging_dict = {\n",
    "        \"control_split\": control_split,\n",
    "        \"control_dataset_prefix\": control_dataset_prefix,\n",
    "        \"control_model_name\": control_model_name,\n",
    "        \"control_n_layers\": control_n_layers,\n",
    "    }"
   ]
  },
  {
   "cell_type": "markdown",
   "metadata": {},
   "source": [
    "At the end of the below cell, we index at select 1 of the num_games. The reason we do this is that with a large number of games, storing all the resid_posts and state_stacks quickly grows to many gigabytes of VRAM."
   ]
  },
  {
   "cell_type": "code",
   "execution_count": 5,
   "metadata": {},
   "outputs": [
    {
     "name": "stderr",
     "output_type": "stream",
     "text": [
      "/home/oscar/chess_interpretability/probe_training_utils.py:164: FutureWarning: You are using `torch.load` with `weights_only=False` (the current default value), which uses the default pickle module implicitly. It is possible to construct malicious pickle data which will execute arbitrary code during unpickling (See https://github.com/pytorch/pytorch/blob/main/SECURITY.md#untrusted-models for more details). In a future release, the default value for `weights_only` will be flipped to `True`. This limits the functions that could be executed during unpickling. Arbitrary objects will no longer be allowed to be loaded via this mode unless they are explicitly allowlisted by the user via `torch.serialization.add_safe_globals`. We recommend you start setting `weights_only=True` for any use case where you don't have full control of the loaded file. Please open an issue on GitHub for any issues related to this experimental feature.\n",
      "  model.load_state_dict(torch.load(f\"{MODEL_DIR}{model_name}.pth\"))\n"
     ]
    },
    {
     "name": "stdout",
     "output_type": "stream",
     "text": [
      "Moving model to device:  cpu\n",
      "user state dict one hot None\n"
     ]
    },
    {
     "name": "stderr",
     "output_type": "stream",
     "text": [
      "2024-12-12 10:24:35,156 - probe_training_utils - INFO - Number of games: 10,length of a game in chars: 365\n",
      "INFO:probe_training_utils:Number of games: 10,length of a game in chars: 365\n",
      "2024-12-12 10:24:35,160 - probe_training_utils - INFO - 0    [15, 6, 4, 27, 9, 0, 27, 10, 0, 7, 4, 21, 30, ...\n",
      "1    [15, 6, 4, 27, 9, 0, 27, 10, 0, 7, 4, 26, 8, 0...\n",
      "2    [15, 6, 4, 27, 9, 0, 27, 10, 0, 7, 4, 17, 25, ...\n",
      "3    [15, 6, 4, 26, 9, 0, 26, 10, 0, 7, 4, 25, 9, 0...\n",
      "4    [15, 6, 4, 25, 9, 0, 27, 11, 0, 7, 4, 19, 25, ...\n",
      "Name: transcript, dtype: object\n",
      "INFO:probe_training_utils:0    [15, 6, 4, 27, 9, 0, 27, 10, 0, 7, 4, 21, 30, ...\n",
      "1    [15, 6, 4, 27, 9, 0, 27, 10, 0, 7, 4, 26, 8, 0...\n",
      "2    [15, 6, 4, 27, 9, 0, 27, 10, 0, 7, 4, 17, 25, ...\n",
      "3    [15, 6, 4, 26, 9, 0, 26, 10, 0, 7, 4, 25, 9, 0...\n",
      "4    [15, 6, 4, 25, 9, 0, 27, 11, 0, 7, 4, 19, 25, ...\n",
      "Name: transcript, dtype: object\n",
      "2024-12-12 10:24:35,168 - probe_training_utils - INFO - board_seqs_int shape: torch.Size([10, 365])\n",
      "INFO:probe_training_utils:board_seqs_int shape: torch.Size([10, 365])\n",
      "INFO:__main__:state_stack shape: torch.Size([1, 4, 365, 8, 8])\n"
     ]
    },
    {
     "name": "stdout",
     "output_type": "stream",
     "text": [
      "seqs string 0    ;1.e4 e5 2.Qh5 Nf6 3.Qxe5+ Qe7 4.Qg3 Nxe4 5.Qe...\n",
      "1    ;1.e4 e5 2.d3 d6 3.Nf3 Nc6 4.Be2 Bg4 5.c4 Qe7 ...\n",
      "2    ;1.e4 e5 2.Bc4 Nf6 3.Nc3 Qe7 4.d3 h6 5.h3 c6 6...\n",
      "3    ;1.d4 d5 2.c4 c5 3.dxc5 Nc6 4.Qxd5 e6 5.Qxd8+ ...\n",
      "4    ;1.c4 e6 2.Nc3 d5 3.d3 dxc4 4.dxc4 Qxd1+ 5.Nxd...\n",
      "5    ;1.g3 e5 2.Bg2 d5 3.e3 e4 4.d3 Nf6 5.Ne2 Bf5 6...\n",
      "6    ;1.e4 e5 2.Qh5 d6 3.Bc4 g6 4.Qf3 Nf6 5.d3 Bg7 ...\n",
      "7    ;1.e3 Nf6 2.d4 g6 3.Nf3 Bg7 4.Be2 O-O 5.O-O d6...\n",
      "8    ;1.e3 d5 2.c3 c5 3.h3 a6 4.a3 Nc6 5.Nf3 e5 6.d...\n",
      "9    ;1.e4 e5 2.Nf3 Nc6 3.Bb5 d6 4.Nc3 Nf6 5.d3 a6 ...\n",
      "Name: transcript, dtype: object\n",
      "seqs int tensor([[15,  6,  4, 27,  9,  0, 27, 10,  0,  7,  4, 21, 30, 10,  0, 19, 28, 11,  0,  8,  4, 21, 31,\n",
      "         27, 10,  2,  0, 21, 27, 12,  0,  9,  4, 21, 29,  8,  0, 19, 31, 27,  9,  0, 10,  4, 21, 27,\n",
      "          8,  0, 26, 10,  0, 11,  4, 26,  9,  0, 19, 25, 11,  0, 12,  4, 25,  8,  0, 17, 28, 10,  0,\n",
      "         13,  4, 17, 26,  7,  0, 20,  3, 20,  3, 20,  0, 14,  4, 19, 23,  8,  0, 17, 29,  9,  0,  6,\n",
      "          5,  4, 28,  8,  0, 19, 31, 26,  ...,  7, 10,  4, 19, 31, 30, 10,  0, 22, 27,  8,  0,  7, 11,\n",
      "          4, 22, 29, 13,  2,  0, 19, 26, 13,  0,  7, 12,  4, 19, 28, 11,  0, 22, 31, 28,  8,  0,  7,\n",
      "         13,  4, 19, 27, 13,  0, 22, 28,  7,  2,  0,  7, 14,  4, 18, 26,  6,  0, 22, 31, 24,  7,  0,\n",
      "          8,  5,  4, 22, 28,  6,  0, 22, 24,  6,  2,  0,  8,  6,  4, 18, 27,  7,  0, 22, 24,  7,  2,\n",
      "          0,  8,  7,  4, 18, 27,  6,  0, 22, 31, 23,  7,  0,  8,  8,  4, 19],\n",
      "        [15,  6,  4, 27,  9,  0, 27, 10,  0,  7,  4, 26,  8,  0, 26, 11,  0,  8,  4, 19, 28,  8,  0,\n",
      "         19, 25, 11,  0,  9,  4, 17, 27,  7,  0, 17, 29,  9,  0, 10,  4, 25,  9,  0, 21, 27, 12,  0,\n",
      "         11,  4, 20,  3, 20,  0, 20,  3, 20,  3, 20,  0, 12,  4, 30,  8,  0, 17, 30, 10,  0, 13,  4,\n",
      "         19, 25,  8,  0, 29, 11,  0, 14,  4, 17, 27,  8,  0, 17, 31, 28,  8,  0,  6,  5,  4, 17, 31,\n",
      "         28,  8,  0, 28, 10,  0,  6,  6,  ..., 19, 31, 27,  9,  0,  7, 11,  4, 26, 31, 27,  9,  0, 21,\n",
      "         24, 13,  0,  7, 12,  4, 22, 26,  8,  0, 30, 31, 29, 11,  0,  7, 13,  4, 22, 26, 25,  8,  0,\n",
      "         22, 25, 13,  0,  7, 14,  4, 22, 31, 29, 11,  0, 18, 24, 12,  0,  8,  5,  4, 22, 24,  8,  0,\n",
      "         23, 10,  0,  8,  6,  4, 21, 25, 11,  2,  0, 18, 23, 12,  0,  8,  7,  4, 23,  9,  0, 21, 24,\n",
      "         12,  0,  8,  8,  4, 21, 31, 24, 12,  2,  0, 18, 31, 24, 12,  0,  8],\n",
      "        [15,  6,  4, 27,  9,  0, 27, 10,  0,  7,  4, 17, 25,  9,  0, 19, 28, 11,  0,  8,  4, 19, 25,\n",
      "          8,  0, 21, 27, 12,  0,  9,  4, 26,  8,  0, 30, 11,  0, 10,  4, 30,  8,  0, 25, 11,  0, 11,\n",
      "          4, 19, 28,  8,  0, 26, 11,  0, 12,  4, 20,  3, 20,  0, 29, 10,  0, 13,  4, 17, 27,  8,  0,\n",
      "         29,  9,  0, 14,  4, 30, 31, 29,  9,  0, 17, 31, 29,  9,  0,  6,  5,  4, 24,  9,  0, 26, 10,\n",
      "          0,  6,  6,  4, 27, 31, 26, 10,  ...,  0, 21, 29, 11,  0,  7, 11,  4, 29,  8,  0, 17, 27,  7,\n",
      "          0,  7, 12,  4, 22, 24, 13,  0, 17, 28, 13,  0,  7, 13,  4, 25, 13, 16, 21,  0, 30, 10,  0,\n",
      "          7, 14,  4, 21, 31, 28, 13,  0, 22, 31, 28, 13,  0,  8,  5,  4, 22, 31, 28, 13,  0, 18, 29,\n",
      "         12,  0,  8,  6,  4, 21, 24, 13,  0, 21, 30, 12,  0,  8,  7,  4, 21, 31, 27, 10,  2,  0, 18,\n",
      "         31, 28, 13,  0,  8,  8,  4, 17, 25, 10,  2,  0, 18, 29, 13,  0,  8],\n",
      "        [15,  6,  4, 26,  9,  0, 26, 10,  0,  7,  4, 25,  9,  0, 25, 10,  0,  8,  4, 26, 31, 25, 10,\n",
      "          0, 19, 25, 11,  0,  9,  4, 21, 31, 26, 10,  0, 27, 11,  0, 10,  4, 21, 31, 26, 13,  2,  0,\n",
      "         19, 31, 26, 13,  0, 11,  4, 19, 25,  8,  0, 17, 31, 25, 10,  0, 12,  4, 19, 28,  8,  0, 19,\n",
      "         28, 11,  0, 13,  4, 27,  9,  0, 20,  3, 20,  0, 14,  4, 17, 26,  8,  0, 19, 25, 11,  0,  6,\n",
      "          5,  4, 20,  3, 20,  0, 19, 26,  ...,  0, 24, 31, 23, 11,  0,  7, 11,  4, 18, 29,  7,  0, 17,\n",
      "         31, 28,  7,  0,  7, 12,  4, 18, 31, 28,  7,  0, 22, 26,  7,  2,  0,  7, 13,  4, 18, 29,  8,\n",
      "          0, 28, 10,  0,  7, 14,  4, 22, 24,  6,  0, 30, 10,  0,  8,  5,  4, 19, 23,  9,  0, 30,  9,\n",
      "          2,  0,  8,  6,  4, 18, 31, 30,  9,  0, 22, 31, 30,  7,  2,  0,  8,  7,  4, 18, 29, 10,  0,\n",
      "         22, 30, 10,  2,  0,  8,  8,  4, 18, 28,  9,  0, 29, 10,  2,  0,  8],\n",
      "        [15,  6,  4, 25,  9,  0, 27, 11,  0,  7,  4, 19, 25,  8,  0, 26, 10,  0,  8,  4, 26,  8,  0,\n",
      "         26, 31, 25,  9,  0,  9,  4, 26, 31, 25,  9,  0, 21, 31, 26,  6,  2,  0, 10,  4, 19, 31, 26,\n",
      "          6,  0, 17, 24,  9,  2,  0, 11,  4, 19, 25,  8,  0, 17, 31, 25,  8,  2,  0, 12,  4, 24, 31,\n",
      "         25,  8,  0, 25, 11,  0, 13,  4, 19, 28,  8,  0, 19, 23, 11,  0, 14,  4, 27,  8,  0, 19, 25,\n",
      "         10,  0,  6,  5,  4, 17, 23,  8,  ..., 23,  6, 31, 23,  7,  2,  0,  7, 10,  4, 18, 28,  8,  0,\n",
      "         19, 30,  9,  2,  0,  7, 11,  4, 18, 29,  8,  0, 19, 28, 10,  2,  0,  7, 12,  4, 18, 28,  9,\n",
      "          0, 22, 31, 28,  7,  2,  0,  7, 13,  4, 18, 27,  9,  0, 22, 26, 13,  0,  7, 14,  4, 22, 30,\n",
      "         13,  2,  0, 18, 27, 12,  0,  8,  5,  4, 19, 29, 11,  2,  0, 18, 26, 12,  0,  8,  6,  4, 19,\n",
      "         27, 10,  2,  0, 18, 27, 12,  0,  8,  7,  4, 22, 30,  9,  0, 19, 26],\n",
      "        [15,  6,  4, 29,  8,  0, 27, 10,  0,  7,  4, 17, 29,  7,  0, 26, 10,  0,  8,  4, 27,  8,  0,\n",
      "         27,  9,  0,  9,  4, 26,  8,  0, 19, 28, 11,  0, 10,  4, 19, 27,  7,  0, 17, 28, 10,  0, 11,\n",
      "          4, 20,  3, 20,  0, 17, 26, 11,  0, 12,  4, 26, 31, 27,  9,  0, 17, 31, 27,  9,  0, 13,  4,\n",
      "         19, 24, 25,  8,  0, 17, 31, 29,  7,  0, 14,  4, 18, 31, 29,  7,  0, 25, 11,  0,  6,  5,  4,\n",
      "         24,  8,  0, 20,  3, 20,  0,  6,  ..., 29,  8,  0, 18, 29, 12,  0,  7, 10,  4, 30,  9,  0, 18,\n",
      "         29, 11,  0,  7, 11,  4, 28,  9,  0, 28, 10,  0,  7, 12,  4, 30, 10,  2,  0, 18, 28, 11,  0,\n",
      "          7, 13,  4, 29, 10,  2,  0, 18, 27, 11,  0,  7, 14,  4, 30, 11,  0, 24, 11,  0,  8,  5,  4,\n",
      "         18, 28,  8,  0, 25, 10,  0,  8,  6,  4, 25,  8,  0, 18, 26, 10,  0,  8,  7,  4, 18, 27,  8,\n",
      "          0, 24, 10,  0,  8,  8,  4, 23,  9,  0, 23, 11,  0,  8,  9,  4, 23],\n",
      "        [15,  6,  4, 27,  9,  0, 27, 10,  0,  7,  4, 21, 30, 10,  0, 26, 11,  0,  8,  4, 17, 25,  9,\n",
      "          0, 29, 11,  0,  9,  4, 21, 28,  8,  0, 19, 28, 11,  0, 10,  4, 26,  8,  0, 17, 29, 12,  0,\n",
      "         11,  4, 17, 29, 10,  0, 20,  3, 20,  0, 12,  4, 17, 31, 28, 11,  0, 17, 31, 28, 11,  0, 13,\n",
      "          4, 19, 30,  8,  0, 17, 31, 30,  8,  0, 14,  4, 20,  3, 20,  0, 17, 26, 12,  0,  6,  5,  4,\n",
      "         30,  8,  0, 24, 10,  0,  6,  6,  ..., 27,  6,  0, 17, 31, 28,  7,  2,  0,  7, 11,  4, 18, 28,\n",
      "          6,  0, 17, 31, 27,  6,  0,  7, 12,  4, 18, 31, 27,  6,  0, 19, 31, 29,  8,  0,  7, 13,  4,\n",
      "         18, 26,  7,  0, 19, 27,  9,  2,  0,  7, 14,  4, 18, 26,  8,  0, 19, 25, 10,  2,  0,  8,  5,\n",
      "          4, 18, 25,  8,  0, 22, 28, 27, 13,  0,  8,  6,  4, 18, 24,  9,  0, 22, 24, 13,  2,  0,  8,\n",
      "          7,  4, 18, 25,  8,  0, 22, 27,  8,  2,  0,  8,  8,  4, 18, 26,  7],\n",
      "        [15,  6,  4, 27,  8,  0, 19, 28, 11,  0,  7,  4, 26,  9,  0, 29, 11,  0,  8,  4, 19, 28,  8,\n",
      "          0, 17, 29, 12,  0,  9,  4, 17, 27,  7,  0, 20,  3, 20,  0, 10,  4, 20,  3, 20,  0, 26, 11,\n",
      "          0, 11,  4, 30,  8,  0, 19, 24, 26, 12,  0, 12,  4, 25,  9,  0, 27, 10,  0, 13,  4, 19, 25,\n",
      "          8,  0, 25, 11,  0, 14,  4, 26, 31, 27, 10,  0, 26, 31, 27, 10,  0,  6,  5,  4, 17, 26,  7,\n",
      "          0, 21, 25, 12,  0,  6,  6,  4,  ..., 11,  4, 22, 29,  7,  0, 21, 31, 30,  8,  0,  7, 12,  4,\n",
      "         22, 28,  6,  0, 24, 11,  0,  7, 13,  4, 21, 28,  7,  0, 19, 27, 10,  0,  7, 14,  4, 19, 24,\n",
      "          7,  0, 17, 27, 11,  0,  8,  5,  4, 17, 27,  7,  0, 26,  8,  0,  8,  6,  4, 22, 29,  8,  0,\n",
      "         26, 31, 27,  7,  0,  8,  7,  4, 22, 31, 30,  8,  0, 27, 31, 28,  6, 16, 22,  2,  0,  8,  8,\n",
      "          4, 21, 31, 28,  6,  0, 22, 23, 26, 13,  0,  8,  9,  4, 22, 31, 30],\n",
      "        [15,  6,  4, 27,  8,  0, 26, 10,  0,  7,  4, 25,  8,  0, 25, 10,  0,  8,  4, 30,  8,  0, 23,\n",
      "         11,  0,  9,  4, 23,  8,  0, 19, 25, 11,  0, 10,  4, 19, 28,  8,  0, 27, 10,  0, 11,  4, 26,\n",
      "          8,  0, 17, 28, 10,  0, 12,  4, 17, 27,  7,  0, 19, 28, 11,  0, 13,  4, 19, 24, 26,  7,  0,\n",
      "         30, 11,  0, 14,  4, 20,  3, 20,  0, 17, 26, 11,  0,  6,  5,  4, 27,  9,  0, 26, 31, 27,  9,\n",
      "          0,  6,  6,  4, 26, 31, 27,  9,  ...,  8,  0, 22, 29, 11,  2,  0,  7, 11,  4, 18, 30,  6,  0,\n",
      "         22, 27, 13,  0,  7, 12,  4, 19, 29,  6,  0, 22, 27,  8,  0,  7, 13,  4, 22, 23, 27,  6,  0,\n",
      "         22, 29, 27, 11,  0,  7, 14,  4, 22, 31, 27,  8,  0, 22, 31, 27,  8,  0,  8,  5,  4, 18, 29,\n",
      "          7,  0, 29, 10,  0,  8,  6,  4, 22, 28,  7,  0, 30, 10,  0,  8,  7,  4, 22, 26,  7,  0, 17,\n",
      "         28,  9,  0,  8,  8,  4, 22, 26, 13,  2,  0, 18, 28, 12,  0,  8,  9],\n",
      "        [15,  6,  4, 27,  9,  0, 27, 10,  0,  7,  4, 19, 28,  8,  0, 19, 25, 11,  0,  8,  4, 17, 24,\n",
      "         10,  0, 26, 11,  0,  9,  4, 19, 25,  8,  0, 19, 28, 11,  0, 10,  4, 26,  8,  0, 23, 11,  0,\n",
      "         11,  4, 17, 31, 25, 11,  2,  0, 24, 31, 25, 11,  0, 12,  4, 24,  8,  0, 17, 29,  9,  0, 13,\n",
      "          4, 17, 24,  7,  0, 17, 27, 12,  0, 14,  4, 20,  3, 20,  0, 20,  3, 20,  0,  6,  5,  4, 21,\n",
      "         26,  7,  0, 17, 31, 28,  8,  0,  ...,  0,  7, 10,  4, 28, 10,  0, 22, 31, 26,  9,  0,  7, 11,\n",
      "          4, 19, 25, 10,  0, 22, 30,  9,  0,  7, 12,  4, 22, 29,  7,  0, 22, 23, 10,  0,  7, 13,  4,\n",
      "         24,  9,  0, 22, 31, 24,  9,  0,  7, 14,  4, 22, 25,  6,  0, 22, 24, 24, 10,  0,  8,  5,  4,\n",
      "         28, 11,  0, 29, 11,  0,  8,  6,  4, 19, 26,  8,  0, 22, 26, 10,  0,  8,  7,  4, 22, 26,  7,\n",
      "          0, 19, 26, 12,  0,  8,  8,  4, 22, 31, 25, 12,  0, 30, 10,  0,  8]])\n",
      "Shortest length: 32\n",
      "Moving model to device:  cpu\n",
      "Input dataframe file data/lichess_test.csv\n",
      "AND NOW:\n"
     ]
    }
   ],
   "source": [
    "importlib.reload(chess_utils)\n",
    "\n",
    "torch.set_printoptions(\n",
    "    edgeitems=100,    # Increase number of edge items to display (default: 3)\n",
    "    linewidth=100,    # Increase line width for tensor display\n",
    "    profile=\"default\"  # Ensure full output\n",
    ")\n",
    "\n",
    "probe_data = train_test_chess.construct_linear_probe_data(\n",
    "    input_dataframe_file,\n",
    "    dataset_prefix,\n",
    "    n_layers,\n",
    "    model_name,\n",
    "    config,\n",
    "    num_games,\n",
    "    DEVICE,\n",
    ")\n",
    "if DEVICE == \"cpu\":\n",
    "    probe_data.model.cpu()\n",
    "print(f\"Input dataframe file {input_dataframe_file}\")\n",
    "\n",
    "#print(probe_data.board_seqs_string)\n",
    "print(\"AND NOW:\")\n",
    "num_games = 4\n",
    "game = 1\n",
    "games_to_run = probe_data.board_seqs_string[:num_games]\n",
    "game_length_in_chars = len(games_to_run[0])\n",
    "state_stacks_all_chars_MBlRR = chess_utils.create_state_stacks(games_to_run, config.custom_board_state_function)\n",
    "#print(state_stacks_all_chars_MBlRR.shape)\n",
    "logger.info(f\"state_stack shape: {state_stacks_all_chars_MBlRR.shape}\")\n",
    "assert(state_stacks_all_chars_MBlRR.shape) == (modes, num_games, game_length_in_chars, config.num_rows, config.num_cols)\n",
    "#This is the indices of the periods rights before the white moves\n",
    "white_move_indices_BL = probe_data.custom_indices[:num_games]\n",
    "#print(f\"2nd transcript {games_to_run[game]}\")\n",
    "#print(f\"and the white moves are {white_move_indices_BL[game]}\")\n",
    "#print(white_move_indices_BL.shape)\n",
    "num_white_moves = white_move_indices_BL.shape[1]\n",
    "#print(f\"Num white moves {num_white_moves}\")\n",
    "##What about if the game is super compact and goes a move over? Ignore for now\n",
    "assert(white_move_indices_BL.shape) == (num_games, num_white_moves)\n"
   ]
  },
  {
   "cell_type": "code",
   "execution_count": 6,
   "metadata": {},
   "outputs": [
    {
     "name": "stdout",
     "output_type": "stream",
     "text": [
      "\n",
      "Selecting the game of interest\n",
      "torch.Size([10, 365])\n",
      "torch.Size([1, 4, 365, 8, 8])\n",
      "torch.Size([4, 32])\n",
      "10 365\n"
     ]
    }
   ],
   "source": [
    "print(\"\\nSelecting the game of interest\")\n",
    "print(probe_data.board_seqs_int.shape)\n",
    "print(state_stacks_all_chars_MBlRR.shape)\n",
    "print(white_move_indices_BL.shape)\n",
    "##This is the straight un string of chars \n",
    "bss = probe_data.board_seqs_string\n",
    "\n",
    "print(len(bss), len(bss[0]))\n",
    "#print(bss[0])\n",
    "\n",
    "game_of_interest = 2\n",
    "## and this is the sequence of tokens\n",
    "bsi = probe_data.board_seqs_int\n",
    "bsi_interest = bsi[game_of_interest]\n",
    "#print(f\"before unsqueeze the shape is {bsi_interest.shape}, and it looks like {bsi_interest}\")\n",
    "probe_data.board_seqs_int = bsi_interest.unsqueeze(0)\n",
    "#print(f\"after unsqueeze the shape is {bsi_interest.shape}, and it looks like {bsi_interest}\")\n",
    "\n",
    "##Take only the string of the game of interest\n",
    "probe_data.board_seqs_string = [probe_data.board_seqs_string[game_of_interest]]\n",
    "\n",
    "probe_data.custom_indices = white_move_indices_BL[game_of_interest].unsqueeze(0)"
   ]
  },
  {
   "cell_type": "code",
   "execution_count": 7,
   "metadata": {},
   "outputs": [
    {
     "name": "stdout",
     "output_type": "stream",
     "text": [
      "shape of selected state stacks torch.Size([1, 1, 365, 8, 8])\n"
     ]
    }
   ],
   "source": [
    "##select the state stacks\n",
    "state_stacks_all_chars_MBlRR = state_stacks_all_chars_MBlRR[:, game_of_interest, :, :, :].unsqueeze(1)\n",
    "print(f\"shape of selected state stacks {state_stacks_all_chars_MBlRR.shape}\")\n",
    "##This makes little sense it looks like hes just recalculating the value of probedata custom indices\n",
    "white_move_indices_BL = white_move_indices_BL[game_of_interest].unsqueeze(0)\n",
    "\n"
   ]
  },
  {
   "cell_type": "code",
   "execution_count": 8,
   "metadata": {},
   "outputs": [
    {
     "name": "stdout",
     "output_type": "stream",
     "text": [
      "torch.Size([1, 365])\n",
      "torch.Size([1, 1, 365, 8, 8])\n",
      "torch.Size([1, 32])\n",
      "1 365\n"
     ]
    }
   ],
   "source": [
    "##Conclusion\n",
    "print(probe_data.board_seqs_int.shape)\n",
    "print(state_stacks_all_chars_MBlRR.shape)\n",
    "print(white_move_indices_BL.shape)\n",
    "print(len(probe_data.board_seqs_string), len(probe_data.board_seqs_string[0]))\n",
    "\n",
    "##Everything should be of size 1"
   ]
  },
  {
   "cell_type": "markdown",
   "metadata": {},
   "source": [
    "Here is an explanation of all the data we just generated:"
   ]
  },
  {
   "cell_type": "code",
   "execution_count": 9,
   "metadata": {},
   "outputs": [
    {
     "name": "stdout",
     "output_type": "stream",
     "text": [
      "All pgn strings are of length 365\n",
      "For game 2, the pgn string is ;1.e4 e5 2.Bc4 Nf6 3.Nc3 Qe7 4.d3 h6 5.h3 c6 6.Nf3 d6 7.O-O g5 8.Be3 g4 9.hxg4 Bxg4 10.b4 d5 11.exd5 cxd5 12.Nxd5 Nxd5 13.Bxd5 Nc6 14.c3 Qf6 15.b5 Ne7 16.Bxb7 Rb8 17.Bc6+ Nxc6 18.bxc6 Bd6 19.Qa4 O-O 20.Nh2 Be2 21.Rfb1 Rxb1+ 22.Rxb1 Bxd3 23.Rb7 Kh7 24.c7 Rg8 25.Qxa7 Qg6 26.g3 Be2 27.Rb8 Bf8 28.c8=Q h5 29.Qxf8 Rxf8 30.Rxf8 Kg7 31.Qb8 Qh7 32.Qxe5+ Kxf8 33.Bc5+ Kg8 3\n",
      "Using our encode functions, it's represented as ints that are fed as input to the GPT model with shape torch.Size([1, 365])\n",
      "The first 30 characters of board_seqs_ints looks like this: tensor([[15,  6,  4, 27,  9,  0, 27, 10,  0,  7,  4, 17, 25,  9,  0, 19, 28, 11,  0,  8,  4, 19, 25,\n",
      "          8,  0, 21, 27, 12,  0,  9]])\n",
      "state_stacks_all_chars contains the board state at every char index in the pgn string with shape torch.Size([1, 1, 365, 8, 8])\n",
      "white_move_indices contains the index of every white move in the pgn string with shape torch.Size([1, 32])\n",
      "That means there are 32 white moves in the game\n",
      "For example, in ;1.e4 e5 2.Bc4, the white move indices are tensor([[ 2, 10]], dtype=torch.int32) (the indices of each period)\n"
     ]
    }
   ],
   "source": [
    "print(f\"All pgn strings are of length {game_length_in_chars}\")\n",
    "print(f\"For game {game_of_interest}, the pgn string is {probe_data.board_seqs_string[0]}\")\n",
    "print(f\"Using our encode functions, it's represented as ints that are fed as input to the GPT model with shape {probe_data.board_seqs_int.shape}\")\n",
    "print(f\"The first 30 characters of board_seqs_ints looks like this: {probe_data.board_seqs_int[:, :30]}\")\n",
    "print(f\"state_stacks_all_chars contains the board state at every char index in the pgn string with shape {state_stacks_all_chars_MBlRR.shape}\")\n",
    "print(f\"white_move_indices contains the index of every white move in the pgn string with shape {white_move_indices_BL.shape}\")\n",
    "print(f\"That means there are {num_white_moves} white moves in the game\")\n",
    "print(f\"For example, in {probe_data.board_seqs_string[0][:14]}, the white move indices are {white_move_indices_BL[:, :2]} (the indices of each period)\")\n",
    "\n"
   ]
  },
  {
   "cell_type": "code",
   "execution_count": 10,
   "metadata": {},
   "outputs": [
    {
     "name": "stdout",
     "output_type": "stream",
     "text": [
      "torch.Size([1, 512, 8, 8, 13])\n"
     ]
    },
    {
     "name": "stderr",
     "output_type": "stream",
     "text": [
      "/tmp/ipykernel_6078/443782230.py:2: FutureWarning: You are using `torch.load` with `weights_only=False` (the current default value), which uses the default pickle module implicitly. It is possible to construct malicious pickle data which will execute arbitrary code during unpickling (See https://github.com/pytorch/pytorch/blob/main/SECURITY.md#untrusted-models for more details). In a future release, the default value for `weights_only` will be flipped to `True`. This limits the functions that could be executed during unpickling. Arbitrary objects will no longer be allowed to be loaded via this mode unless they are explicitly allowlisted by the user via `torch.serialization.add_safe_globals`. We recommend you start setting `weights_only=True` for any use case where you don't have full control of the loaded file. Please open an issue on GitHub for any issues related to this experimental feature.\n",
      "  checkpoint = torch.load(probe_file_location, map_location=torch.device(DEVICE))\n"
     ]
    }
   ],
   "source": [
    "##Loading the model and the probe\n",
    "checkpoint = torch.load(probe_file_location, map_location=torch.device(DEVICE))\n",
    "linear_probe_MDRRC = checkpoint[\"linear_probe\"]\n",
    "##this is the straight-up probe matrix (this means no activation I believe)\n",
    "print(linear_probe_MDRRC.shape)\n",
    "\n",
    "##Apparently max and min val in config are the range of the one hot encoding\n",
    "##For other games I suppose? Look into this\n",
    "one_hot_range = config.max_val - config.min_val + 1\n",
    "\n",
    "board_seqs_int_BL = probe_data.board_seqs_int[:].to(DEVICE)\n",
    "\n",
    "assert(board_seqs_int_BL.shape) == (1, game_length_in_chars)\n",
    "\n",
    "indexed_state_stacks_MBLRR = []"
   ]
  },
  {
   "cell_type": "code",
   "execution_count": 11,
   "metadata": {},
   "outputs": [],
   "source": [
    "##this sample size object is designed to handle these visualisations on multiple games\n",
    "for batch_idx in range(sample_size):\n",
    "    # Get the indices for the current batch\n",
    "    ##what is up with the constant renaming??\n",
    "    dots_indices_for_batch_L = white_move_indices_BL[batch_idx]\n",
    "\n",
    "    # Index the state_stack for the current batch. Adding an unsqueeze operation to maintain the batch dimension.\n",
    "    indexed_state_stack_MLRR = state_stacks_all_chars_MBlRR[:, batch_idx:batch_idx+1, dots_indices_for_batch_L, :, :]\n",
    "\n",
    "    # Append the result to the list\n",
    "    ##this list isnt a real list, its lenght is 1\n",
    "    indexed_state_stacks_MBLRR.append(indexed_state_stack_MLRR)\n",
    "\n"
   ]
  },
  {
   "cell_type": "markdown",
   "metadata": {},
   "source": [
    "Important note: At the bottom of the below cell, I currently am using softmax to view probe output probabilities. You can comment that out to view raw logits instead.\n",
    "\n",
    "In this cell, we input the board_seqs_int to the GPT to obtain resid_post, the intermediate activations after our layer of interest. We index into resid_post using white_move_indices. These indexed resid_posts are then input to the linear probe, which outputs probe_out, a probability distribution for the state of every square on the board."
   ]
  },
  {
   "cell_type": "code",
   "execution_count": 12,
   "metadata": {},
   "outputs": [
    {
     "name": "stdout",
     "output_type": "stream",
     "text": [
      "torch.Size([1, 1, 32, 8, 8])\n",
      "state stack shapes\n",
      "torch.Size([1, 1, 32, 8, 8])\n",
      "torch.Size([1, 1, 365, 8, 8])\n"
     ]
    }
   ],
   "source": [
    "# Concatenate the indexed state stacks along the second dimension (batch dimension)\n",
    "# Since we're maintaining the batch dimension during indexing, we don't need to add it back in\n",
    "\n",
    "print(indexed_state_stacks_MBLRR[0].shape)\n",
    "##does this renaming mean something or is it lazy name tracking?\n",
    "state_stack_white_moves_MBLRR = torch.cat(indexed_state_stacks_MBLRR, dim=1)\n",
    "\n",
    "print(\"state stack shapes\")\n",
    "print(state_stack_white_moves_MBLRR.shape)\n",
    "print(state_stacks_all_chars_MBlRR.shape)"
   ]
  },
  {
   "cell_type": "code",
   "execution_count": 13,
   "metadata": {},
   "outputs": [],
   "source": [
    "with torch.inference_mode():\n",
    "    _, cache = probe_data.model.run_with_cache(board_seqs_int_BL[:, :-1], return_type=None)\n",
    "    \n",
    "    resid_post_BlD = cache[\"resid_post\", layer][:, :]\n",
    "\n",
    "#print(resid_post_BlD.shape)\n",
    "assert(resid_post_BlD.shape) == (sample_size, game_length_in_chars - 1, linear_probe_MDRRC.shape[1])"
   ]
  },
  {
   "cell_type": "code",
   "execution_count": 14,
   "metadata": {},
   "outputs": [
    {
     "name": "stdout",
     "output_type": "stream",
     "text": [
      "Resid post torch.Size([1, 32, 512])\n"
     ]
    }
   ],
   "source": [
    "# Initialize a list to hold the indexed state stacks\n",
    "indexed_resid_posts_BLD = []\n",
    "\n",
    "for batch_idx in range(sample_size):\n",
    "    # Get the indices for the current batch\n",
    "    # please stop\n",
    "    dots_indices_for_batch_L = white_move_indices_BL[batch_idx]\n",
    "\n",
    "    # Index the state_stack for the current batch\n",
    "    indexed_resid_post_LD = resid_post_BlD[batch_idx, dots_indices_for_batch_L]\n",
    "\n",
    "    # Append the result to the list\n",
    "    indexed_resid_posts_BLD.append(indexed_resid_post_LD)\n",
    "\n",
    "# Stack the indexed state stacks along the first dimension\n",
    "# This results in a tensor of shape [2, 61, 8, 8] (assuming all batches have 61 indices)\n",
    "resid_post_BLD = torch.stack(indexed_resid_posts_BLD)\n",
    "resid_post_BLD = resid_post_BLD.to(DEVICE)\n",
    "print(\"Resid post\", resid_post_BLD.shape)"
   ]
  },
  {
   "cell_type": "code",
   "execution_count": 15,
   "metadata": {},
   "outputs": [
    {
     "name": "stdout",
     "output_type": "stream",
     "text": [
      "Probe out shape: torch.Size([1, 1, 32, 8, 8, 13])\n"
     ]
    }
   ],
   "source": [
    "##einstein summing convention\n",
    "probe_out_MBLRRC = einsum(\n",
    "    \"batch pos d_model, modes d_model rows cols options -> modes batch pos rows cols options\",\n",
    "    resid_post_BLD,\n",
    "    linear_probe_MDRRC,\n",
    ")\n",
    "\n",
    "#print(f\"Probe out info: {probe_out_MBLRRC}\")\n",
    "probe_out_MBLRRC = probe_out_MBLRRC.log_softmax(-1)\n",
    "print(f\"Probe out shape: {probe_out_MBLRRC.shape}\")\n",
    "assert(probe_out_MBLRRC.shape) == (modes, sample_size, white_move_indices_BL.shape[1], config.num_rows, config.num_cols, one_hot_range)"
   ]
  },
  {
   "cell_type": "markdown",
   "metadata": {},
   "source": [
    "Here you can select which move you want to visualize (move_of_interest)."
   ]
  },
  {
   "cell_type": "code",
   "execution_count": 16,
   "metadata": {},
   "outputs": [
    {
     "name": "stdout",
     "output_type": "stream",
     "text": [
      "torch.Size([8, 8])\n",
      "tensor([[ 4,  0,  0,  5,  0,  4,  6,  0],\n",
      "        [ 1,  0,  1,  0,  0,  1,  1,  0],\n",
      "        [ 0,  0,  2,  1,  3,  2,  0,  0],\n",
      "        [ 0,  1,  3,  0,  0,  0, -3,  0],\n",
      "        [ 0,  0,  0, -1, -1,  0,  0,  0],\n",
      "        [ 0,  0,  0,  0,  0, -2,  0, -1],\n",
      "        [-1, -1,  0,  0, -5, -1,  0,  0],\n",
      "        [-4, -2,  0,  0, -6, -3,  0, -4]], dtype=torch.int8)\n"
     ]
    }
   ],
   "source": [
    "move_of_interest = 11\n",
    "GAME_IDX = 0 # After refactoring to discard unused games, this is always 0\n",
    "move_of_interest_index = white_move_indices_BL[GAME_IDX][move_of_interest] # Used to select pgn strings\n",
    "move_of_interest_state_RR = state_stack_white_moves_MBLRR[0][GAME_IDX][move_of_interest]\n",
    "print(move_of_interest_state_RR.shape)\n",
    "print(move_of_interest_state_RR)"
   ]
  },
  {
   "cell_type": "markdown",
   "metadata": {},
   "source": [
    "Now we one hot encode our move_of_interest and store it in move_of_interest_state_one_hot."
   ]
  },
  {
   "cell_type": "code",
   "execution_count": 17,
   "metadata": {},
   "outputs": [
    {
     "name": "stdout",
     "output_type": "stream",
     "text": [
      "torch.Size([1, 1, 32, 8, 8, 13])\n",
      "torch.Size([8, 8, 13])\n"
     ]
    }
   ],
   "source": [
    "##this is one hot encoding of the previous version, so just ones where the pieces are\n",
    "state_stacks_one_hot_MBLRRC = chess_utils.state_stack_to_one_hot(modes, config.num_rows, config.num_cols, config.min_val, config.max_val, DEVICE, state_stack_white_moves_MBLRR)\n",
    "print(state_stacks_one_hot_MBLRRC.shape)\n",
    "assert(state_stacks_one_hot_MBLRRC.shape) == (modes, sample_size, num_white_moves, config.num_rows, config.num_cols, one_hot_range)\n",
    "move_of_interest_state_one_hot_RRC = state_stacks_one_hot_MBLRRC[0][GAME_IDX][move_of_interest]\n",
    "print(move_of_interest_state_one_hot_RRC.shape)"
   ]
  },
  {
   "cell_type": "markdown",
   "metadata": {},
   "source": [
    "We get the argmax of each square's probe probability distribution and store it in state_stacks_probe_outputs for easy graphing."
   ]
  },
  {
   "cell_type": "code",
   "execution_count": 18,
   "metadata": {},
   "outputs": [
    {
     "name": "stdout",
     "output_type": "stream",
     "text": [
      "torch.Size([8, 8, 13])\n",
      "torch.Size([1, 1, 32, 8, 8, 13])\n",
      "torch.Size([1, 1, 32, 8, 8])\n",
      "tensor([[ 4,  2,  0,  5,  0,  0,  6,  0],\n",
      "        [ 0,  1,  0,  0,  0,  1,  3,  0],\n",
      "        [ 0,  0,  0,  0,  0,  0,  1,  0],\n",
      "        [ 0,  0,  0,  0,  0,  0,  0,  0],\n",
      "        [ 0,  0,  0, -1, -1,  0,  0,  0],\n",
      "        [ 0,  0,  0,  0,  0,  0, -1,  0],\n",
      "        [-1, -1, -1,  0,  0, -1, -3, -1],\n",
      "        [-4, -2, -3, -5, -6,  0, -6, -4]])\n"
     ]
    },
    {
     "name": "stderr",
     "output_type": "stream",
     "text": [
      "/tmp/ipykernel_6078/1390504110.py:4: UserWarning: To copy construct from a tensor, it is recommended to use sourceTensor.clone().detach() or sourceTensor.clone().detach().requires_grad_(True), rather than torch.tensor(sourceTensor).\n",
      "  state_stacks_probe_outputs_MBLRR = torch.tensor(state_stacks_probe_outputs_MBLRR)\n"
     ]
    }
   ],
   "source": [
    "print(move_of_interest_state_one_hot_RRC.shape)\n",
    "print(state_stacks_one_hot_MBLRRC.shape)\n",
    "state_stacks_probe_outputs_MBLRR = chess_utils.one_hot_to_state_stack(probe_out_MBLRRC, config.min_val)\n",
    "state_stacks_probe_outputs_MBLRR = torch.tensor(state_stacks_probe_outputs_MBLRR)\n",
    "print(state_stacks_probe_outputs_MBLRR.shape)\n",
    "assert(state_stacks_probe_outputs_MBLRR.shape) == (modes, sample_size, num_white_moves, config.num_rows, config.num_cols)\n",
    "print(state_stacks_probe_outputs_MBLRR[0][GAME_IDX][move_of_interest])"
   ]
  },
  {
   "cell_type": "markdown",
   "metadata": {},
   "source": [
    "Change blank_index, king_index, or pawn_index if you want to visualize the probe's view of other pieces. For example, if I want to see the black queen, I could set blank_index = -5 (refer to INT_TO_CHAR for the mapping)"
   ]
  },
  {
   "cell_type": "code",
   "execution_count": 19,
   "metadata": {},
   "outputs": [
    {
     "name": "stdout",
     "output_type": "stream",
     "text": [
      "tensor([[0, 0, 0, 0, 0, 0, 0, 0],\n",
      "        [1, 0, 1, 0, 0, 1, 1, 0],\n",
      "        [0, 0, 0, 1, 0, 0, 0, 0],\n",
      "        [0, 1, 0, 0, 0, 0, 0, 0],\n",
      "        [0, 0, 0, 0, 0, 0, 0, 0],\n",
      "        [0, 0, 0, 0, 0, 0, 0, 0],\n",
      "        [0, 0, 0, 0, 0, 0, 0, 0],\n",
      "        [0, 0, 0, 0, 0, 0, 0, 0]], dtype=torch.int8)\n",
      "torch.Size([8, 8, 13])\n"
     ]
    },
    {
     "data": {
      "application/vnd.plotly.v1+json": {
       "config": {
        "plotlyServerURL": "https://plot.ly"
       },
       "data": [
        {
         "colorscale": [
          [
           0,
           "rgb(0, 0, 0)"
          ],
          [
           0.09090909090909091,
           "rgb(16, 16, 16)"
          ],
          [
           0.18181818181818182,
           "rgb(38, 38, 38)"
          ],
          [
           0.2727272727272727,
           "rgb(59, 59, 59)"
          ],
          [
           0.36363636363636365,
           "rgb(81, 80, 80)"
          ],
          [
           0.45454545454545453,
           "rgb(102, 101, 101)"
          ],
          [
           0.5454545454545454,
           "rgb(124, 123, 122)"
          ],
          [
           0.6363636363636364,
           "rgb(146, 146, 145)"
          ],
          [
           0.7272727272727273,
           "rgb(171, 171, 170)"
          ],
          [
           0.8181818181818182,
           "rgb(197, 197, 195)"
          ],
          [
           0.9090909090909091,
           "rgb(224, 224, 223)"
          ],
          [
           1,
           "rgb(254, 254, 253)"
          ]
         ],
         "showscale": true,
         "type": "heatmap",
         "z": [
          [
           -25.24128532409668,
           -25.120140075683594,
           -24.96632194519043,
           -25.98796272277832,
           -24.85313606262207,
           -24.821060180664062,
           -24.68372917175293,
           -24.35652732849121
          ],
          [
           -0.7507947087287903,
           -0.49087831377983093,
           -1.1825754642486572,
           -4.496184349060059,
           -2.8425087928771973,
           -0.06307569891214371,
           -1.95229172706604,
           -1.4703271389007568
          ],
          [
           -1.9858288764953613,
           -1.2019448280334473,
           -2.4988980293273926,
           -1.0233592987060547,
           -2.962071657180786,
           -2.629657506942749,
           -0.622174859046936,
           -1.3906103372573853
          ],
          [
           -3.1996400356292725,
           -2.1989316940307617,
           -1.906589150428772,
           -2.4043307304382324,
           -0.928173840045929,
           -4.444456100463867,
           -4.023708820343018,
           -3.683992624282837
          ],
          [
           -4.690531253814697,
           -3.3728184700012207,
           -3.757720947265625,
           -1.3644717931747437,
           -2.732668876647949,
           -6.0435404777526855,
           -4.168696403503418,
           -5.076706409454346
          ],
          [
           -7.275834560394287,
           -8.329769134521484,
           -7.905148983001709,
           -7.15162467956543,
           -10.778759002685547,
           -9.084436416625977,
           -6.674455165863037,
           -6.980986595153809
          ],
          [
           -16.58456802368164,
           -12.868267059326172,
           -13.494184494018555,
           -18.076688766479492,
           -14.92473030090332,
           -13.947587966918945,
           -9.991326332092285,
           -10.602726936340332
          ],
          [
           -25.532556533813477,
           -25.463329315185547,
           -25.615436553955078,
           -25.81174659729004,
           -25.8702392578125,
           -25.341201782226562,
           -24.75821876525879,
           -24.449146270751953
          ]
         ]
        }
       ],
       "layout": {
        "autosize": false,
        "height": 600,
        "template": {
         "data": {
          "bar": [
           {
            "error_x": {
             "color": "#2a3f5f"
            },
            "error_y": {
             "color": "#2a3f5f"
            },
            "marker": {
             "line": {
              "color": "#E5ECF6",
              "width": 0.5
             },
             "pattern": {
              "fillmode": "overlay",
              "size": 10,
              "solidity": 0.2
             }
            },
            "type": "bar"
           }
          ],
          "barpolar": [
           {
            "marker": {
             "line": {
              "color": "#E5ECF6",
              "width": 0.5
             },
             "pattern": {
              "fillmode": "overlay",
              "size": 10,
              "solidity": 0.2
             }
            },
            "type": "barpolar"
           }
          ],
          "carpet": [
           {
            "aaxis": {
             "endlinecolor": "#2a3f5f",
             "gridcolor": "white",
             "linecolor": "white",
             "minorgridcolor": "white",
             "startlinecolor": "#2a3f5f"
            },
            "baxis": {
             "endlinecolor": "#2a3f5f",
             "gridcolor": "white",
             "linecolor": "white",
             "minorgridcolor": "white",
             "startlinecolor": "#2a3f5f"
            },
            "type": "carpet"
           }
          ],
          "choropleth": [
           {
            "colorbar": {
             "outlinewidth": 0,
             "ticks": ""
            },
            "type": "choropleth"
           }
          ],
          "contour": [
           {
            "colorbar": {
             "outlinewidth": 0,
             "ticks": ""
            },
            "colorscale": [
             [
              0,
              "#0d0887"
             ],
             [
              0.1111111111111111,
              "#46039f"
             ],
             [
              0.2222222222222222,
              "#7201a8"
             ],
             [
              0.3333333333333333,
              "#9c179e"
             ],
             [
              0.4444444444444444,
              "#bd3786"
             ],
             [
              0.5555555555555556,
              "#d8576b"
             ],
             [
              0.6666666666666666,
              "#ed7953"
             ],
             [
              0.7777777777777778,
              "#fb9f3a"
             ],
             [
              0.8888888888888888,
              "#fdca26"
             ],
             [
              1,
              "#f0f921"
             ]
            ],
            "type": "contour"
           }
          ],
          "contourcarpet": [
           {
            "colorbar": {
             "outlinewidth": 0,
             "ticks": ""
            },
            "type": "contourcarpet"
           }
          ],
          "heatmap": [
           {
            "colorbar": {
             "outlinewidth": 0,
             "ticks": ""
            },
            "colorscale": [
             [
              0,
              "#0d0887"
             ],
             [
              0.1111111111111111,
              "#46039f"
             ],
             [
              0.2222222222222222,
              "#7201a8"
             ],
             [
              0.3333333333333333,
              "#9c179e"
             ],
             [
              0.4444444444444444,
              "#bd3786"
             ],
             [
              0.5555555555555556,
              "#d8576b"
             ],
             [
              0.6666666666666666,
              "#ed7953"
             ],
             [
              0.7777777777777778,
              "#fb9f3a"
             ],
             [
              0.8888888888888888,
              "#fdca26"
             ],
             [
              1,
              "#f0f921"
             ]
            ],
            "type": "heatmap"
           }
          ],
          "heatmapgl": [
           {
            "colorbar": {
             "outlinewidth": 0,
             "ticks": ""
            },
            "colorscale": [
             [
              0,
              "#0d0887"
             ],
             [
              0.1111111111111111,
              "#46039f"
             ],
             [
              0.2222222222222222,
              "#7201a8"
             ],
             [
              0.3333333333333333,
              "#9c179e"
             ],
             [
              0.4444444444444444,
              "#bd3786"
             ],
             [
              0.5555555555555556,
              "#d8576b"
             ],
             [
              0.6666666666666666,
              "#ed7953"
             ],
             [
              0.7777777777777778,
              "#fb9f3a"
             ],
             [
              0.8888888888888888,
              "#fdca26"
             ],
             [
              1,
              "#f0f921"
             ]
            ],
            "type": "heatmapgl"
           }
          ],
          "histogram": [
           {
            "marker": {
             "pattern": {
              "fillmode": "overlay",
              "size": 10,
              "solidity": 0.2
             }
            },
            "type": "histogram"
           }
          ],
          "histogram2d": [
           {
            "colorbar": {
             "outlinewidth": 0,
             "ticks": ""
            },
            "colorscale": [
             [
              0,
              "#0d0887"
             ],
             [
              0.1111111111111111,
              "#46039f"
             ],
             [
              0.2222222222222222,
              "#7201a8"
             ],
             [
              0.3333333333333333,
              "#9c179e"
             ],
             [
              0.4444444444444444,
              "#bd3786"
             ],
             [
              0.5555555555555556,
              "#d8576b"
             ],
             [
              0.6666666666666666,
              "#ed7953"
             ],
             [
              0.7777777777777778,
              "#fb9f3a"
             ],
             [
              0.8888888888888888,
              "#fdca26"
             ],
             [
              1,
              "#f0f921"
             ]
            ],
            "type": "histogram2d"
           }
          ],
          "histogram2dcontour": [
           {
            "colorbar": {
             "outlinewidth": 0,
             "ticks": ""
            },
            "colorscale": [
             [
              0,
              "#0d0887"
             ],
             [
              0.1111111111111111,
              "#46039f"
             ],
             [
              0.2222222222222222,
              "#7201a8"
             ],
             [
              0.3333333333333333,
              "#9c179e"
             ],
             [
              0.4444444444444444,
              "#bd3786"
             ],
             [
              0.5555555555555556,
              "#d8576b"
             ],
             [
              0.6666666666666666,
              "#ed7953"
             ],
             [
              0.7777777777777778,
              "#fb9f3a"
             ],
             [
              0.8888888888888888,
              "#fdca26"
             ],
             [
              1,
              "#f0f921"
             ]
            ],
            "type": "histogram2dcontour"
           }
          ],
          "mesh3d": [
           {
            "colorbar": {
             "outlinewidth": 0,
             "ticks": ""
            },
            "type": "mesh3d"
           }
          ],
          "parcoords": [
           {
            "line": {
             "colorbar": {
              "outlinewidth": 0,
              "ticks": ""
             }
            },
            "type": "parcoords"
           }
          ],
          "pie": [
           {
            "automargin": true,
            "type": "pie"
           }
          ],
          "scatter": [
           {
            "fillpattern": {
             "fillmode": "overlay",
             "size": 10,
             "solidity": 0.2
            },
            "type": "scatter"
           }
          ],
          "scatter3d": [
           {
            "line": {
             "colorbar": {
              "outlinewidth": 0,
              "ticks": ""
             }
            },
            "marker": {
             "colorbar": {
              "outlinewidth": 0,
              "ticks": ""
             }
            },
            "type": "scatter3d"
           }
          ],
          "scattercarpet": [
           {
            "marker": {
             "colorbar": {
              "outlinewidth": 0,
              "ticks": ""
             }
            },
            "type": "scattercarpet"
           }
          ],
          "scattergeo": [
           {
            "marker": {
             "colorbar": {
              "outlinewidth": 0,
              "ticks": ""
             }
            },
            "type": "scattergeo"
           }
          ],
          "scattergl": [
           {
            "marker": {
             "colorbar": {
              "outlinewidth": 0,
              "ticks": ""
             }
            },
            "type": "scattergl"
           }
          ],
          "scattermapbox": [
           {
            "marker": {
             "colorbar": {
              "outlinewidth": 0,
              "ticks": ""
             }
            },
            "type": "scattermapbox"
           }
          ],
          "scatterpolar": [
           {
            "marker": {
             "colorbar": {
              "outlinewidth": 0,
              "ticks": ""
             }
            },
            "type": "scatterpolar"
           }
          ],
          "scatterpolargl": [
           {
            "marker": {
             "colorbar": {
              "outlinewidth": 0,
              "ticks": ""
             }
            },
            "type": "scatterpolargl"
           }
          ],
          "scatterternary": [
           {
            "marker": {
             "colorbar": {
              "outlinewidth": 0,
              "ticks": ""
             }
            },
            "type": "scatterternary"
           }
          ],
          "surface": [
           {
            "colorbar": {
             "outlinewidth": 0,
             "ticks": ""
            },
            "colorscale": [
             [
              0,
              "#0d0887"
             ],
             [
              0.1111111111111111,
              "#46039f"
             ],
             [
              0.2222222222222222,
              "#7201a8"
             ],
             [
              0.3333333333333333,
              "#9c179e"
             ],
             [
              0.4444444444444444,
              "#bd3786"
             ],
             [
              0.5555555555555556,
              "#d8576b"
             ],
             [
              0.6666666666666666,
              "#ed7953"
             ],
             [
              0.7777777777777778,
              "#fb9f3a"
             ],
             [
              0.8888888888888888,
              "#fdca26"
             ],
             [
              1,
              "#f0f921"
             ]
            ],
            "type": "surface"
           }
          ],
          "table": [
           {
            "cells": {
             "fill": {
              "color": "#EBF0F8"
             },
             "line": {
              "color": "white"
             }
            },
            "header": {
             "fill": {
              "color": "#C8D4E3"
             },
             "line": {
              "color": "white"
             }
            },
            "type": "table"
           }
          ]
         },
         "layout": {
          "annotationdefaults": {
           "arrowcolor": "#2a3f5f",
           "arrowhead": 0,
           "arrowwidth": 1
          },
          "autotypenumbers": "strict",
          "coloraxis": {
           "colorbar": {
            "outlinewidth": 0,
            "ticks": ""
           }
          },
          "colorscale": {
           "diverging": [
            [
             0,
             "#8e0152"
            ],
            [
             0.1,
             "#c51b7d"
            ],
            [
             0.2,
             "#de77ae"
            ],
            [
             0.3,
             "#f1b6da"
            ],
            [
             0.4,
             "#fde0ef"
            ],
            [
             0.5,
             "#f7f7f7"
            ],
            [
             0.6,
             "#e6f5d0"
            ],
            [
             0.7,
             "#b8e186"
            ],
            [
             0.8,
             "#7fbc41"
            ],
            [
             0.9,
             "#4d9221"
            ],
            [
             1,
             "#276419"
            ]
           ],
           "sequential": [
            [
             0,
             "#0d0887"
            ],
            [
             0.1111111111111111,
             "#46039f"
            ],
            [
             0.2222222222222222,
             "#7201a8"
            ],
            [
             0.3333333333333333,
             "#9c179e"
            ],
            [
             0.4444444444444444,
             "#bd3786"
            ],
            [
             0.5555555555555556,
             "#d8576b"
            ],
            [
             0.6666666666666666,
             "#ed7953"
            ],
            [
             0.7777777777777778,
             "#fb9f3a"
            ],
            [
             0.8888888888888888,
             "#fdca26"
            ],
            [
             1,
             "#f0f921"
            ]
           ],
           "sequentialminus": [
            [
             0,
             "#0d0887"
            ],
            [
             0.1111111111111111,
             "#46039f"
            ],
            [
             0.2222222222222222,
             "#7201a8"
            ],
            [
             0.3333333333333333,
             "#9c179e"
            ],
            [
             0.4444444444444444,
             "#bd3786"
            ],
            [
             0.5555555555555556,
             "#d8576b"
            ],
            [
             0.6666666666666666,
             "#ed7953"
            ],
            [
             0.7777777777777778,
             "#fb9f3a"
            ],
            [
             0.8888888888888888,
             "#fdca26"
            ],
            [
             1,
             "#f0f921"
            ]
           ]
          },
          "colorway": [
           "#636efa",
           "#EF553B",
           "#00cc96",
           "#ab63fa",
           "#FFA15A",
           "#19d3f3",
           "#FF6692",
           "#B6E880",
           "#FF97FF",
           "#FECB52"
          ],
          "font": {
           "color": "#2a3f5f"
          },
          "geo": {
           "bgcolor": "white",
           "lakecolor": "white",
           "landcolor": "#E5ECF6",
           "showlakes": true,
           "showland": true,
           "subunitcolor": "white"
          },
          "hoverlabel": {
           "align": "left"
          },
          "hovermode": "closest",
          "mapbox": {
           "style": "light"
          },
          "paper_bgcolor": "white",
          "plot_bgcolor": "#E5ECF6",
          "polar": {
           "angularaxis": {
            "gridcolor": "white",
            "linecolor": "white",
            "ticks": ""
           },
           "bgcolor": "#E5ECF6",
           "radialaxis": {
            "gridcolor": "white",
            "linecolor": "white",
            "ticks": ""
           }
          },
          "scene": {
           "xaxis": {
            "backgroundcolor": "#E5ECF6",
            "gridcolor": "white",
            "gridwidth": 2,
            "linecolor": "white",
            "showbackground": true,
            "ticks": "",
            "zerolinecolor": "white"
           },
           "yaxis": {
            "backgroundcolor": "#E5ECF6",
            "gridcolor": "white",
            "gridwidth": 2,
            "linecolor": "white",
            "showbackground": true,
            "ticks": "",
            "zerolinecolor": "white"
           },
           "zaxis": {
            "backgroundcolor": "#E5ECF6",
            "gridcolor": "white",
            "gridwidth": 2,
            "linecolor": "white",
            "showbackground": true,
            "ticks": "",
            "zerolinecolor": "white"
           }
          },
          "shapedefaults": {
           "line": {
            "color": "#2a3f5f"
           }
          },
          "ternary": {
           "aaxis": {
            "gridcolor": "white",
            "linecolor": "white",
            "ticks": ""
           },
           "baxis": {
            "gridcolor": "white",
            "linecolor": "white",
            "ticks": ""
           },
           "bgcolor": "#E5ECF6",
           "caxis": {
            "gridcolor": "white",
            "linecolor": "white",
            "ticks": ""
           }
          },
          "title": {
           "x": 0.05
          },
          "xaxis": {
           "automargin": true,
           "gridcolor": "white",
           "linecolor": "white",
           "ticks": "",
           "title": {
            "standoff": 15
           },
           "zerolinecolor": "white",
           "zerolinewidth": 2
          },
          "yaxis": {
           "automargin": true,
           "gridcolor": "white",
           "linecolor": "white",
           "ticks": "",
           "title": {
            "standoff": 15
           },
           "zerolinecolor": "white",
           "zerolinewidth": 2
          }
         }
        },
        "title": {
         "text": "Chess board white pawns"
        },
        "width": 600,
        "xaxis": {
         "nticks": 8,
         "ticks": ""
        },
        "yaxis": {
         "nticks": 8,
         "ticks": ""
        }
       }
      }
     },
     "metadata": {},
     "output_type": "display_data"
    }
   ],
   "source": [
    "\n",
    "INT_TO_CHAR = {\n",
    "    -6: \"\\u265a\",\n",
    "    -5: \"\\u265b\",\n",
    "    -4: \"\\u265c\",\n",
    "    -3: \"\\u265d\",\n",
    "    -2: \"\\u265e\",\n",
    "    -1: \"\\u265f\",\n",
    "    0: \".\",\n",
    "    1: \"\\u2659\",\n",
    "    2: \"\\u2658\",\n",
    "    3: \"\\u2657\",\n",
    "    4: \"\\u2656\",\n",
    "    5: \"\\u2655\",\n",
    "    6: \"\\u2654\",\n",
    "}\n",
    "\n",
    "# Mapping of integers to chess pieces\n",
    "# I'm duplicating this from chess_utils.py for easy reference\n",
    "PIECE_TO_ONE_HOT_MAPPING = {\n",
    "    -6: 0,\n",
    "    -5: 1,\n",
    "    -4: 2,\n",
    "    -3: 3,\n",
    "    -2: 4,\n",
    "    -1: 5,\n",
    "    0: 6,\n",
    "    1: 7,\n",
    "    2: 8,\n",
    "    3: 9,\n",
    "    4: 10,\n",
    "    5: 11,\n",
    "    6: 12,\n",
    "}\n",
    "\n",
    "# Mapping of chess pieces to integers\n",
    "PIECE_TO_INT = {\n",
    "    chess.PAWN: 1,\n",
    "    chess.KNIGHT: 2,\n",
    "    chess.BISHOP: 3,\n",
    "    chess.ROOK: 4,\n",
    "    chess.QUEEN: 5,\n",
    "    chess.KING: 6,\n",
    "}\n",
    "\n",
    "INT_TO_PIECE = {value: key for key, value in PIECE_TO_INT.items()}\n",
    "\n",
    "BLANK_INDEX = PIECE_TO_ONE_HOT_MAPPING[0]\n",
    "white_pawn_index = PIECE_TO_ONE_HOT_MAPPING[1]\n",
    "black_king_index = PIECE_TO_ONE_HOT_MAPPING[-6]\n",
    "\n",
    "def plot_board_state(board_state: torch.Tensor, clip_size: int = 200, show_scale: bool = False):\n",
    "    # color scale: Black for -1, Gray for 0, White for 1\n",
    "    # colorscale = [[0.0, 'black'], [0.5, 'gray'], [1.0, 'white']]\n",
    "    colorscale = 'gray'\n",
    "    if board_state.is_cuda:\n",
    "        board_state = board_state.cpu()\n",
    "    board_state = np.clip(board_state.numpy(), -clip_size, clip_size)\n",
    "\n",
    "    # Create heatmap\n",
    "    heatmap = go.Heatmap(z=board_state, colorscale=colorscale, showscale=show_scale)\n",
    "    return heatmap\n",
    "\n",
    "print(move_of_interest_state_one_hot_RRC[:, :, white_pawn_index])\n",
    "# heatmap = plot_board_state(move_of_interest_state_one_hot[:, :, white_pawn_index], show_scale=True)\n",
    "\n",
    "move_of_interest_probe_out = probe_out_MBLRRC[0][0][move_of_interest]\n",
    "print(move_of_interest_probe_out.shape)\n",
    "\n",
    "heatmap = plot_board_state(move_of_interest_probe_out[:, :, white_pawn_index], show_scale=True)\n",
    "\n",
    "# Define the layout\n",
    "layout = go.Layout(\n",
    "    title=\"Chess board white pawns\",\n",
    "    xaxis=dict(ticks='', nticks=8),\n",
    "    yaxis=dict(ticks='', nticks=8),\n",
    "    autosize=False,\n",
    "    width=600,\n",
    "    height=600\n",
    ")\n",
    "\n",
    "# Create figure and plot\n",
    "fig = go.Figure(data=[heatmap], layout=layout)\n",
    "fig.show()"
   ]
  },
  {
   "cell_type": "code",
   "execution_count": 20,
   "metadata": {},
   "outputs": [
    {
     "data": {
      "application/vnd.plotly.v1+json": {
       "config": {
        "plotlyServerURL": "https://plot.ly"
       },
       "data": [
        {
         "colorscale": [
          [
           0,
           "white"
          ],
          [
           0.49,
           "white"
          ],
          [
           0.5,
           "grey"
          ],
          [
           0.51,
           "white"
          ],
          [
           1,
           "white"
          ]
         ],
         "showscale": false,
         "text": [
          [
           "♖",
           ".",
           ".",
           "♕",
           ".",
           "♖",
           "♔",
           "."
          ],
          [
           "♙",
           ".",
           "♙",
           ".",
           ".",
           "♙",
           "♙",
           "."
          ],
          [
           ".",
           ".",
           "♘",
           "♙",
           "♗",
           "♘",
           ".",
           "."
          ],
          [
           ".",
           "♙",
           "♗",
           ".",
           ".",
           ".",
           "♝",
           "."
          ],
          [
           ".",
           ".",
           ".",
           "♟",
           "♟",
           ".",
           ".",
           "."
          ],
          [
           ".",
           ".",
           ".",
           ".",
           ".",
           "♞",
           ".",
           "♟"
          ],
          [
           "♟",
           "♟",
           ".",
           ".",
           "♛",
           "♟",
           ".",
           "."
          ],
          [
           "♜",
           "♞",
           ".",
           ".",
           "♚",
           "♝",
           ".",
           "♜"
          ]
         ],
         "textfont": {
          "size": 48
         },
         "texttemplate": "%{text}",
         "type": "heatmap",
         "z": [
          [
           4,
           0,
           0,
           5,
           0,
           4,
           6,
           0
          ],
          [
           1,
           0,
           1,
           0,
           0,
           1,
           1,
           0
          ],
          [
           0,
           0,
           2,
           1,
           3,
           2,
           0,
           0
          ],
          [
           0,
           1,
           3,
           0,
           0,
           0,
           -3,
           0
          ],
          [
           0,
           0,
           0,
           -1,
           -1,
           0,
           0,
           0
          ],
          [
           0,
           0,
           0,
           0,
           0,
           -2,
           0,
           -1
          ],
          [
           -1,
           -1,
           0,
           0,
           -5,
           -1,
           0,
           0
          ],
          [
           -4,
           -2,
           0,
           0,
           -6,
           -3,
           0,
           -4
          ]
         ]
        }
       ],
       "layout": {
        "autosize": false,
        "height": 600,
        "template": {
         "data": {
          "bar": [
           {
            "error_x": {
             "color": "#2a3f5f"
            },
            "error_y": {
             "color": "#2a3f5f"
            },
            "marker": {
             "line": {
              "color": "#E5ECF6",
              "width": 0.5
             },
             "pattern": {
              "fillmode": "overlay",
              "size": 10,
              "solidity": 0.2
             }
            },
            "type": "bar"
           }
          ],
          "barpolar": [
           {
            "marker": {
             "line": {
              "color": "#E5ECF6",
              "width": 0.5
             },
             "pattern": {
              "fillmode": "overlay",
              "size": 10,
              "solidity": 0.2
             }
            },
            "type": "barpolar"
           }
          ],
          "carpet": [
           {
            "aaxis": {
             "endlinecolor": "#2a3f5f",
             "gridcolor": "white",
             "linecolor": "white",
             "minorgridcolor": "white",
             "startlinecolor": "#2a3f5f"
            },
            "baxis": {
             "endlinecolor": "#2a3f5f",
             "gridcolor": "white",
             "linecolor": "white",
             "minorgridcolor": "white",
             "startlinecolor": "#2a3f5f"
            },
            "type": "carpet"
           }
          ],
          "choropleth": [
           {
            "colorbar": {
             "outlinewidth": 0,
             "ticks": ""
            },
            "type": "choropleth"
           }
          ],
          "contour": [
           {
            "colorbar": {
             "outlinewidth": 0,
             "ticks": ""
            },
            "colorscale": [
             [
              0,
              "#0d0887"
             ],
             [
              0.1111111111111111,
              "#46039f"
             ],
             [
              0.2222222222222222,
              "#7201a8"
             ],
             [
              0.3333333333333333,
              "#9c179e"
             ],
             [
              0.4444444444444444,
              "#bd3786"
             ],
             [
              0.5555555555555556,
              "#d8576b"
             ],
             [
              0.6666666666666666,
              "#ed7953"
             ],
             [
              0.7777777777777778,
              "#fb9f3a"
             ],
             [
              0.8888888888888888,
              "#fdca26"
             ],
             [
              1,
              "#f0f921"
             ]
            ],
            "type": "contour"
           }
          ],
          "contourcarpet": [
           {
            "colorbar": {
             "outlinewidth": 0,
             "ticks": ""
            },
            "type": "contourcarpet"
           }
          ],
          "heatmap": [
           {
            "colorbar": {
             "outlinewidth": 0,
             "ticks": ""
            },
            "colorscale": [
             [
              0,
              "#0d0887"
             ],
             [
              0.1111111111111111,
              "#46039f"
             ],
             [
              0.2222222222222222,
              "#7201a8"
             ],
             [
              0.3333333333333333,
              "#9c179e"
             ],
             [
              0.4444444444444444,
              "#bd3786"
             ],
             [
              0.5555555555555556,
              "#d8576b"
             ],
             [
              0.6666666666666666,
              "#ed7953"
             ],
             [
              0.7777777777777778,
              "#fb9f3a"
             ],
             [
              0.8888888888888888,
              "#fdca26"
             ],
             [
              1,
              "#f0f921"
             ]
            ],
            "type": "heatmap"
           }
          ],
          "heatmapgl": [
           {
            "colorbar": {
             "outlinewidth": 0,
             "ticks": ""
            },
            "colorscale": [
             [
              0,
              "#0d0887"
             ],
             [
              0.1111111111111111,
              "#46039f"
             ],
             [
              0.2222222222222222,
              "#7201a8"
             ],
             [
              0.3333333333333333,
              "#9c179e"
             ],
             [
              0.4444444444444444,
              "#bd3786"
             ],
             [
              0.5555555555555556,
              "#d8576b"
             ],
             [
              0.6666666666666666,
              "#ed7953"
             ],
             [
              0.7777777777777778,
              "#fb9f3a"
             ],
             [
              0.8888888888888888,
              "#fdca26"
             ],
             [
              1,
              "#f0f921"
             ]
            ],
            "type": "heatmapgl"
           }
          ],
          "histogram": [
           {
            "marker": {
             "pattern": {
              "fillmode": "overlay",
              "size": 10,
              "solidity": 0.2
             }
            },
            "type": "histogram"
           }
          ],
          "histogram2d": [
           {
            "colorbar": {
             "outlinewidth": 0,
             "ticks": ""
            },
            "colorscale": [
             [
              0,
              "#0d0887"
             ],
             [
              0.1111111111111111,
              "#46039f"
             ],
             [
              0.2222222222222222,
              "#7201a8"
             ],
             [
              0.3333333333333333,
              "#9c179e"
             ],
             [
              0.4444444444444444,
              "#bd3786"
             ],
             [
              0.5555555555555556,
              "#d8576b"
             ],
             [
              0.6666666666666666,
              "#ed7953"
             ],
             [
              0.7777777777777778,
              "#fb9f3a"
             ],
             [
              0.8888888888888888,
              "#fdca26"
             ],
             [
              1,
              "#f0f921"
             ]
            ],
            "type": "histogram2d"
           }
          ],
          "histogram2dcontour": [
           {
            "colorbar": {
             "outlinewidth": 0,
             "ticks": ""
            },
            "colorscale": [
             [
              0,
              "#0d0887"
             ],
             [
              0.1111111111111111,
              "#46039f"
             ],
             [
              0.2222222222222222,
              "#7201a8"
             ],
             [
              0.3333333333333333,
              "#9c179e"
             ],
             [
              0.4444444444444444,
              "#bd3786"
             ],
             [
              0.5555555555555556,
              "#d8576b"
             ],
             [
              0.6666666666666666,
              "#ed7953"
             ],
             [
              0.7777777777777778,
              "#fb9f3a"
             ],
             [
              0.8888888888888888,
              "#fdca26"
             ],
             [
              1,
              "#f0f921"
             ]
            ],
            "type": "histogram2dcontour"
           }
          ],
          "mesh3d": [
           {
            "colorbar": {
             "outlinewidth": 0,
             "ticks": ""
            },
            "type": "mesh3d"
           }
          ],
          "parcoords": [
           {
            "line": {
             "colorbar": {
              "outlinewidth": 0,
              "ticks": ""
             }
            },
            "type": "parcoords"
           }
          ],
          "pie": [
           {
            "automargin": true,
            "type": "pie"
           }
          ],
          "scatter": [
           {
            "fillpattern": {
             "fillmode": "overlay",
             "size": 10,
             "solidity": 0.2
            },
            "type": "scatter"
           }
          ],
          "scatter3d": [
           {
            "line": {
             "colorbar": {
              "outlinewidth": 0,
              "ticks": ""
             }
            },
            "marker": {
             "colorbar": {
              "outlinewidth": 0,
              "ticks": ""
             }
            },
            "type": "scatter3d"
           }
          ],
          "scattercarpet": [
           {
            "marker": {
             "colorbar": {
              "outlinewidth": 0,
              "ticks": ""
             }
            },
            "type": "scattercarpet"
           }
          ],
          "scattergeo": [
           {
            "marker": {
             "colorbar": {
              "outlinewidth": 0,
              "ticks": ""
             }
            },
            "type": "scattergeo"
           }
          ],
          "scattergl": [
           {
            "marker": {
             "colorbar": {
              "outlinewidth": 0,
              "ticks": ""
             }
            },
            "type": "scattergl"
           }
          ],
          "scattermapbox": [
           {
            "marker": {
             "colorbar": {
              "outlinewidth": 0,
              "ticks": ""
             }
            },
            "type": "scattermapbox"
           }
          ],
          "scatterpolar": [
           {
            "marker": {
             "colorbar": {
              "outlinewidth": 0,
              "ticks": ""
             }
            },
            "type": "scatterpolar"
           }
          ],
          "scatterpolargl": [
           {
            "marker": {
             "colorbar": {
              "outlinewidth": 0,
              "ticks": ""
             }
            },
            "type": "scatterpolargl"
           }
          ],
          "scatterternary": [
           {
            "marker": {
             "colorbar": {
              "outlinewidth": 0,
              "ticks": ""
             }
            },
            "type": "scatterternary"
           }
          ],
          "surface": [
           {
            "colorbar": {
             "outlinewidth": 0,
             "ticks": ""
            },
            "colorscale": [
             [
              0,
              "#0d0887"
             ],
             [
              0.1111111111111111,
              "#46039f"
             ],
             [
              0.2222222222222222,
              "#7201a8"
             ],
             [
              0.3333333333333333,
              "#9c179e"
             ],
             [
              0.4444444444444444,
              "#bd3786"
             ],
             [
              0.5555555555555556,
              "#d8576b"
             ],
             [
              0.6666666666666666,
              "#ed7953"
             ],
             [
              0.7777777777777778,
              "#fb9f3a"
             ],
             [
              0.8888888888888888,
              "#fdca26"
             ],
             [
              1,
              "#f0f921"
             ]
            ],
            "type": "surface"
           }
          ],
          "table": [
           {
            "cells": {
             "fill": {
              "color": "#EBF0F8"
             },
             "line": {
              "color": "white"
             }
            },
            "header": {
             "fill": {
              "color": "#C8D4E3"
             },
             "line": {
              "color": "white"
             }
            },
            "type": "table"
           }
          ]
         },
         "layout": {
          "annotationdefaults": {
           "arrowcolor": "#2a3f5f",
           "arrowhead": 0,
           "arrowwidth": 1
          },
          "autotypenumbers": "strict",
          "coloraxis": {
           "colorbar": {
            "outlinewidth": 0,
            "ticks": ""
           }
          },
          "colorscale": {
           "diverging": [
            [
             0,
             "#8e0152"
            ],
            [
             0.1,
             "#c51b7d"
            ],
            [
             0.2,
             "#de77ae"
            ],
            [
             0.3,
             "#f1b6da"
            ],
            [
             0.4,
             "#fde0ef"
            ],
            [
             0.5,
             "#f7f7f7"
            ],
            [
             0.6,
             "#e6f5d0"
            ],
            [
             0.7,
             "#b8e186"
            ],
            [
             0.8,
             "#7fbc41"
            ],
            [
             0.9,
             "#4d9221"
            ],
            [
             1,
             "#276419"
            ]
           ],
           "sequential": [
            [
             0,
             "#0d0887"
            ],
            [
             0.1111111111111111,
             "#46039f"
            ],
            [
             0.2222222222222222,
             "#7201a8"
            ],
            [
             0.3333333333333333,
             "#9c179e"
            ],
            [
             0.4444444444444444,
             "#bd3786"
            ],
            [
             0.5555555555555556,
             "#d8576b"
            ],
            [
             0.6666666666666666,
             "#ed7953"
            ],
            [
             0.7777777777777778,
             "#fb9f3a"
            ],
            [
             0.8888888888888888,
             "#fdca26"
            ],
            [
             1,
             "#f0f921"
            ]
           ],
           "sequentialminus": [
            [
             0,
             "#0d0887"
            ],
            [
             0.1111111111111111,
             "#46039f"
            ],
            [
             0.2222222222222222,
             "#7201a8"
            ],
            [
             0.3333333333333333,
             "#9c179e"
            ],
            [
             0.4444444444444444,
             "#bd3786"
            ],
            [
             0.5555555555555556,
             "#d8576b"
            ],
            [
             0.6666666666666666,
             "#ed7953"
            ],
            [
             0.7777777777777778,
             "#fb9f3a"
            ],
            [
             0.8888888888888888,
             "#fdca26"
            ],
            [
             1,
             "#f0f921"
            ]
           ]
          },
          "colorway": [
           "#636efa",
           "#EF553B",
           "#00cc96",
           "#ab63fa",
           "#FFA15A",
           "#19d3f3",
           "#FF6692",
           "#B6E880",
           "#FF97FF",
           "#FECB52"
          ],
          "font": {
           "color": "#2a3f5f"
          },
          "geo": {
           "bgcolor": "white",
           "lakecolor": "white",
           "landcolor": "#E5ECF6",
           "showlakes": true,
           "showland": true,
           "subunitcolor": "white"
          },
          "hoverlabel": {
           "align": "left"
          },
          "hovermode": "closest",
          "mapbox": {
           "style": "light"
          },
          "paper_bgcolor": "white",
          "plot_bgcolor": "#E5ECF6",
          "polar": {
           "angularaxis": {
            "gridcolor": "white",
            "linecolor": "white",
            "ticks": ""
           },
           "bgcolor": "#E5ECF6",
           "radialaxis": {
            "gridcolor": "white",
            "linecolor": "white",
            "ticks": ""
           }
          },
          "scene": {
           "xaxis": {
            "backgroundcolor": "#E5ECF6",
            "gridcolor": "white",
            "gridwidth": 2,
            "linecolor": "white",
            "showbackground": true,
            "ticks": "",
            "zerolinecolor": "white"
           },
           "yaxis": {
            "backgroundcolor": "#E5ECF6",
            "gridcolor": "white",
            "gridwidth": 2,
            "linecolor": "white",
            "showbackground": true,
            "ticks": "",
            "zerolinecolor": "white"
           },
           "zaxis": {
            "backgroundcolor": "#E5ECF6",
            "gridcolor": "white",
            "gridwidth": 2,
            "linecolor": "white",
            "showbackground": true,
            "ticks": "",
            "zerolinecolor": "white"
           }
          },
          "shapedefaults": {
           "line": {
            "color": "#2a3f5f"
           }
          },
          "ternary": {
           "aaxis": {
            "gridcolor": "white",
            "linecolor": "white",
            "ticks": ""
           },
           "baxis": {
            "gridcolor": "white",
            "linecolor": "white",
            "ticks": ""
           },
           "bgcolor": "#E5ECF6",
           "caxis": {
            "gridcolor": "white",
            "linecolor": "white",
            "ticks": ""
           }
          },
          "title": {
           "x": 0.05
          },
          "xaxis": {
           "automargin": true,
           "gridcolor": "white",
           "linecolor": "white",
           "ticks": "",
           "title": {
            "standoff": 15
           },
           "zerolinecolor": "white",
           "zerolinewidth": 2
          },
          "yaxis": {
           "automargin": true,
           "gridcolor": "white",
           "linecolor": "white",
           "ticks": "",
           "title": {
            "standoff": 15
           },
           "zerolinecolor": "white",
           "zerolinewidth": 2
          }
         }
        },
        "title": {
         "text": "Chess board state with text"
        },
        "width": 600,
        "xaxis": {
         "nticks": 8,
         "ticks": ""
        },
        "yaxis": {
         "nticks": 8,
         "ticks": ""
        }
       }
      }
     },
     "metadata": {},
     "output_type": "display_data"
    }
   ],
   "source": [
    "def tensor_to_text(board_state: torch.Tensor) -> np.ndarray:\n",
    "    # Create a mapping from numbers to characters\n",
    "    # Update this mapping according to your requirements\n",
    "\n",
    "    # Convert the tensor to numpy array for easier processing\n",
    "    board_array = board_state.numpy()\n",
    "\n",
    "    # Create an empty array with the same shape for text\n",
    "    text_array = np.empty(board_array.shape, dtype=str)\n",
    "\n",
    "    # Fill the text array with corresponding characters\n",
    "    for i in range(board_array.shape[0]):\n",
    "        for j in range(board_array.shape[1]):\n",
    "            text_array[i, j] = INT_TO_CHAR.get(board_array[i, j], str(board_array[i, j]))\n",
    "\n",
    "    return text_array\n",
    "\n",
    "def plot_board_state_with_text(board_state: torch.Tensor):\n",
    "    # Convert the tensor to a text matrix\n",
    "    text_matrix = tensor_to_text(board_state)\n",
    "\n",
    "    # Define the custom colorscale\n",
    "    colorscale = [\n",
    "        [0, 'white'],   # Negative values\n",
    "        [0.49, 'white'],\n",
    "        [0.5, 'grey'],  # Zero\n",
    "        [0.51, 'white'],\n",
    "        [1, 'white']    # Positive values\n",
    "    ]\n",
    "\n",
    "\n",
    "    # Create heatmap with text and custom colorscale\n",
    "    heatmap = go.Heatmap(\n",
    "        z=board_state.numpy(), \n",
    "        text=text_matrix, \n",
    "        showscale=False, \n",
    "        colorscale=colorscale,\n",
    "        texttemplate=\"%{text}\",\n",
    "        textfont=dict(size=48) \n",
    "    )\n",
    "\n",
    "    return heatmap\n",
    "heatmap = plot_board_state_with_text(move_of_interest_state_RR)\n",
    "\n",
    "# Define the layout\n",
    "layout = go.Layout(\n",
    "    title=\"Chess board state with text\",\n",
    "    xaxis=dict(ticks='', nticks=8),\n",
    "    yaxis=dict(ticks='', nticks=8),\n",
    "    autosize=False,\n",
    "    width=600,\n",
    "    height=600\n",
    ")\n",
    "\n",
    "# Create figure and plot\n",
    "fig = go.Figure(data=[heatmap], layout=layout)\n",
    "fig.show()"
   ]
  },
  {
   "cell_type": "code",
   "execution_count": 21,
   "metadata": {},
   "outputs": [
    {
     "name": "stdout",
     "output_type": "stream",
     "text": [
      "torch.Size([8, 8, 13])\n",
      "tensor([[-10.6407, -14.2564, -14.5259,  -7.0187, -11.4978, -16.1796,  -8.9052,  -7.9004],\n",
      "        [ -9.8153,  -8.2211,  -9.4899,  -5.6292,  -9.6949, -10.8993,  -8.4057,  -6.6140],\n",
      "        [ -9.5850, -10.3846,  -9.4469,  -6.7596,  -7.6676,  -9.9981,  -9.4906,  -7.6872],\n",
      "        [-10.7624,  -8.4149,  -8.5571,  -5.3124,  -9.1367, -10.1157,  -9.2618,  -6.5356],\n",
      "        [ -5.1400,  -5.2843,  -3.9035,  -3.0709,  -5.1708,  -6.0782,  -4.7851,  -7.1526],\n",
      "        [-10.8045,  -3.8678,  -6.6885,  -2.4154,  -5.1159,  -2.8258,  -5.0255,  -5.8050],\n",
      "        [-12.2608,  -9.2065,  -4.2130,  -4.0840,  -3.7417,  -6.9322,  -6.8079,  -7.3184],\n",
      "        [ -9.8982,  -8.3084,  -7.8225,  -0.2204,  -9.0693,  -8.2122,  -9.2883,  -9.8359]])\n"
     ]
    }
   ],
   "source": [
    "move_of_interest_probe_out = probe_out_MBLRRC[0][0][move_of_interest]\n",
    "print(move_of_interest_probe_out.shape)\n",
    "print(move_of_interest_probe_out[:,:,1])"
   ]
  },
  {
   "cell_type": "code",
   "execution_count": 22,
   "metadata": {},
   "outputs": [
    {
     "name": "stdout",
     "output_type": "stream",
     "text": [
      "tensor([[ 4,  2,  0,  5,  0,  0,  6,  0],\n",
      "        [ 0,  1,  0,  0,  0,  1,  3,  0],\n",
      "        [ 0,  0,  0,  0,  0,  0,  1,  0],\n",
      "        [ 0,  0,  0,  0,  0,  0,  0,  0],\n",
      "        [ 0,  0,  0, -1, -1,  0,  0,  0],\n",
      "        [ 0,  0,  0,  0,  0,  0, -1,  0],\n",
      "        [-1, -1, -1,  0,  0, -1, -3, -1],\n",
      "        [-4, -2, -3, -5, -6,  0, -6, -4]])\n",
      "tensor([[0, 1, 0, 0, 0, 0, 0, 0],\n",
      "        [0, 0, 0, 0, 0, 0, 0, 0],\n",
      "        [0, 0, 0, 0, 0, 0, 0, 0],\n",
      "        [0, 0, 0, 0, 0, 0, 0, 0],\n",
      "        [0, 0, 0, 0, 0, 0, 0, 0],\n",
      "        [0, 0, 0, 0, 0, 0, 0, 0],\n",
      "        [0, 0, 0, 0, 0, 0, 0, 0],\n",
      "        [0, 0, 0, 0, 0, 0, 0, 0]], dtype=torch.int32)\n"
     ]
    }
   ],
   "source": [
    "probe_prediction_squares_RR = state_stacks_probe_outputs_MBLRR[0][GAME_IDX][move_of_interest]\n",
    "print(probe_prediction_squares_RR)\n",
    "def get_predictied(board_prediction_RR, piece_idx):\n",
    "    return (board_prediction_RR == piece_idx).int()\n",
    "print(get_predictied(probe_prediction_squares_RR, 2))"
   ]
  },
  {
   "cell_type": "code",
   "execution_count": 23,
   "metadata": {},
   "outputs": [
    {
     "data": {
      "application/vnd.plotly.v1+json": {
       "config": {
        "plotlyServerURL": "https://plot.ly"
       },
       "data": [
        {
         "colorscale": [
          [
           0,
           "rgb(0, 0, 0)"
          ],
          [
           0.09090909090909091,
           "rgb(16, 16, 16)"
          ],
          [
           0.18181818181818182,
           "rgb(38, 38, 38)"
          ],
          [
           0.2727272727272727,
           "rgb(59, 59, 59)"
          ],
          [
           0.36363636363636365,
           "rgb(81, 80, 80)"
          ],
          [
           0.45454545454545453,
           "rgb(102, 101, 101)"
          ],
          [
           0.5454545454545454,
           "rgb(124, 123, 122)"
          ],
          [
           0.6363636363636364,
           "rgb(146, 146, 145)"
          ],
          [
           0.7272727272727273,
           "rgb(171, 171, 170)"
          ],
          [
           0.8181818181818182,
           "rgb(197, 197, 195)"
          ],
          [
           0.9090909090909091,
           "rgb(224, 224, 223)"
          ],
          [
           1,
           "rgb(254, 254, 253)"
          ]
         ],
         "showscale": false,
         "type": "heatmap",
         "xaxis": "x",
         "yaxis": "y",
         "z": [
          [
           0,
           1,
           1,
           0,
           1,
           0,
           0,
           1
          ],
          [
           0,
           1,
           0,
           1,
           1,
           0,
           0,
           1
          ],
          [
           1,
           1,
           0,
           0,
           0,
           0,
           1,
           1
          ],
          [
           1,
           0,
           0,
           1,
           1,
           1,
           0,
           1
          ],
          [
           1,
           1,
           1,
           0,
           0,
           1,
           1,
           1
          ],
          [
           1,
           1,
           1,
           1,
           1,
           0,
           1,
           0
          ],
          [
           0,
           0,
           1,
           1,
           0,
           0,
           1,
           1
          ],
          [
           0,
           0,
           1,
           1,
           0,
           0,
           1,
           0
          ]
         ]
        },
        {
         "colorscale": [
          [
           0,
           "rgb(0, 0, 0)"
          ],
          [
           0.09090909090909091,
           "rgb(16, 16, 16)"
          ],
          [
           0.18181818181818182,
           "rgb(38, 38, 38)"
          ],
          [
           0.2727272727272727,
           "rgb(59, 59, 59)"
          ],
          [
           0.36363636363636365,
           "rgb(81, 80, 80)"
          ],
          [
           0.45454545454545453,
           "rgb(102, 101, 101)"
          ],
          [
           0.5454545454545454,
           "rgb(124, 123, 122)"
          ],
          [
           0.6363636363636364,
           "rgb(146, 146, 145)"
          ],
          [
           0.7272727272727273,
           "rgb(171, 171, 170)"
          ],
          [
           0.8181818181818182,
           "rgb(197, 197, 195)"
          ],
          [
           0.9090909090909091,
           "rgb(224, 224, 223)"
          ],
          [
           1,
           "rgb(254, 254, 253)"
          ]
         ],
         "showscale": false,
         "type": "heatmap",
         "xaxis": "x2",
         "yaxis": "y2",
         "z": [
          [
           0,
           0,
           1,
           0,
           1,
           1,
           0,
           1
          ],
          [
           1,
           0,
           1,
           1,
           1,
           0,
           0,
           1
          ],
          [
           1,
           1,
           1,
           1,
           1,
           1,
           0,
           1
          ],
          [
           1,
           1,
           1,
           1,
           1,
           1,
           1,
           1
          ],
          [
           1,
           1,
           1,
           0,
           0,
           1,
           1,
           1
          ],
          [
           1,
           1,
           1,
           1,
           1,
           1,
           0,
           1
          ],
          [
           0,
           0,
           0,
           1,
           1,
           0,
           0,
           0
          ],
          [
           0,
           0,
           0,
           0,
           0,
           1,
           0,
           0
          ]
         ]
        },
        {
         "colorscale": [
          [
           0,
           "rgb(0, 0, 0)"
          ],
          [
           0.09090909090909091,
           "rgb(16, 16, 16)"
          ],
          [
           0.18181818181818182,
           "rgb(38, 38, 38)"
          ],
          [
           0.2727272727272727,
           "rgb(59, 59, 59)"
          ],
          [
           0.36363636363636365,
           "rgb(81, 80, 80)"
          ],
          [
           0.45454545454545453,
           "rgb(102, 101, 101)"
          ],
          [
           0.5454545454545454,
           "rgb(124, 123, 122)"
          ],
          [
           0.6363636363636364,
           "rgb(146, 146, 145)"
          ],
          [
           0.7272727272727273,
           "rgb(171, 171, 170)"
          ],
          [
           0.8181818181818182,
           "rgb(197, 197, 195)"
          ],
          [
           0.9090909090909091,
           "rgb(224, 224, 223)"
          ],
          [
           1,
           "rgb(254, 254, 253)"
          ]
         ],
         "showscale": false,
         "type": "heatmap",
         "xaxis": "x3",
         "yaxis": "y3",
         "z": [
          [
           -3.8897807598114014,
           -0.9383974075317383,
           -0.7039318680763245,
           -1.8455474376678467,
           -0.5537670850753784,
           -0.48830726742744446,
           -0.9638499617576599,
           -0.34550246596336365
          ],
          [
           -0.656173050403595,
           -1.1199638843536377,
           -0.4517557621002197,
           -0.2245253324508667,
           -0.39219141006469727,
           -2.813676595687866,
           -1.2555592060089111,
           -0.2761037349700928
          ],
          [
           -0.16027213633060455,
           -0.4340663552284241,
           -0.174810990691185,
           -0.5792417526245117,
           -0.08907632529735565,
           -0.7533261775970459,
           -0.8765751123428345,
           -0.3080612123012543
          ],
          [
           -0.05035655200481415,
           -0.13663385808467865,
           -0.3998123109340668,
           -0.2061191350221634,
           -0.6488354802131653,
           -0.02117234282195568,
           -0.08451879769563675,
           -0.052889205515384674
          ],
          [
           -0.12404492497444153,
           -0.09884975850582123,
           -0.30562490224838257,
           -1.8071802854537964,
           -1.6924465894699097,
           -0.0744931623339653,
           -0.19380931556224823,
           -0.12274981290102005
          ],
          [
           -0.17376290261745453,
           -0.24171487987041473,
           -0.18429811298847198,
           -0.49631333351135254,
           -0.06120148301124573,
           -0.5127548575401306,
           -1.6264326572418213,
           -0.14106003940105438
          ],
          [
           -0.8796956539154053,
           -1.3469605445861816,
           -0.7739474773406982,
           -0.11158426851034164,
           -0.1088043749332428,
           -1.7699164152145386,
           -0.9499178528785706,
           -1.4819767475128174
          ],
          [
           -4.475581169128418,
           -0.9530290365219116,
           -0.8395811915397644,
           -1.836313009262085,
           -1.7639431953430176,
           -0.5018959641456604,
           -1.0700445175170898,
           -0.9723266363143921
          ]
         ]
        },
        {
         "colorscale": [
          [
           0,
           "rgb(0, 0, 0)"
          ],
          [
           0.09090909090909091,
           "rgb(16, 16, 16)"
          ],
          [
           0.18181818181818182,
           "rgb(38, 38, 38)"
          ],
          [
           0.2727272727272727,
           "rgb(59, 59, 59)"
          ],
          [
           0.36363636363636365,
           "rgb(81, 80, 80)"
          ],
          [
           0.45454545454545453,
           "rgb(102, 101, 101)"
          ],
          [
           0.5454545454545454,
           "rgb(124, 123, 122)"
          ],
          [
           0.6363636363636364,
           "rgb(146, 146, 145)"
          ],
          [
           0.7272727272727273,
           "rgb(171, 171, 170)"
          ],
          [
           0.8181818181818182,
           "rgb(197, 197, 195)"
          ],
          [
           0.9090909090909091,
           "rgb(224, 224, 223)"
          ],
          [
           1,
           "rgb(254, 254, 253)"
          ]
         ],
         "showscale": false,
         "type": "heatmap",
         "xaxis": "x4",
         "yaxis": "y4",
         "z": [
          [
           0,
           0,
           0,
           0,
           0,
           0,
           0,
           0
          ],
          [
           1,
           0,
           1,
           0,
           0,
           1,
           1,
           0
          ],
          [
           0,
           0,
           0,
           1,
           0,
           0,
           0,
           0
          ],
          [
           0,
           1,
           0,
           0,
           0,
           0,
           0,
           0
          ],
          [
           0,
           0,
           0,
           0,
           0,
           0,
           0,
           0
          ],
          [
           0,
           0,
           0,
           0,
           0,
           0,
           0,
           0
          ],
          [
           0,
           0,
           0,
           0,
           0,
           0,
           0,
           0
          ],
          [
           0,
           0,
           0,
           0,
           0,
           0,
           0,
           0
          ]
         ]
        },
        {
         "colorscale": [
          [
           0,
           "rgb(0, 0, 0)"
          ],
          [
           0.09090909090909091,
           "rgb(16, 16, 16)"
          ],
          [
           0.18181818181818182,
           "rgb(38, 38, 38)"
          ],
          [
           0.2727272727272727,
           "rgb(59, 59, 59)"
          ],
          [
           0.36363636363636365,
           "rgb(81, 80, 80)"
          ],
          [
           0.45454545454545453,
           "rgb(102, 101, 101)"
          ],
          [
           0.5454545454545454,
           "rgb(124, 123, 122)"
          ],
          [
           0.6363636363636364,
           "rgb(146, 146, 145)"
          ],
          [
           0.7272727272727273,
           "rgb(171, 171, 170)"
          ],
          [
           0.8181818181818182,
           "rgb(197, 197, 195)"
          ],
          [
           0.9090909090909091,
           "rgb(224, 224, 223)"
          ],
          [
           1,
           "rgb(254, 254, 253)"
          ]
         ],
         "showscale": false,
         "type": "heatmap",
         "xaxis": "x5",
         "yaxis": "y5",
         "z": [
          [
           0,
           0,
           0,
           0,
           0,
           0,
           0,
           0
          ],
          [
           0,
           1,
           0,
           0,
           0,
           1,
           0,
           0
          ],
          [
           0,
           0,
           0,
           0,
           0,
           0,
           1,
           0
          ],
          [
           0,
           0,
           0,
           0,
           0,
           0,
           0,
           0
          ],
          [
           0,
           0,
           0,
           0,
           0,
           0,
           0,
           0
          ],
          [
           0,
           0,
           0,
           0,
           0,
           0,
           0,
           0
          ],
          [
           0,
           0,
           0,
           0,
           0,
           0,
           0,
           0
          ],
          [
           0,
           0,
           0,
           0,
           0,
           0,
           0,
           0
          ]
         ]
        },
        {
         "colorscale": [
          [
           0,
           "rgb(0, 0, 0)"
          ],
          [
           0.09090909090909091,
           "rgb(16, 16, 16)"
          ],
          [
           0.18181818181818182,
           "rgb(38, 38, 38)"
          ],
          [
           0.2727272727272727,
           "rgb(59, 59, 59)"
          ],
          [
           0.36363636363636365,
           "rgb(81, 80, 80)"
          ],
          [
           0.45454545454545453,
           "rgb(102, 101, 101)"
          ],
          [
           0.5454545454545454,
           "rgb(124, 123, 122)"
          ],
          [
           0.6363636363636364,
           "rgb(146, 146, 145)"
          ],
          [
           0.7272727272727273,
           "rgb(171, 171, 170)"
          ],
          [
           0.8181818181818182,
           "rgb(197, 197, 195)"
          ],
          [
           0.9090909090909091,
           "rgb(224, 224, 223)"
          ],
          [
           1,
           "rgb(254, 254, 253)"
          ]
         ],
         "showscale": true,
         "type": "heatmap",
         "xaxis": "x6",
         "yaxis": "y6",
         "z": [
          [
           -25.24128532409668,
           -25.120140075683594,
           -24.96632194519043,
           -25.98796272277832,
           -24.85313606262207,
           -24.821060180664062,
           -24.68372917175293,
           -24.35652732849121
          ],
          [
           -0.7507947087287903,
           -0.49087831377983093,
           -1.1825754642486572,
           -4.496184349060059,
           -2.8425087928771973,
           -0.06307569891214371,
           -1.95229172706604,
           -1.4703271389007568
          ],
          [
           -1.9858288764953613,
           -1.2019448280334473,
           -2.4988980293273926,
           -1.0233592987060547,
           -2.962071657180786,
           -2.629657506942749,
           -0.622174859046936,
           -1.3906103372573853
          ],
          [
           -3.1996400356292725,
           -2.1989316940307617,
           -1.906589150428772,
           -2.4043307304382324,
           -0.928173840045929,
           -4.444456100463867,
           -4.023708820343018,
           -3.683992624282837
          ],
          [
           -4.690531253814697,
           -3.3728184700012207,
           -3.757720947265625,
           -1.3644717931747437,
           -2.732668876647949,
           -6.0435404777526855,
           -4.168696403503418,
           -5.076706409454346
          ],
          [
           -7.275834560394287,
           -8.329769134521484,
           -7.905148983001709,
           -7.15162467956543,
           -10.778759002685547,
           -9.084436416625977,
           -6.674455165863037,
           -6.980986595153809
          ],
          [
           -16.58456802368164,
           -12.868267059326172,
           -13.494184494018555,
           -18.076688766479492,
           -14.92473030090332,
           -13.947587966918945,
           -9.991326332092285,
           -10.602726936340332
          ],
          [
           -25.532556533813477,
           -25.463329315185547,
           -25.615436553955078,
           -25.81174659729004,
           -25.8702392578125,
           -25.341201782226562,
           -24.75821876525879,
           -24.449146270751953
          ]
         ]
        },
        {
         "colorscale": [
          [
           0,
           "rgb(0, 0, 0)"
          ],
          [
           0.09090909090909091,
           "rgb(16, 16, 16)"
          ],
          [
           0.18181818181818182,
           "rgb(38, 38, 38)"
          ],
          [
           0.2727272727272727,
           "rgb(59, 59, 59)"
          ],
          [
           0.36363636363636365,
           "rgb(81, 80, 80)"
          ],
          [
           0.45454545454545453,
           "rgb(102, 101, 101)"
          ],
          [
           0.5454545454545454,
           "rgb(124, 123, 122)"
          ],
          [
           0.6363636363636364,
           "rgb(146, 146, 145)"
          ],
          [
           0.7272727272727273,
           "rgb(171, 171, 170)"
          ],
          [
           0.8181818181818182,
           "rgb(197, 197, 195)"
          ],
          [
           0.9090909090909091,
           "rgb(224, 224, 223)"
          ],
          [
           1,
           "rgb(254, 254, 253)"
          ]
         ],
         "showscale": false,
         "type": "heatmap",
         "xaxis": "x7",
         "yaxis": "y7",
         "z": [
          [
           0,
           0,
           0,
           0,
           0,
           0,
           0,
           0
          ],
          [
           0,
           0,
           0,
           0,
           0,
           0,
           0,
           0
          ],
          [
           0,
           0,
           0,
           0,
           0,
           0,
           0,
           0
          ],
          [
           0,
           0,
           0,
           0,
           0,
           0,
           0,
           0
          ],
          [
           0,
           0,
           0,
           0,
           0,
           0,
           0,
           0
          ],
          [
           0,
           0,
           0,
           0,
           0,
           0,
           0,
           0
          ],
          [
           0,
           0,
           0,
           0,
           0,
           0,
           0,
           0
          ],
          [
           0,
           0,
           0,
           0,
           1,
           0,
           0,
           0
          ]
         ]
        },
        {
         "colorscale": [
          [
           0,
           "rgb(0, 0, 0)"
          ],
          [
           0.09090909090909091,
           "rgb(16, 16, 16)"
          ],
          [
           0.18181818181818182,
           "rgb(38, 38, 38)"
          ],
          [
           0.2727272727272727,
           "rgb(59, 59, 59)"
          ],
          [
           0.36363636363636365,
           "rgb(81, 80, 80)"
          ],
          [
           0.45454545454545453,
           "rgb(102, 101, 101)"
          ],
          [
           0.5454545454545454,
           "rgb(124, 123, 122)"
          ],
          [
           0.6363636363636364,
           "rgb(146, 146, 145)"
          ],
          [
           0.7272727272727273,
           "rgb(171, 171, 170)"
          ],
          [
           0.8181818181818182,
           "rgb(197, 197, 195)"
          ],
          [
           0.9090909090909091,
           "rgb(224, 224, 223)"
          ],
          [
           1,
           "rgb(254, 254, 253)"
          ]
         ],
         "showscale": false,
         "type": "heatmap",
         "xaxis": "x8",
         "yaxis": "y8",
         "z": [
          [
           0,
           0,
           0,
           0,
           0,
           0,
           0,
           0
          ],
          [
           0,
           0,
           0,
           0,
           0,
           0,
           0,
           0
          ],
          [
           0,
           0,
           0,
           0,
           0,
           0,
           0,
           0
          ],
          [
           0,
           0,
           0,
           0,
           0,
           0,
           0,
           0
          ],
          [
           0,
           0,
           0,
           0,
           0,
           0,
           0,
           0
          ],
          [
           0,
           0,
           0,
           0,
           0,
           0,
           0,
           0
          ],
          [
           0,
           0,
           0,
           0,
           0,
           0,
           0,
           0
          ],
          [
           0,
           0,
           0,
           0,
           1,
           0,
           1,
           0
          ]
         ]
        },
        {
         "colorscale": [
          [
           0,
           "rgb(0, 0, 0)"
          ],
          [
           0.09090909090909091,
           "rgb(16, 16, 16)"
          ],
          [
           0.18181818181818182,
           "rgb(38, 38, 38)"
          ],
          [
           0.2727272727272727,
           "rgb(59, 59, 59)"
          ],
          [
           0.36363636363636365,
           "rgb(81, 80, 80)"
          ],
          [
           0.45454545454545453,
           "rgb(102, 101, 101)"
          ],
          [
           0.5454545454545454,
           "rgb(124, 123, 122)"
          ],
          [
           0.6363636363636364,
           "rgb(146, 146, 145)"
          ],
          [
           0.7272727272727273,
           "rgb(171, 171, 170)"
          ],
          [
           0.8181818181818182,
           "rgb(197, 197, 195)"
          ],
          [
           0.9090909090909091,
           "rgb(224, 224, 223)"
          ],
          [
           1,
           "rgb(254, 254, 253)"
          ]
         ],
         "showscale": false,
         "type": "heatmap",
         "xaxis": "x9",
         "yaxis": "y9",
         "z": [
          [
           -25.1632137298584,
           -26.11975860595703,
           -24.985994338989258,
           -25.406240463256836,
           -24.717058181762695,
           -25.145320892333984,
           -24.878366470336914,
           -24.359861373901367
          ],
          [
           -23.1306095123291,
           -25.663434982299805,
           -22.577180862426758,
           -25.35149383544922,
           -25.73603630065918,
           -25.06616973876953,
           -22.39442253112793,
           -23.33119010925293
          ],
          [
           -22.600183486938477,
           -20.132915496826172,
           -25.05711555480957,
           -22.05810546875,
           -17.436084747314453,
           -17.974552154541016,
           -23.866928100585938,
           -22.978548049926758
          ],
          [
           -20.23623275756836,
           -18.241865158081055,
           -20.43108558654785,
           -18.677209854125977,
           -18.38402557373047,
           -18.45591926574707,
           -17.64446258544922,
           -19.95981788635254
          ],
          [
           -16.274221420288086,
           -13.896811485290527,
           -12.613054275512695,
           -8.942159652709961,
           -10.794229507446289,
           -9.532930374145508,
           -12.685115814208984,
           -14.41528606414795
          ],
          [
           -15.9771728515625,
           -10.615596771240234,
           -9.825199127197266,
           -8.470320701599121,
           -9.859893798828125,
           -10.734411239624023,
           -8.707047462463379,
           -9.255640983581543
          ],
          [
           -11.786687850952148,
           -9.079559326171875,
           -8.597393035888672,
           -6.251902103424072,
           -6.361161708831787,
           -8.064277648925781,
           -5.121356010437012,
           -7.161747932434082
          ],
          [
           -13.048501014709473,
           -7.6112542152404785,
           -4.743803977966309,
           -6.560586929321289,
           -0.19759419560432434,
           -7.131962776184082,
           -0.9268907904624939,
           -7.405609607696533
          ]
         ]
        },
        {
         "colorscale": [
          [
           0,
           "white"
          ],
          [
           0.49,
           "white"
          ],
          [
           0.5,
           "grey"
          ],
          [
           0.51,
           "white"
          ],
          [
           1,
           "white"
          ]
         ],
         "showscale": false,
         "text": [
          [
           "♖",
           ".",
           ".",
           "♕",
           ".",
           "♖",
           "♔",
           "."
          ],
          [
           "♙",
           ".",
           "♙",
           ".",
           ".",
           "♙",
           "♙",
           "."
          ],
          [
           ".",
           ".",
           "♘",
           "♙",
           "♗",
           "♘",
           ".",
           "."
          ],
          [
           ".",
           "♙",
           "♗",
           ".",
           ".",
           ".",
           "♝",
           "."
          ],
          [
           ".",
           ".",
           ".",
           "♟",
           "♟",
           ".",
           ".",
           "."
          ],
          [
           ".",
           ".",
           ".",
           ".",
           ".",
           "♞",
           ".",
           "♟"
          ],
          [
           "♟",
           "♟",
           ".",
           ".",
           "♛",
           "♟",
           ".",
           "."
          ],
          [
           "♜",
           "♞",
           ".",
           ".",
           "♚",
           "♝",
           ".",
           "♜"
          ]
         ],
         "textfont": {
          "size": 48
         },
         "texttemplate": "%{text}",
         "type": "heatmap",
         "xaxis": "x10",
         "yaxis": "y10",
         "z": [
          [
           4,
           0,
           0,
           5,
           0,
           4,
           6,
           0
          ],
          [
           1,
           0,
           1,
           0,
           0,
           1,
           1,
           0
          ],
          [
           0,
           0,
           2,
           1,
           3,
           2,
           0,
           0
          ],
          [
           0,
           1,
           3,
           0,
           0,
           0,
           -3,
           0
          ],
          [
           0,
           0,
           0,
           -1,
           -1,
           0,
           0,
           0
          ],
          [
           0,
           0,
           0,
           0,
           0,
           -2,
           0,
           -1
          ],
          [
           -1,
           -1,
           0,
           0,
           -5,
           -1,
           0,
           0
          ],
          [
           -4,
           -2,
           0,
           0,
           -6,
           -3,
           0,
           -4
          ]
         ]
        },
        {
         "colorscale": [
          [
           0,
           "white"
          ],
          [
           0.49,
           "white"
          ],
          [
           0.5,
           "grey"
          ],
          [
           0.51,
           "white"
          ],
          [
           1,
           "white"
          ]
         ],
         "showscale": false,
         "text": [
          [
           "♖",
           "♘",
           ".",
           "♕",
           ".",
           ".",
           "♔",
           "."
          ],
          [
           ".",
           "♙",
           ".",
           ".",
           ".",
           "♙",
           "♗",
           "."
          ],
          [
           ".",
           ".",
           ".",
           ".",
           ".",
           ".",
           "♙",
           "."
          ],
          [
           ".",
           ".",
           ".",
           ".",
           ".",
           ".",
           ".",
           "."
          ],
          [
           ".",
           ".",
           ".",
           "♟",
           "♟",
           ".",
           ".",
           "."
          ],
          [
           ".",
           ".",
           ".",
           ".",
           ".",
           ".",
           "♟",
           "."
          ],
          [
           "♟",
           "♟",
           "♟",
           ".",
           ".",
           "♟",
           "♝",
           "♟"
          ],
          [
           "♜",
           "♞",
           "♝",
           "♛",
           "♚",
           ".",
           "♚",
           "♜"
          ]
         ],
         "textfont": {
          "size": 48
         },
         "texttemplate": "%{text}",
         "type": "heatmap",
         "xaxis": "x11",
         "yaxis": "y11",
         "z": [
          [
           4,
           2,
           0,
           5,
           0,
           0,
           6,
           0
          ],
          [
           0,
           1,
           0,
           0,
           0,
           1,
           3,
           0
          ],
          [
           0,
           0,
           0,
           0,
           0,
           0,
           1,
           0
          ],
          [
           0,
           0,
           0,
           0,
           0,
           0,
           0,
           0
          ],
          [
           0,
           0,
           0,
           -1,
           -1,
           0,
           0,
           0
          ],
          [
           0,
           0,
           0,
           0,
           0,
           0,
           -1,
           0
          ],
          [
           -1,
           -1,
           -1,
           0,
           0,
           -1,
           -3,
           -1
          ],
          [
           -4,
           -2,
           -3,
           -5,
           -6,
           0,
           -6,
           -4
          ]
         ]
        },
        {
         "colorscale": [
          [
           0,
           "white"
          ],
          [
           0.49,
           "white"
          ],
          [
           0.5,
           "grey"
          ],
          [
           0.51,
           "white"
          ],
          [
           1,
           "white"
          ]
         ],
         "showscale": false,
         "text": [
          [
           ".",
           ".",
           ".",
           ".",
           ".",
           "♖",
           ".",
           "."
          ],
          [
           "♙",
           ".",
           "♙",
           ".",
           ".",
           ".",
           "♙",
           "."
          ],
          [
           ".",
           ".",
           "♘",
           "♙",
           "♗",
           "♘",
           ".",
           "."
          ],
          [
           ".",
           "♙",
           "♗",
           ".",
           ".",
           ".",
           "♝",
           "."
          ],
          [
           ".",
           ".",
           ".",
           ".",
           ".",
           ".",
           ".",
           "."
          ],
          [
           ".",
           ".",
           ".",
           ".",
           ".",
           "♞",
           ".",
           "♟"
          ],
          [
           ".",
           ".",
           ".",
           ".",
           "♛",
           ".",
           ".",
           "."
          ],
          [
           ".",
           ".",
           ".",
           ".",
           ".",
           "♝",
           ".",
           "."
          ]
         ],
         "textfont": {
          "size": 48
         },
         "texttemplate": "%{text}",
         "type": "heatmap",
         "xaxis": "x12",
         "yaxis": "y12",
         "z": [
          [
           0,
           0,
           0,
           0,
           0,
           4,
           0,
           0
          ],
          [
           1,
           0,
           1,
           0,
           0,
           0,
           1,
           0
          ],
          [
           0,
           0,
           2,
           1,
           3,
           2,
           0,
           0
          ],
          [
           0,
           1,
           3,
           0,
           0,
           0,
           -3,
           0
          ],
          [
           0,
           0,
           0,
           0,
           0,
           0,
           0,
           0
          ],
          [
           0,
           0,
           0,
           0,
           0,
           -2,
           0,
           -1
          ],
          [
           0,
           0,
           0,
           0,
           -5,
           0,
           0,
           0
          ],
          [
           0,
           0,
           0,
           0,
           0,
           -3,
           0,
           0
          ]
         ]
        }
       ],
       "layout": {
        "annotations": [
         {
          "font": {
           "size": 18
          },
          "showarrow": false,
          "text": "Ground truth blank squares",
          "x": 0.14444444444444446,
          "xanchor": "center",
          "xref": "paper",
          "y": 1,
          "yanchor": "bottom",
          "yref": "paper"
         },
         {
          "font": {
           "size": 18
          },
          "showarrow": false,
          "text": "Predicted blank squares",
          "x": 0.5,
          "xanchor": "center",
          "xref": "paper",
          "y": 1,
          "yanchor": "bottom",
          "yref": "paper"
         },
         {
          "font": {
           "size": 18
          },
          "showarrow": false,
          "text": "Confidence gradient blank squares",
          "x": 0.8555555555555556,
          "xanchor": "center",
          "xref": "paper",
          "y": 1,
          "yanchor": "bottom",
          "yref": "paper"
         },
         {
          "font": {
           "size": 18
          },
          "showarrow": false,
          "text": "Ground truth white pawn positions",
          "x": 0.14444444444444446,
          "xanchor": "center",
          "xref": "paper",
          "y": 0.71875,
          "yanchor": "bottom",
          "yref": "paper"
         },
         {
          "font": {
           "size": 18
          },
          "showarrow": false,
          "text": "Predicted white pawn positions",
          "x": 0.5,
          "xanchor": "center",
          "xref": "paper",
          "y": 0.71875,
          "yanchor": "bottom",
          "yref": "paper"
         },
         {
          "font": {
           "size": 18
          },
          "showarrow": false,
          "text": "Confidence gradient white pawn positions",
          "x": 0.8555555555555556,
          "xanchor": "center",
          "xref": "paper",
          "y": 0.71875,
          "yanchor": "bottom",
          "yref": "paper"
         },
         {
          "font": {
           "size": 18
          },
          "showarrow": false,
          "text": "Ground truth black king position",
          "x": 0.14444444444444446,
          "xanchor": "center",
          "xref": "paper",
          "y": 0.4375,
          "yanchor": "bottom",
          "yref": "paper"
         },
         {
          "font": {
           "size": 18
          },
          "showarrow": false,
          "text": "Predicted black king position",
          "x": 0.5,
          "xanchor": "center",
          "xref": "paper",
          "y": 0.4375,
          "yanchor": "bottom",
          "yref": "paper"
         },
         {
          "font": {
           "size": 18
          },
          "showarrow": false,
          "text": "Confidence gradient black king position",
          "x": 0.8555555555555556,
          "xanchor": "center",
          "xref": "paper",
          "y": 0.4375,
          "yanchor": "bottom",
          "yref": "paper"
         },
         {
          "font": {
           "size": 18
          },
          "showarrow": false,
          "text": "Ground truth state",
          "x": 0.14444444444444446,
          "xanchor": "center",
          "xref": "paper",
          "y": 0.15625,
          "yanchor": "bottom",
          "yref": "paper"
         },
         {
          "font": {
           "size": 18
          },
          "showarrow": false,
          "text": "Predicted board state",
          "x": 0.5,
          "xanchor": "center",
          "xref": "paper",
          "y": 0.15625,
          "yanchor": "bottom",
          "yref": "paper"
         },
         {
          "font": {
           "size": 18
          },
          "showarrow": false,
          "text": "Missing pieces",
          "x": 0.8555555555555556,
          "xanchor": "center",
          "xref": "paper",
          "y": 0.15625,
          "yanchor": "bottom",
          "yref": "paper"
         }
        ],
        "height": 2080,
        "template": {
         "data": {
          "bar": [
           {
            "error_x": {
             "color": "#2a3f5f"
            },
            "error_y": {
             "color": "#2a3f5f"
            },
            "marker": {
             "line": {
              "color": "#E5ECF6",
              "width": 0.5
             },
             "pattern": {
              "fillmode": "overlay",
              "size": 10,
              "solidity": 0.2
             }
            },
            "type": "bar"
           }
          ],
          "barpolar": [
           {
            "marker": {
             "line": {
              "color": "#E5ECF6",
              "width": 0.5
             },
             "pattern": {
              "fillmode": "overlay",
              "size": 10,
              "solidity": 0.2
             }
            },
            "type": "barpolar"
           }
          ],
          "carpet": [
           {
            "aaxis": {
             "endlinecolor": "#2a3f5f",
             "gridcolor": "white",
             "linecolor": "white",
             "minorgridcolor": "white",
             "startlinecolor": "#2a3f5f"
            },
            "baxis": {
             "endlinecolor": "#2a3f5f",
             "gridcolor": "white",
             "linecolor": "white",
             "minorgridcolor": "white",
             "startlinecolor": "#2a3f5f"
            },
            "type": "carpet"
           }
          ],
          "choropleth": [
           {
            "colorbar": {
             "outlinewidth": 0,
             "ticks": ""
            },
            "type": "choropleth"
           }
          ],
          "contour": [
           {
            "colorbar": {
             "outlinewidth": 0,
             "ticks": ""
            },
            "colorscale": [
             [
              0,
              "#0d0887"
             ],
             [
              0.1111111111111111,
              "#46039f"
             ],
             [
              0.2222222222222222,
              "#7201a8"
             ],
             [
              0.3333333333333333,
              "#9c179e"
             ],
             [
              0.4444444444444444,
              "#bd3786"
             ],
             [
              0.5555555555555556,
              "#d8576b"
             ],
             [
              0.6666666666666666,
              "#ed7953"
             ],
             [
              0.7777777777777778,
              "#fb9f3a"
             ],
             [
              0.8888888888888888,
              "#fdca26"
             ],
             [
              1,
              "#f0f921"
             ]
            ],
            "type": "contour"
           }
          ],
          "contourcarpet": [
           {
            "colorbar": {
             "outlinewidth": 0,
             "ticks": ""
            },
            "type": "contourcarpet"
           }
          ],
          "heatmap": [
           {
            "colorbar": {
             "outlinewidth": 0,
             "ticks": ""
            },
            "colorscale": [
             [
              0,
              "#0d0887"
             ],
             [
              0.1111111111111111,
              "#46039f"
             ],
             [
              0.2222222222222222,
              "#7201a8"
             ],
             [
              0.3333333333333333,
              "#9c179e"
             ],
             [
              0.4444444444444444,
              "#bd3786"
             ],
             [
              0.5555555555555556,
              "#d8576b"
             ],
             [
              0.6666666666666666,
              "#ed7953"
             ],
             [
              0.7777777777777778,
              "#fb9f3a"
             ],
             [
              0.8888888888888888,
              "#fdca26"
             ],
             [
              1,
              "#f0f921"
             ]
            ],
            "type": "heatmap"
           }
          ],
          "heatmapgl": [
           {
            "colorbar": {
             "outlinewidth": 0,
             "ticks": ""
            },
            "colorscale": [
             [
              0,
              "#0d0887"
             ],
             [
              0.1111111111111111,
              "#46039f"
             ],
             [
              0.2222222222222222,
              "#7201a8"
             ],
             [
              0.3333333333333333,
              "#9c179e"
             ],
             [
              0.4444444444444444,
              "#bd3786"
             ],
             [
              0.5555555555555556,
              "#d8576b"
             ],
             [
              0.6666666666666666,
              "#ed7953"
             ],
             [
              0.7777777777777778,
              "#fb9f3a"
             ],
             [
              0.8888888888888888,
              "#fdca26"
             ],
             [
              1,
              "#f0f921"
             ]
            ],
            "type": "heatmapgl"
           }
          ],
          "histogram": [
           {
            "marker": {
             "pattern": {
              "fillmode": "overlay",
              "size": 10,
              "solidity": 0.2
             }
            },
            "type": "histogram"
           }
          ],
          "histogram2d": [
           {
            "colorbar": {
             "outlinewidth": 0,
             "ticks": ""
            },
            "colorscale": [
             [
              0,
              "#0d0887"
             ],
             [
              0.1111111111111111,
              "#46039f"
             ],
             [
              0.2222222222222222,
              "#7201a8"
             ],
             [
              0.3333333333333333,
              "#9c179e"
             ],
             [
              0.4444444444444444,
              "#bd3786"
             ],
             [
              0.5555555555555556,
              "#d8576b"
             ],
             [
              0.6666666666666666,
              "#ed7953"
             ],
             [
              0.7777777777777778,
              "#fb9f3a"
             ],
             [
              0.8888888888888888,
              "#fdca26"
             ],
             [
              1,
              "#f0f921"
             ]
            ],
            "type": "histogram2d"
           }
          ],
          "histogram2dcontour": [
           {
            "colorbar": {
             "outlinewidth": 0,
             "ticks": ""
            },
            "colorscale": [
             [
              0,
              "#0d0887"
             ],
             [
              0.1111111111111111,
              "#46039f"
             ],
             [
              0.2222222222222222,
              "#7201a8"
             ],
             [
              0.3333333333333333,
              "#9c179e"
             ],
             [
              0.4444444444444444,
              "#bd3786"
             ],
             [
              0.5555555555555556,
              "#d8576b"
             ],
             [
              0.6666666666666666,
              "#ed7953"
             ],
             [
              0.7777777777777778,
              "#fb9f3a"
             ],
             [
              0.8888888888888888,
              "#fdca26"
             ],
             [
              1,
              "#f0f921"
             ]
            ],
            "type": "histogram2dcontour"
           }
          ],
          "mesh3d": [
           {
            "colorbar": {
             "outlinewidth": 0,
             "ticks": ""
            },
            "type": "mesh3d"
           }
          ],
          "parcoords": [
           {
            "line": {
             "colorbar": {
              "outlinewidth": 0,
              "ticks": ""
             }
            },
            "type": "parcoords"
           }
          ],
          "pie": [
           {
            "automargin": true,
            "type": "pie"
           }
          ],
          "scatter": [
           {
            "fillpattern": {
             "fillmode": "overlay",
             "size": 10,
             "solidity": 0.2
            },
            "type": "scatter"
           }
          ],
          "scatter3d": [
           {
            "line": {
             "colorbar": {
              "outlinewidth": 0,
              "ticks": ""
             }
            },
            "marker": {
             "colorbar": {
              "outlinewidth": 0,
              "ticks": ""
             }
            },
            "type": "scatter3d"
           }
          ],
          "scattercarpet": [
           {
            "marker": {
             "colorbar": {
              "outlinewidth": 0,
              "ticks": ""
             }
            },
            "type": "scattercarpet"
           }
          ],
          "scattergeo": [
           {
            "marker": {
             "colorbar": {
              "outlinewidth": 0,
              "ticks": ""
             }
            },
            "type": "scattergeo"
           }
          ],
          "scattergl": [
           {
            "marker": {
             "colorbar": {
              "outlinewidth": 0,
              "ticks": ""
             }
            },
            "type": "scattergl"
           }
          ],
          "scattermapbox": [
           {
            "marker": {
             "colorbar": {
              "outlinewidth": 0,
              "ticks": ""
             }
            },
            "type": "scattermapbox"
           }
          ],
          "scatterpolar": [
           {
            "marker": {
             "colorbar": {
              "outlinewidth": 0,
              "ticks": ""
             }
            },
            "type": "scatterpolar"
           }
          ],
          "scatterpolargl": [
           {
            "marker": {
             "colorbar": {
              "outlinewidth": 0,
              "ticks": ""
             }
            },
            "type": "scatterpolargl"
           }
          ],
          "scatterternary": [
           {
            "marker": {
             "colorbar": {
              "outlinewidth": 0,
              "ticks": ""
             }
            },
            "type": "scatterternary"
           }
          ],
          "surface": [
           {
            "colorbar": {
             "outlinewidth": 0,
             "ticks": ""
            },
            "colorscale": [
             [
              0,
              "#0d0887"
             ],
             [
              0.1111111111111111,
              "#46039f"
             ],
             [
              0.2222222222222222,
              "#7201a8"
             ],
             [
              0.3333333333333333,
              "#9c179e"
             ],
             [
              0.4444444444444444,
              "#bd3786"
             ],
             [
              0.5555555555555556,
              "#d8576b"
             ],
             [
              0.6666666666666666,
              "#ed7953"
             ],
             [
              0.7777777777777778,
              "#fb9f3a"
             ],
             [
              0.8888888888888888,
              "#fdca26"
             ],
             [
              1,
              "#f0f921"
             ]
            ],
            "type": "surface"
           }
          ],
          "table": [
           {
            "cells": {
             "fill": {
              "color": "#EBF0F8"
             },
             "line": {
              "color": "white"
             }
            },
            "header": {
             "fill": {
              "color": "#C8D4E3"
             },
             "line": {
              "color": "white"
             }
            },
            "type": "table"
           }
          ]
         },
         "layout": {
          "annotationdefaults": {
           "arrowcolor": "#2a3f5f",
           "arrowhead": 0,
           "arrowwidth": 1
          },
          "autotypenumbers": "strict",
          "coloraxis": {
           "colorbar": {
            "outlinewidth": 0,
            "ticks": ""
           }
          },
          "colorscale": {
           "diverging": [
            [
             0,
             "#8e0152"
            ],
            [
             0.1,
             "#c51b7d"
            ],
            [
             0.2,
             "#de77ae"
            ],
            [
             0.3,
             "#f1b6da"
            ],
            [
             0.4,
             "#fde0ef"
            ],
            [
             0.5,
             "#f7f7f7"
            ],
            [
             0.6,
             "#e6f5d0"
            ],
            [
             0.7,
             "#b8e186"
            ],
            [
             0.8,
             "#7fbc41"
            ],
            [
             0.9,
             "#4d9221"
            ],
            [
             1,
             "#276419"
            ]
           ],
           "sequential": [
            [
             0,
             "#0d0887"
            ],
            [
             0.1111111111111111,
             "#46039f"
            ],
            [
             0.2222222222222222,
             "#7201a8"
            ],
            [
             0.3333333333333333,
             "#9c179e"
            ],
            [
             0.4444444444444444,
             "#bd3786"
            ],
            [
             0.5555555555555556,
             "#d8576b"
            ],
            [
             0.6666666666666666,
             "#ed7953"
            ],
            [
             0.7777777777777778,
             "#fb9f3a"
            ],
            [
             0.8888888888888888,
             "#fdca26"
            ],
            [
             1,
             "#f0f921"
            ]
           ],
           "sequentialminus": [
            [
             0,
             "#0d0887"
            ],
            [
             0.1111111111111111,
             "#46039f"
            ],
            [
             0.2222222222222222,
             "#7201a8"
            ],
            [
             0.3333333333333333,
             "#9c179e"
            ],
            [
             0.4444444444444444,
             "#bd3786"
            ],
            [
             0.5555555555555556,
             "#d8576b"
            ],
            [
             0.6666666666666666,
             "#ed7953"
            ],
            [
             0.7777777777777778,
             "#fb9f3a"
            ],
            [
             0.8888888888888888,
             "#fdca26"
            ],
            [
             1,
             "#f0f921"
            ]
           ]
          },
          "colorway": [
           "#636efa",
           "#EF553B",
           "#00cc96",
           "#ab63fa",
           "#FFA15A",
           "#19d3f3",
           "#FF6692",
           "#B6E880",
           "#FF97FF",
           "#FECB52"
          ],
          "font": {
           "color": "#2a3f5f"
          },
          "geo": {
           "bgcolor": "white",
           "lakecolor": "white",
           "landcolor": "#E5ECF6",
           "showlakes": true,
           "showland": true,
           "subunitcolor": "white"
          },
          "hoverlabel": {
           "align": "left"
          },
          "hovermode": "closest",
          "mapbox": {
           "style": "light"
          },
          "paper_bgcolor": "white",
          "plot_bgcolor": "#E5ECF6",
          "polar": {
           "angularaxis": {
            "gridcolor": "white",
            "linecolor": "white",
            "ticks": ""
           },
           "bgcolor": "#E5ECF6",
           "radialaxis": {
            "gridcolor": "white",
            "linecolor": "white",
            "ticks": ""
           }
          },
          "scene": {
           "xaxis": {
            "backgroundcolor": "#E5ECF6",
            "gridcolor": "white",
            "gridwidth": 2,
            "linecolor": "white",
            "showbackground": true,
            "ticks": "",
            "zerolinecolor": "white"
           },
           "yaxis": {
            "backgroundcolor": "#E5ECF6",
            "gridcolor": "white",
            "gridwidth": 2,
            "linecolor": "white",
            "showbackground": true,
            "ticks": "",
            "zerolinecolor": "white"
           },
           "zaxis": {
            "backgroundcolor": "#E5ECF6",
            "gridcolor": "white",
            "gridwidth": 2,
            "linecolor": "white",
            "showbackground": true,
            "ticks": "",
            "zerolinecolor": "white"
           }
          },
          "shapedefaults": {
           "line": {
            "color": "#2a3f5f"
           }
          },
          "ternary": {
           "aaxis": {
            "gridcolor": "white",
            "linecolor": "white",
            "ticks": ""
           },
           "baxis": {
            "gridcolor": "white",
            "linecolor": "white",
            "ticks": ""
           },
           "bgcolor": "#E5ECF6",
           "caxis": {
            "gridcolor": "white",
            "linecolor": "white",
            "ticks": ""
           }
          },
          "title": {
           "x": 0.05
          },
          "xaxis": {
           "automargin": true,
           "gridcolor": "white",
           "linecolor": "white",
           "ticks": "",
           "title": {
            "standoff": 15
           },
           "zerolinecolor": "white",
           "zerolinewidth": 2
          },
          "yaxis": {
           "automargin": true,
           "gridcolor": "white",
           "linecolor": "white",
           "ticks": "",
           "title": {
            "standoff": 15
           },
           "zerolinecolor": "white",
           "zerolinewidth": 2
          }
         }
        },
        "width": 1200,
        "xaxis": {
         "anchor": "y",
         "domain": [
          0,
          0.2888888888888889
         ]
        },
        "xaxis10": {
         "anchor": "y10",
         "domain": [
          0,
          0.2888888888888889
         ]
        },
        "xaxis11": {
         "anchor": "y11",
         "domain": [
          0.35555555555555557,
          0.6444444444444445
         ]
        },
        "xaxis12": {
         "anchor": "y12",
         "domain": [
          0.7111111111111111,
          1
         ]
        },
        "xaxis2": {
         "anchor": "y2",
         "domain": [
          0.35555555555555557,
          0.6444444444444445
         ]
        },
        "xaxis3": {
         "anchor": "y3",
         "domain": [
          0.7111111111111111,
          1
         ]
        },
        "xaxis4": {
         "anchor": "y4",
         "domain": [
          0,
          0.2888888888888889
         ]
        },
        "xaxis5": {
         "anchor": "y5",
         "domain": [
          0.35555555555555557,
          0.6444444444444445
         ]
        },
        "xaxis6": {
         "anchor": "y6",
         "domain": [
          0.7111111111111111,
          1
         ]
        },
        "xaxis7": {
         "anchor": "y7",
         "domain": [
          0,
          0.2888888888888889
         ]
        },
        "xaxis8": {
         "anchor": "y8",
         "domain": [
          0.35555555555555557,
          0.6444444444444445
         ]
        },
        "xaxis9": {
         "anchor": "y9",
         "domain": [
          0.7111111111111111,
          1
         ]
        },
        "yaxis": {
         "anchor": "x",
         "domain": [
          0.84375,
          1
         ]
        },
        "yaxis10": {
         "anchor": "x10",
         "domain": [
          0,
          0.15625
         ]
        },
        "yaxis11": {
         "anchor": "x11",
         "domain": [
          0,
          0.15625
         ]
        },
        "yaxis12": {
         "anchor": "x12",
         "domain": [
          0,
          0.15625
         ]
        },
        "yaxis2": {
         "anchor": "x2",
         "domain": [
          0.84375,
          1
         ]
        },
        "yaxis3": {
         "anchor": "x3",
         "domain": [
          0.84375,
          1
         ]
        },
        "yaxis4": {
         "anchor": "x4",
         "domain": [
          0.5625,
          0.71875
         ]
        },
        "yaxis5": {
         "anchor": "x5",
         "domain": [
          0.5625,
          0.71875
         ]
        },
        "yaxis6": {
         "anchor": "x6",
         "domain": [
          0.5625,
          0.71875
         ]
        },
        "yaxis7": {
         "anchor": "x7",
         "domain": [
          0.28125,
          0.4375
         ]
        },
        "yaxis8": {
         "anchor": "x8",
         "domain": [
          0.28125,
          0.4375
         ]
        },
        "yaxis9": {
         "anchor": "x9",
         "domain": [
          0.28125,
          0.4375
         ]
        }
       }
      }
     },
     "metadata": {},
     "output_type": "display_data"
    }
   ],
   "source": [
    "from plotly.subplots import make_subplots\n",
    "\n",
    "fig_rows = 4\n",
    "fig_cols = 3\n",
    "fig = make_subplots(rows=fig_rows, cols=fig_cols, subplot_titles=[\n",
    "    \"Ground truth blank squares\", \"Predicted blank squares\", \"Confidence gradient blank squares\",\n",
    "    \"Ground truth white pawn positions\", \"Predicted white pawn positions\", \"Confidence gradient white pawn positions\",\n",
    "    \"Ground truth black king position\", \"Predicted black king position\", \"Confidence gradient black king position\",\n",
    "    \"Ground truth state\", \"Predicted board state\", \"Missing pieces\"\n",
    "])\n",
    "\n",
    "\n",
    "# Specify the size of each plot\n",
    "plot_size = 400  # You can adjust this size\n",
    "\n",
    "fig.add_trace(plot_board_state(move_of_interest_state_one_hot_RRC[:, :, BLANK_INDEX]), row=1, col=1)\n",
    "#fig.add_trace(plot_board_state(move_of_interest_probe_out[:, :, BLANK_INDEX], clip_size=1), row=1, col=2)\n",
    "fig.add_trace(plot_board_state(get_predictied(probe_prediction_squares_RR,BLANK_INDEX - 6)), row=1, col=2)\n",
    "fig.add_trace(plot_board_state(move_of_interest_probe_out[:, :, BLANK_INDEX]), row=1, col=3)\n",
    "\n",
    "fig.add_trace(plot_board_state(move_of_interest_state_one_hot_RRC[:, :, white_pawn_index]), row=2, col=1)\n",
    "#fig.add_trace(plot_board_state(move_of_interest_probe_out[:, :, white_pawn_index], clip_size=1), row=2, col=2)\n",
    "fig.add_trace(plot_board_state(get_predictied(probe_prediction_squares_RR,white_pawn_index -6)), row=2, col=2)\n",
    "fig.add_trace(plot_board_state(move_of_interest_probe_out[:, :, white_pawn_index], show_scale=True), row=2, col=3)\n",
    "\n",
    "fig.add_trace(plot_board_state(move_of_interest_state_one_hot_RRC[:, :, black_king_index]), row=3, col=1)\n",
    "#fig.add_trace(plot_board_state(move_of_interest_probe_out[:, :, black_king_index], clip_size=1), row=3, col=2)\n",
    "fig.add_trace(plot_board_state(get_predictied(probe_prediction_squares_RR, black_king_index - 6)), row=3, col=2)\n",
    "fig.add_trace(plot_board_state(move_of_interest_probe_out[:, :, black_king_index]), row=3, col=3)\n",
    "\n",
    "fig.add_trace(plot_board_state_with_text(move_of_interest_state_RR), row=4, col=1)\n",
    "fig.add_trace(plot_board_state_with_text(state_stacks_probe_outputs_MBLRR[0][0][move_of_interest]), row=4, col=2)\n",
    "missing_pieces_positions_RR = (move_of_interest_state_RR != state_stacks_probe_outputs_MBLRR[0][0][move_of_interest]).int()\n",
    "missing_pieces_RR = (missing_pieces_positions_RR * move_of_interest_state_RR)\n",
    "fig.add_trace(plot_board_state_with_text(missing_pieces_RR), row=4, col=3)\n",
    "\n",
    "# Adjust the overall size of the figure\n",
    "fig.update_layout(height=fig_rows * plot_size * 1.3, width=fig_cols * plot_size)\n",
    "fig.update_annotations(dict(font=dict(size=18))) \n",
    "\n",
    "\n",
    "\n",
    "# Show the figure\n",
    "fig.show()"
   ]
  },
  {
   "cell_type": "markdown",
   "metadata": {},
   "source": [
    "This will check the percentage of squares in the sample (sample_size defaults to 1 game) where the ground truth matches the probe output.\n",
    "I also do a round trip through all the transformations, which should match 100%."
   ]
  },
  {
   "cell_type": "code",
   "execution_count": 25,
   "metadata": {},
   "outputs": [
    {
     "name": "stdout",
     "output_type": "stream",
     "text": [
      "Out of 2048 elements, 1534 matched, 74.90234375%\n",
      "Linear probe accuracy on all board squares in sample size: 0.7490234375\n"
     ]
    }
   ],
   "source": [
    "def calculate_matching_percentage(state_stacks: torch.Tensor, probe_outputs: torch.Tensor) -> float:\n",
    "    \"\"\"\n",
    "    Calculate the percentage of matching cells in two tensors.\n",
    "\n",
    "    :param state_stacks: A tensor of shape [1, 1, 680, 8, 8].\n",
    "    :param probe_outputs: A tensor of shape [1, 1, 680, 8, 8].\n",
    "    :return: The percentage of cells that match.\n",
    "    \"\"\"\n",
    "    # Element-wise comparison\n",
    "    matches = state_stacks == probe_outputs\n",
    "\n",
    "    # Count the number of matches\n",
    "    num_matches = matches.sum().item()\n",
    "\n",
    "    # Total number of elements\n",
    "    total_elements = state_stacks.numel()\n",
    "\n",
    "    # Calculate percentage\n",
    "    percentage = (num_matches / total_elements) * 100\n",
    "    print(f\"Out of {total_elements} elements, {num_matches} matched, {percentage}%\")\n",
    "\n",
    "    return percentage\n",
    "assert(state_stacks_probe_outputs_MBLRR.shape) == (state_stack_white_moves_MBLRR.shape)\n",
    "print(\"Linear probe accuracy on all board squares in sample size:\", calculate_matching_percentage(state_stack_white_moves_MBLRR, state_stacks_probe_outputs_MBLRR)/100)\n",
    "\n",
    "##Round trip tests\n",
    "#round_trip = chess_utils.one_hot_to_state_stack(chess_utils.state_stack_to_one_hot(modes, config.num_rows, config.num_cols, config.min_val,config.max_val, DEVICE, state_stack_white_moves_MBLRR), config.min_val)\n",
    "#round_trip = torch.tensor(round_trip)\n",
    "#print(round_trip.shape)\n",
    "#print(state_stack_white_moves_MBLRR.shape)\n",
    "#assert(round_trip.shape) == (modes, sample_size, num_white_moves, config.num_rows, config.num_cols)\n",
    "#assert(round_trip.shape) == state_stack_white_moves_MBLRR.shape\n",
    "#matching_percentage = calculate_matching_percentage(round_trip, state_stack_white_moves_MBLRR)\n",
    "#assert(matching_percentage == 100.0)\n",
    "#print(f\"Round trip matching percentage: {matching_percentage}%\")"
   ]
  },
  {
   "cell_type": "markdown",
   "metadata": {},
   "source": [
    "Now, we can perform interventions on the model's internals and view the modified probe outputs. We can also verify the model produces legal moves under the modified state of the board.\n",
    "\n",
    "First, we perform a sanity check to ensure that our interventions on model activations are working correctly. In this case, diff should roughly equal flip_dir.\n",
    "\n",
    "Note that I'm only intervening on one layer here. By modifying the first for loop and training additional probes, we can easily intervene on an arbitrary amount of layers. If we were to intervene on multiple layers, we can only check that torch.allclose(diff, flip_dirs[layer], atol=1e-6) for the first layer that we intervene on."
   ]
  },
  {
   "cell_type": "code",
   "execution_count": 26,
   "metadata": {},
   "outputs": [
    {
     "name": "stdout",
     "output_type": "stream",
     "text": [
      "Moving model to device:  cpu\n",
      "HookedTransformer(\n",
      "  (embed): Embed()\n",
      "  (hook_embed): HookPoint()\n",
      "  (pos_embed): PosEmbed()\n",
      "  (hook_pos_embed): HookPoint()\n",
      "  (blocks): ModuleList(\n",
      "    (0-7): 8 x TransformerBlock(\n",
      "      (ln1): LayerNormPre(\n",
      "        (hook_scale): HookPoint()\n",
      "        (hook_normalized): HookPoint()\n",
      "      )\n",
      "      (ln2): LayerNormPre(\n",
      "        (hook_scale): HookPoint()\n",
      "        (hook_normalized): HookPoint()\n",
      "      )\n",
      "      (attn): Attention(\n",
      "        (hook_k): HookPoint()\n",
      "        (hook_q): HookPoint()\n",
      "        (hook_v): HookPoint()\n",
      "        (hook_z): HookPoint()\n",
      "        (hook_attn_scores): HookPoint()\n",
      "        (hook_pattern): HookPoint()\n",
      "        (hook_result): HookPoint()\n",
      "      )\n",
      "      (mlp): MLP(\n",
      "        (hook_pre): HookPoint()\n",
      "        (hook_post): HookPoint()\n",
      "      )\n",
      "      (hook_attn_in): HookPoint()\n",
      "      (hook_q_input): HookPoint()\n",
      "      (hook_k_input): HookPoint()\n",
      "      (hook_v_input): HookPoint()\n",
      "      (hook_mlp_in): HookPoint()\n",
      "      (hook_attn_out): HookPoint()\n",
      "      (hook_mlp_out): HookPoint()\n",
      "      (hook_resid_pre): HookPoint()\n",
      "      (hook_resid_mid): HookPoint()\n",
      "      (hook_resid_post): HookPoint()\n",
      "    )\n",
      "  )\n",
      "  (ln_final): LayerNormPre(\n",
      "    (hook_scale): HookPoint()\n",
      "    (hook_normalized): HookPoint()\n",
      "  )\n",
      "  (unembed): Unembed()\n",
      ")\n",
      "torch.Size([1, 364, 512])\n",
      "torch.Size([1, 364, 512])\n",
      "Flip hook test passed\n"
     ]
    }
   ],
   "source": [
    "probe_data.model.reset_hooks()\n",
    "\n",
    "_, cache = probe_data.model.run_with_cache(board_seqs_int_BL.to(DEVICE)[:, :-1], return_type=None)\n",
    "resid_post_BlD = cache[\"resid_post\", layer][:, :]\n",
    "\n",
    "r = 0\n",
    "c = 0\n",
    "\n",
    "probe_names = {}\n",
    "for i in range(layer, layer + 1):\n",
    "    probe_names[i] = base_probe_name.replace(\"layer_0\", f\"layer_{i}\")\n",
    "\n",
    "probes = {}\n",
    "\n",
    "# Use this to intervene on multiple layers\n",
    "for layer, probe_name in probe_names.items():\n",
    "    probe_file_location = f\"{SAVED_PROBE_DIR}{probe_name}\"\n",
    "    checkpoint = torch.load(probe_file_location, map_location=torch.device(DEVICE))\n",
    "    linear_probe_MDRRC = checkpoint[\"linear_probe\"]\n",
    "    probes[layer] = linear_probe_MDRRC\n",
    "\n",
    "\n",
    "flip_dirs = {}\n",
    "\n",
    "piece1 = BLANK_INDEX\n",
    "piece2 = black_king_index\n",
    "\n",
    "for layer, linear_probe_MDRRC in probes.items():\n",
    "    piece1_probe = linear_probe_MDRRC[:, :, r, c, piece1].squeeze()\n",
    "    piece2_probe = linear_probe_MDRRC[:, :, r, c, piece2].squeeze()\n",
    "    flip_dir = piece2_probe - piece1_probe\n",
    "    flip_dir.to(DEVICE)\n",
    "    flip_dirs[layer] = flip_dir\n",
    "\n",
    "def flip_hook(resid, hook, flip_dir: torch.Tensor):\n",
    "    resid[GAME_IDX, :] -= flip_dir # NOTE: We could only intervene on a single position in the sequence, but there's no harm in intervening on all of them\n",
    "\n",
    "probe_data.model.reset_hooks()\n",
    "\n",
    "for layer, flip_dir in flip_dirs.items():\n",
    "    temp_hook_fn = partial(flip_hook, flip_dir=flip_dir)\n",
    "    hook_name = f\"blocks.{layer}.hook_resid_post\"\n",
    "    probe_data.model.add_hook(hook_name, temp_hook_fn)\n",
    "\n",
    "print(probe_data.model.cpu())\n",
    "_, modified_cache = probe_data.model.run_with_cache(board_seqs_int_BL.to(DEVICE)[:, :-1])\n",
    "probe_data.model.reset_hooks()\n",
    "modified_resid_post = modified_cache[\"resid_post\", layer][:, :]\n",
    "\n",
    "print(resid_post_BlD.shape)\n",
    "print(modified_resid_post.shape)\n",
    "\n",
    "diff = resid_post_BlD[GAME_IDX, 10, :] - modified_resid_post[GAME_IDX, 10, :]\n",
    "\n",
    "assert torch.allclose(diff, flip_dirs[layer], atol=1e-6)\n",
    "print(\"Flip hook test passed\")"
   ]
  },
  {
   "cell_type": "markdown",
   "metadata": {},
   "source": [
    "Next, we load the model's vocab."
   ]
  },
  {
   "cell_type": "code",
   "execution_count": 27,
   "metadata": {},
   "outputs": [],
   "source": [
    "with open(\"models/meta.pkl\", \"rb\") as f:\n",
    "    meta = pickle.load(f)\n",
    "stoi = meta[\"stoi\"]\n",
    "itos = meta[\"itos\"]\n",
    "def encode_string(s: str) -> list[int]:\n",
    "    \"\"\"Encode a string into a list of integers.\"\"\"\n",
    "    return [stoi[c] for c in s]\n",
    "\n",
    "\n",
    "def decode_list(l: list[int]) -> str:\n",
    "    \"\"\"Decode a list of integers into a string.\"\"\"\n",
    "    return \"\".join([itos[i] for i in l])"
   ]
  },
  {
   "cell_type": "markdown",
   "metadata": {},
   "source": [
    "Next, we generate 10 characters using the model to determine the model's next move. Note that we are using argmax instead of a temperature based approach, so this will always return the most likely move.One annoying problem we deal with: In chess, the 0th row is at the bottom, which is how print(chess_board) displays everything. But, for our state stack (and any array), the 0th row is at the top.\n",
    "\n",
    "Now, we get a pgn string up to the current move and convert it to a chess board. We use it to create an encoded model_input as well."
   ]
  },
  {
   "cell_type": "code",
   "execution_count": 28,
   "metadata": {},
   "outputs": [
    {
     "name": "stdout",
     "output_type": "stream",
     "text": [
      "tensor([[ 4,  2,  0,  0,  6,  3,  2,  4],\n",
      "        [ 0,  1,  0,  5,  0,  0,  0,  1],\n",
      "        [ 3,  0,  0,  1,  0,  0,  1,  0],\n",
      "        [ 1,  0,  1,  0,  0, -2,  0,  0],\n",
      "        [-1,  0,  0,  0,  0, -3,  0,  0],\n",
      "        [ 0,  0,  0, -1,  0,  0,  0,  0],\n",
      "        [ 0, -1, -1,  0, -1,  0, -1, -1],\n",
      "        [ 0, -4,  0, -5, -6, -3, -2, -4]], dtype=torch.int8)\n",
      "torch.Size([1, 121])\n",
      ". r . q k b n r\n",
      ". p p . p . p p\n",
      ". . . p . . . .\n",
      "p . . . . b . .\n",
      "P . P . . n . .\n",
      "B . . P . . P .\n",
      ". P . Q . . . P\n",
      "R N . . K B N R\n",
      "<LegalMoveGenerator at 0x76e0bc15b470 (Bxd6, Bc5, Bb4, Qxa5, Qxf4, Qb4, Qe3, Qc3, Qg2, Qf2, Qe2, Qc2, Qd1, Qc1, Nh3, Nf3, Ne2, Bh3, Bg2, Be2, Kf2, Kd1, Nc3, Ra2, gxf4, c5, g4, d4, h3, b3, h4, b4)>\n"
     ]
    }
   ],
   "source": [
    "print(move_of_interest_state_RR)\n",
    "\n",
    "pgn_string = probe_data.board_seqs_string[GAME_IDX][:move_of_interest_index + 1]\n",
    "model_input = encode_string(pgn_string)\n",
    "model_input = torch.tensor(model_input).unsqueeze(0).to(DEVICE)\n",
    "print(model_input.shape)\n",
    "board = chess_utils.pgn_string_to_board(pgn_string)\n",
    "\n",
    "print(board)\n",
    "print(board.legal_moves)"
   ]
  },
  {
   "cell_type": "markdown",
   "metadata": {},
   "source": [
    "We generate a move using the model on the original board and check that the move is legal. Next, we determine which piece was moved, and which row / column the source square of the move was."
   ]
  },
  {
   "cell_type": "code",
   "execution_count": 29,
   "metadata": {},
   "outputs": [
    {
     "ename": "InvalidMoveError",
     "evalue": "invalid san: ''",
     "output_type": "error",
     "traceback": [
      "\u001b[0;31m---------------------------------------------------------------------------\u001b[0m",
      "\u001b[0;31mInvalidMoveError\u001b[0m                          Traceback (most recent call last)",
      "Cell \u001b[0;32mIn[29], line 2\u001b[0m\n\u001b[1;32m      1\u001b[0m model_move \u001b[38;5;241m=\u001b[39m chess_utils\u001b[38;5;241m.\u001b[39mget_model_move(probe_data\u001b[38;5;241m.\u001b[39mmodel, meta, model_input)\n\u001b[0;32m----> 2\u001b[0m model_move_san \u001b[38;5;241m=\u001b[39m \u001b[43mboard\u001b[49m\u001b[38;5;241;43m.\u001b[39;49m\u001b[43mparse_san\u001b[49m\u001b[43m(\u001b[49m\u001b[43mmodel_move\u001b[49m\u001b[43m)\u001b[49m\n\u001b[1;32m      3\u001b[0m \u001b[38;5;28;01massert\u001b[39;00m model_move_san \u001b[38;5;129;01min\u001b[39;00m board\u001b[38;5;241m.\u001b[39mlegal_moves\n\u001b[1;32m      5\u001b[0m moved_piece \u001b[38;5;241m=\u001b[39m board\u001b[38;5;241m.\u001b[39mpiece_at(model_move_san\u001b[38;5;241m.\u001b[39mfrom_square)\n",
      "File \u001b[0;32m~/chess_llm_interpretability/interEnv/lib/python3.12/site-packages/chess/__init__.py:3157\u001b[0m, in \u001b[0;36mBoard.parse_san\u001b[0;34m(self, san)\u001b[0m\n\u001b[1;32m   3155\u001b[0m         \u001b[38;5;28;01mraise\u001b[39;00m InvalidMoveError(\u001b[38;5;124mf\u001b[39m\u001b[38;5;124m\"\u001b[39m\u001b[38;5;124munsupported multi-leg move: \u001b[39m\u001b[38;5;132;01m{\u001b[39;00msan\u001b[38;5;132;01m!r}\u001b[39;00m\u001b[38;5;124m\"\u001b[39m)\n\u001b[1;32m   3156\u001b[0m     \u001b[38;5;28;01melse\u001b[39;00m:\n\u001b[0;32m-> 3157\u001b[0m         \u001b[38;5;28;01mraise\u001b[39;00m InvalidMoveError(\u001b[38;5;124mf\u001b[39m\u001b[38;5;124m\"\u001b[39m\u001b[38;5;124minvalid san: \u001b[39m\u001b[38;5;132;01m{\u001b[39;00msan\u001b[38;5;132;01m!r}\u001b[39;00m\u001b[38;5;124m\"\u001b[39m)\n\u001b[1;32m   3159\u001b[0m \u001b[38;5;66;03m# Get target square. Mask our own pieces to exclude castling moves.\u001b[39;00m\n\u001b[1;32m   3160\u001b[0m to_square \u001b[38;5;241m=\u001b[39m SQUARE_NAMES\u001b[38;5;241m.\u001b[39mindex(match\u001b[38;5;241m.\u001b[39mgroup(\u001b[38;5;241m4\u001b[39m))\n",
      "\u001b[0;31mInvalidMoveError\u001b[0m: invalid san: ''"
     ]
    }
   ],
   "source": [
    "model_move = chess_utils.get_model_move(probe_data.model, meta, model_input)\n",
    "model_move_san = board.parse_san(model_move)\n",
    "assert model_move_san in board.legal_moves\n",
    "\n",
    "moved_piece = board.piece_at(model_move_san.from_square)\n",
    "moved_piece_int = PIECE_TO_INT[moved_piece.piece_type]\n",
    "moved_piece_probe_index = PIECE_TO_ONE_HOT_MAPPING[moved_piece_int]\n",
    "source_square = chess.square_name(model_move_san.from_square)\n",
    "\n",
    "\n",
    "r, c = chess_utils.square_to_coordinate(model_move_san.from_square)\n",
    "print(r, c)\n",
    "\n",
    "print(f\"Model move: {model_move_san}, moved piece: {moved_piece}, moved piece int: {moved_piece_int}, moved piece probe index: {moved_piece_probe_index}, source square: {source_square}\")"
   ]
  },
  {
   "cell_type": "markdown",
   "metadata": {},
   "source": [
    "Now, we create a modified board where the source square of the model's original move is blank."
   ]
  },
  {
   "cell_type": "code",
   "execution_count": null,
   "metadata": {},
   "outputs": [],
   "source": [
    "modified_state_stack = state_stack_white_moves_MBLRR.clone()\n",
    "modified_state_stack[0, GAME_IDX, move_of_interest, r, c] = 0\n",
    "modified_move_of_interest_state = modified_state_stack[0, GAME_IDX, move_of_interest]\n",
    "modified_state_stacks_one_hot = chess_utils.state_stack_to_one_hot(modes, config.num_rows, config.num_cols, config.min_val, config.max_val, DEVICE, modified_state_stack)\n",
    "modified_move_of_interest_state_one_hot = modified_state_stacks_one_hot[0][GAME_IDX][move_of_interest]\n",
    "modified_board = board.copy()\n",
    "modified_board.set_piece_at(model_move_san.from_square, None)\n",
    "print(modified_board)\n",
    "print(modified_board.legal_moves)\n",
    "\n",
    "assert modified_move_of_interest_state_one_hot.shape == move_of_interest_state_one_hot_RRC.shape\n",
    "assert modified_state_stack.shape == state_stack_white_moves_MBLRR.shape\n",
    "assert modified_state_stacks_one_hot.shape == state_stacks_one_hot_MBLRRC.shape"
   ]
  },
  {
   "cell_type": "markdown",
   "metadata": {},
   "source": [
    "Next, we get flip_dir, which is a probe of piece * piece_coefficient - blank square * blank_coefficient. In practice, I find that it works best when blank_coefficient is 0. We subtract this flip_dir from the model's activations at every token. We generate 10 new characters using the model, and verify that the new move under this modified state is legal according to the modified state. We also save a copy of the modified activations and generate modified probe outputs."
   ]
  },
  {
   "cell_type": "code",
   "execution_count": null,
   "metadata": {},
   "outputs": [],
   "source": [
    "_, cache = probe_data.model.run_with_cache(board_seqs_int_BL.to(DEVICE)[:, :-1], return_type=None)\n",
    "resid_post_BlD = cache[\"resid_post\", layer][:, :]\n",
    "\n",
    "flip_dirs = {}\n",
    "\n",
    "piece1 = BLANK_INDEX\n",
    "piece1_probe = linear_probe_MDRRC[:, :, r, c, piece1].squeeze()\n",
    "piece2 = moved_piece_probe_index\n",
    "\n",
    "for layer, linear_probe_MDRRC in probes.items():\n",
    "    piece2_probe = linear_probe_MDRRC[:, :, r, c, piece2].squeeze()\n",
    "    flip_dir = piece2_probe - piece1_probe\n",
    "    flip_dir.to(DEVICE)\n",
    "    flip_dirs[layer] = flip_dir\n",
    "\n",
    "def flip_hook(resid, hook, flip_dir: torch.Tensor):\n",
    "    # print(resid[0, move_of_interest_index, :].shape)\n",
    "    # print(flip_dir.shape)\n",
    "    # print(piece1_probe.shape)\n",
    "    # left_side = torch.dot(resid[0, move_of_interest_index, :], piece1_probe) - 3.0\n",
    "    # right_side = torch.dot(flip_dir, piece1_probe)\n",
    "    # scale = left_side / right_side\n",
    "    # print(scale)\n",
    "    \n",
    "    # # Calculate scale\n",
    "    # scale = left_side / right_side\n",
    "    piece_coefficient = 1.0\n",
    "    blank_coefficient = 0.0\n",
    "    blank_probe = probes[layer][:, :, r, c, BLANK_INDEX].squeeze()\n",
    "    piece_probe = probes[layer][:, :, r, c, moved_piece_probe_index].squeeze()\n",
    "\n",
    "    flip_dir = (piece_probe * piece_coefficient) - (blank_probe * blank_coefficient)\n",
    "    flip_dir = flip_dir / flip_dir.norm()\n",
    "    scale = 1.0\n",
    "    resid[0, :] -= scale * flip_dir # NOTE: We could only intervene on a single position in the sequence, but there's no harm in intervening on all of them\n",
    "\n",
    "probe_data.model.reset_hooks()\n",
    "\n",
    "for layer, flip_dir in flip_dirs.items():\n",
    "    temp_hook_fn = partial(flip_hook, flip_dir=flip_dir)\n",
    "    hook_name = f\"blocks.{layer}.hook_resid_post\"\n",
    "    probe_data.model.add_hook(hook_name, temp_hook_fn)\n",
    "_, modified_cache = probe_data.model.run_with_cache(board_seqs_int_BL.to(DEVICE)[:, :-1])\n",
    "modified_board_model_move = chess_utils.get_model_move(probe_data.model, meta, model_input)\n",
    "probe_data.model.reset_hooks()\n",
    "modified_resid_post = modified_cache[\"resid_post\", layer][:, :]\n",
    "\n",
    "\n",
    "print(modified_board_model_move)\n",
    "# modified_board_model_move_san = modified_board.parse_san(modified_board_model_move)\n",
    "# assert modified_board_model_move_san in modified_board.legal_moves"
   ]
  },
  {
   "cell_type": "code",
   "execution_count": null,
   "metadata": {},
   "outputs": [],
   "source": [
    "print(flip_dirs[layer].shape)\n",
    "print(resid_post_BlD.shape)\n",
    "print(modified_resid_post.shape)"
   ]
  },
  {
   "cell_type": "code",
   "execution_count": null,
   "metadata": {},
   "outputs": [],
   "source": [
    "indexed_modified_resid_posts = []\n",
    "\n",
    "for batch_idx in range(white_move_indices_BL.size(0)):\n",
    "    dots_indices_for_batch_L = white_move_indices_BL[batch_idx]\n",
    "    indexed_modified_resid_post = modified_resid_post[batch_idx, dots_indices_for_batch_L]\n",
    "    indexed_modified_resid_posts.append(indexed_modified_resid_post)\n",
    "\n",
    "# Stack the indexed state stacks along the first dimension\n",
    "stacked_modified_resid_post = torch.stack(indexed_modified_resid_posts)\n",
    "stacked_modified_resid_post = stacked_modified_resid_post.to(DEVICE)\n",
    "\n",
    "assert stacked_modified_resid_post.shape == (sample_size, num_white_moves, linear_probe_MDRRC.shape[1])\n",
    "\n",
    "modified_probe_out = einsum(\n",
    "    \"batch pos d_model, modes d_model rows cols options -> modes batch pos rows cols options\",\n",
    "    stacked_modified_resid_post,\n",
    "    linear_probe_MDRRC,\n",
    ")\n",
    "modified_state_stacks_probe_outputs = chess_utils.one_hot_to_state_stack(modified_probe_out, config.min_val)\n",
    "modified_state_stacks_probe_outputs = torch.tensor(modified_state_stacks_probe_outputs)"
   ]
  },
  {
   "cell_type": "markdown",
   "metadata": {},
   "source": [
    "Now, we can graph the original and modified board states and probe outputs."
   ]
  },
  {
   "cell_type": "code",
   "execution_count": null,
   "metadata": {},
   "outputs": [],
   "source": [
    "from plotly.subplots import make_subplots\n",
    "\n",
    "move_of_interest_probe_out = probe_out_MBLRRC[0][0][move_of_interest]\n",
    "move_of_interest_probe_out_modified = modified_probe_out[0][0][move_of_interest]\n",
    "print(move_of_interest_probe_out.shape)\n",
    "\n",
    "fig_rows = 6\n",
    "fig_cols = 3\n",
    "fig = make_subplots(rows=fig_rows, cols=fig_cols, subplot_titles=[\n",
    "    \"Chess board blank squares\", \"Probe output blank squares clip=2\", \"Probe output blank squares no clipping\",\n",
    "    \"Chess board original piece\", \"Probe output original piece clip=5\", \"Probe output original piece no clipping\",\n",
    "    \"Modified chess board blank squares\", \"Probe output blank squares clip=2\", \"Probe output blank squares no clipping\",\n",
    "    \"Modified chess board original piece\", \"Probe output original piece clip=5\", \"Probe output original piece no clipping\",\n",
    "    \"Chess board state\", \"Probe output board state\", \"Redundant probe output board state\",\n",
    "    \"Modified chess board state\", \"Probe output board state\", \"Redundant probe output board state\"\n",
    "])\n",
    "\n",
    "\n",
    "# Specify the size of each plot\n",
    "plot_size = 400  # You can adjust this size\n",
    "\n",
    "\n",
    "\n",
    "fig.add_trace(plot_board_state(move_of_interest_state_one_hot_RRC[:, :, BLANK_INDEX]), row=1, col=1)\n",
    "fig.add_trace(plot_board_state(move_of_interest_probe_out[:, :, BLANK_INDEX], clip_size=2), row=1, col=2)\n",
    "fig.add_trace(plot_board_state(move_of_interest_probe_out[:, :, BLANK_INDEX]), row=1, col=3)\n",
    "\n",
    "fig.add_trace(plot_board_state(move_of_interest_state_one_hot_RRC[:, :, moved_piece_probe_index]), row=2, col=1)\n",
    "fig.add_trace(plot_board_state(move_of_interest_probe_out[:, :, moved_piece_probe_index], clip_size=5), row=2, col=2)\n",
    "fig.add_trace(plot_board_state(move_of_interest_probe_out[:, :, moved_piece_probe_index]), row=2, col=3)\n",
    "\n",
    "fig.add_trace(plot_board_state(modified_move_of_interest_state_one_hot[:, :, BLANK_INDEX]), row=3, col=1)\n",
    "fig.add_trace(plot_board_state(move_of_interest_probe_out_modified[:, :, BLANK_INDEX], clip_size=2), row=3, col=2)\n",
    "fig.add_trace(plot_board_state(move_of_interest_probe_out_modified[:, :, BLANK_INDEX]), row=3, col=3)\n",
    "\n",
    "fig.add_trace(plot_board_state(modified_move_of_interest_state_one_hot[:, :, moved_piece_probe_index]), row=4, col=1)\n",
    "fig.add_trace(plot_board_state(move_of_interest_probe_out_modified[:, :, moved_piece_probe_index], clip_size=5), row=4, col=2)\n",
    "fig.add_trace(plot_board_state(move_of_interest_probe_out_modified[:, :, moved_piece_probe_index]), row=4, col=3)\n",
    "\n",
    "fig.add_trace(plot_board_state_with_text(move_of_interest_state_RR), row=5, col=1)\n",
    "fig.add_trace(plot_board_state_with_text(state_stacks_probe_outputs_MBLRR[0][0][move_of_interest]), row=5, col=2)\n",
    "fig.add_trace(plot_board_state_with_text(state_stacks_probe_outputs_MBLRR[0][0][move_of_interest]), row=5, col=2)\n",
    "\n",
    "fig.add_trace(plot_board_state_with_text(modified_move_of_interest_state), row=6, col=1)\n",
    "fig.add_trace(plot_board_state_with_text(modified_state_stacks_probe_outputs[0][0][move_of_interest]), row=6, col=2)\n",
    "fig.add_trace(plot_board_state_with_text(modified_state_stacks_probe_outputs[0][0][move_of_interest]), row=6, col=2)\n",
    "\n",
    "# Adjust the overall size of the figure\n",
    "fig.update_layout(height=fig_rows * plot_size, width=fig_cols * plot_size)\n",
    "\n",
    "# Show the figure\n",
    "fig.show()"
   ]
  }
 ],
 "metadata": {
  "kernelspec": {
   "display_name": "interEnv",
   "language": "python",
   "name": "python3"
  },
  "language_info": {
   "codemirror_mode": {
    "name": "ipython",
    "version": 3
   },
   "file_extension": ".py",
   "mimetype": "text/x-python",
   "name": "python",
   "nbconvert_exporter": "python",
   "pygments_lexer": "ipython3",
   "version": "3.12.3"
  }
 },
 "nbformat": 4,
 "nbformat_minor": 2
}
