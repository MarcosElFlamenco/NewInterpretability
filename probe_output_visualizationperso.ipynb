{
 "cells": [
  {
   "cell_type": "code",
   "execution_count": 1,
   "metadata": {},
   "outputs": [
    {
     "name": "stderr",
     "output_type": "stream",
     "text": [
      "/home/oscar/chess_interpretability/env/lib/python3.12/site-packages/tqdm/auto.py:21: TqdmWarning: IProgress not found. Please update jupyter and ipywidgets. See https://ipywidgets.readthedocs.io/en/stable/user_install.html\n",
      "  from .autonotebook import tqdm as notebook_tqdm\n",
      "2024-12-10 15:34:18,412 - probe_training_utils - INFO - {'vocab_size': 32, 'itos': {0: ' ', 1: '#', 2: '+', 3: '-', 4: '.', 5: '0', 6: '1', 7: '2', 8: '3', 9: '4', 10: '5', 11: '6', 12: '7', 13: '8', 14: '9', 15: ';', 16: '=', 17: 'B', 18: 'K', 19: 'N', 20: 'O', 21: 'Q', 22: 'R', 23: 'a', 24: 'b', 25: 'c', 26: 'd', 27: 'e', 28: 'f', 29: 'g', 30: 'h', 31: 'x'}, 'stoi': {' ': 0, '#': 1, '+': 2, '-': 3, '.': 4, '0': 5, '1': 6, '2': 7, '3': 8, '4': 9, '5': 10, '6': 11, '7': 12, '8': 13, '9': 14, ';': 15, '=': 16, 'B': 17, 'K': 18, 'N': 19, 'O': 20, 'Q': 21, 'R': 22, 'a': 23, 'b': 24, 'c': 25, 'd': 26, 'e': 27, 'f': 28, 'g': 29, 'h': 30, 'x': 31}}\n",
      "2024-12-10 15:34:18,417 - probe_training_utils - INFO - Using device: cuda\n",
      "2024-12-10 15:34:18,417 - probe_training_utils - INFO - [6, 4, 27, 9, 0, 27, 11, 0, 7, 4, 19, 28, 8]\n",
      "2024-12-10 15:34:18,418 - probe_training_utils - INFO - Performing round trip test on meta\n"
     ]
    }
   ],
   "source": [
    "import torch\n",
    "import numpy as np\n",
    "from fancy_einsum import einsum\n",
    "import chess\n",
    "import numpy as np\n",
    "import pickle\n",
    "import logging\n",
    "import plotly.graph_objects as go\n",
    "from functools import partial\n",
    "\n",
    "import chess_utils\n",
    "import train_test_chess\n",
    "import importlib"
   ]
  },
  {
   "cell_type": "markdown",
   "metadata": {},
   "source": [
    "There's a bunch of setup below to get some data in some tensors that we can feed to our model."
   ]
  },
  {
   "cell_type": "code",
   "execution_count": 2,
   "metadata": {},
   "outputs": [
    {
     "data": {
      "text/plain": [
       "<torch.autograd.grad_mode.set_grad_enabled at 0x7a8e8f39b8c0>"
      ]
     },
     "execution_count": 2,
     "metadata": {},
     "output_type": "execute_result"
    }
   ],
   "source": [
    "torch.set_grad_enabled(False)"
   ]
  },
  {
   "cell_type": "code",
   "execution_count": 3,
   "metadata": {},
   "outputs": [],
   "source": [
    "# Flags to control logging\n",
    "debug_mode = False\n",
    "info_mode = True\n",
    "\n",
    "if debug_mode:\n",
    "    log_level = logging.DEBUG\n",
    "elif info_mode:\n",
    "    log_level = logging.INFO\n",
    "else:\n",
    "    log_level = logging.WARNING\n",
    "\n",
    "# Configure logging\n",
    "logging.basicConfig(level=log_level)\n",
    "logger = logging.getLogger(__name__)"
   ]
  },
  {
   "cell_type": "markdown",
   "metadata": {},
   "source": [
    "Here you can select which probe and model to use. By default, the model_setup.py downloads a lichess 8 layer model. We can then select a probe from saved_probes/. Ideally, this should also be a lichess probe. Then this code should auto populate parameters according to the probe's state dict.\n",
    "\n",
    "To reproduce paper / blog post figures, set USE_16_LAYER to True and run model_setup.py on the lichess 16 layer model."
   ]
  },
  {
   "cell_type": "code",
   "execution_count": 4,
   "metadata": {},
   "outputs": [
    {
     "name": "stderr",
     "output_type": "stream",
     "text": [
      "INFO:__main__:Using device: cpu\n"
     ]
    },
    {
     "name": "stdout",
     "output_type": "stream",
     "text": [
      "dict_keys(['linear_probe', 'final_loss', 'iters', 'epochs', 'acc', 'linear_probe_name', 'layer', 'indexing_function_name', 'batch_size', 'lr', 'wd', 'pos_start', 'num_epochs', 'num_games', 'modes', 'wandb_project', 'config_name', 'column_name', 'levels_of_interest', 'split', 'dataset_prefix', 'model_name', 'n_layers', 'wandb_run_name', 'player_color'])\n",
      "final_loss tensor(56.8934, requires_grad=True)\n",
      "iters 50000\n",
      "epochs 4\n",
      "acc tensor(0.6581)\n",
      "linear_probe_name chess_piece_probe\n",
      "layer 5\n",
      "indexing_function_name find_dots_indices\n",
      "batch_size 2\n",
      "lr 0.001\n",
      "wd 0.01\n",
      "pos_start 0\n",
      "num_epochs 5\n",
      "num_games 10000\n",
      "modes 1\n",
      "wandb_project chess_linear_probes\n",
      "config_name chess_piece_probe\n",
      "column_name None\n",
      "levels_of_interest None\n",
      "split train\n",
      "dataset_prefix random\n",
      "model_name tf_lens_random_8layers_ckpt_no_optimizer\n",
      "n_layers 8\n",
      "wandb_run_name chess_piece_probe_tf_lens_random_8layers_ckpt_no_optimizer_layer_5_indexing_find_dots_indices_max_games_10000\n",
      "player_color White\n",
      "This is the control probe: linear_probes/saved_probes/tf_lens_random_8layers_ckpt_no_optimizer_chess_piece_probe_layer_5.pth\n",
      "dict_keys(['linear_probe', 'final_loss', 'iters', 'epochs', 'acc', 'linear_probe_name', 'layer', 'indexing_function_name', 'batch_size', 'lr', 'wd', 'pos_start', 'num_epochs', 'num_games', 'modes', 'wandb_project', 'config_name', 'column_name', 'levels_of_interest', 'split', 'dataset_prefix', 'model_name', 'n_layers', 'wandb_run_name', 'player_color'])\n",
      "final_loss tensor(56.8934, requires_grad=True)\n",
      "iters 50000\n",
      "epochs 4\n",
      "acc tensor(0.6581)\n",
      "linear_probe_name chess_piece_probe\n",
      "layer 5\n",
      "indexing_function_name find_dots_indices\n",
      "batch_size 2\n",
      "lr 0.001\n",
      "wd 0.01\n",
      "pos_start 0\n",
      "num_epochs 5\n",
      "num_games 10000\n",
      "modes 1\n",
      "wandb_project chess_linear_probes\n",
      "config_name chess_piece_probe\n",
      "column_name None\n",
      "levels_of_interest None\n",
      "split train\n",
      "dataset_prefix random\n",
      "model_name tf_lens_random_8layers_ckpt_no_optimizer\n",
      "n_layers 8\n",
      "wandb_run_name chess_piece_probe_tf_lens_random_8layers_ckpt_no_optimizer_layer_5_indexing_find_dots_indices_max_games_10000\n",
      "player_color White\n"
     ]
    },
    {
     "name": "stderr",
     "output_type": "stream",
     "text": [
      "/tmp/ipykernel_42572/674818119.py:31: FutureWarning: You are using `torch.load` with `weights_only=False` (the current default value), which uses the default pickle module implicitly. It is possible to construct malicious pickle data which will execute arbitrary code during unpickling (See https://github.com/pytorch/pytorch/blob/main/SECURITY.md#untrusted-models for more details). In a future release, the default value for `weights_only` will be flipped to `True`. This limits the functions that could be executed during unpickling. Arbitrary objects will no longer be allowed to be loaded via this mode unless they are explicitly allowlisted by the user via `torch.serialization.add_safe_globals`. We recommend you start setting `weights_only=True` for any use case where you don't have full control of the loaded file. Please open an issue on GitHub for any issues related to this experimental feature.\n",
      "  state_dict = torch.load(f, map_location=torch.device(DEVICE))\n",
      "/tmp/ipykernel_42572/674818119.py:64: FutureWarning: You are using `torch.load` with `weights_only=False` (the current default value), which uses the default pickle module implicitly. It is possible to construct malicious pickle data which will execute arbitrary code during unpickling (See https://github.com/pytorch/pytorch/blob/main/SECURITY.md#untrusted-models for more details). In a future release, the default value for `weights_only` will be flipped to `True`. This limits the functions that could be executed during unpickling. Arbitrary objects will no longer be allowed to be loaded via this mode unless they are explicitly allowlisted by the user via `torch.serialization.add_safe_globals`. We recommend you start setting `weights_only=True` for any use case where you don't have full control of the loaded file. Please open an issue on GitHub for any issues related to this experimental feature.\n",
      "  control_state_dict = torch.load(f, map_location=torch.device(DEVICE))\n"
     ]
    }
   ],
   "source": [
    "MODEL_DIR = \"models/\"\n",
    "DATA_DIR = \"data/\"\n",
    "PROBE_DIR = \"linear_probes/\"\n",
    "SAVED_PROBE_DIR = \"linear_probes/saved_probes/\"\n",
    "SPLIT = \"test\"\n",
    "\n",
    "DEVICE = \"cpu\"\n",
    "logger.info(f\"Using device: {DEVICE}\")\n",
    "probe_type = 'random'\n",
    "control_type = \"lichess\"\n",
    "base_probe_name = f\"tf_lens_{probe_type}_8layers_ckpt_no_optimizer_chess_piece_probe_layer_0.pth\"\n",
    "base_control_probe_name = f\"tf_lens_{probe_type}_8layers_ckpt_no_optimizer_chess_piece_probe_layer_5.pth\"\n",
    "\n",
    "LAYER = 5\n",
    "\n",
    "USE_16_LAYER = False\n",
    "\n",
    "if USE_16_LAYER:\n",
    "    LAYER = 11\n",
    "    base_probe_name = \"tf_lens_lichess_16layers_ckpt_no_optimizer_chess_piece_probe_layer_0.pth\"\n",
    "\n",
    "probe_to_test = base_probe_name.replace(\"layer_0\", f\"layer_{LAYER}\")\n",
    "\n",
    "num_games = 10\n",
    "sample_size = 1\n",
    "modes = 1\n",
    "\n",
    "probe_file_location = f\"{SAVED_PROBE_DIR}{probe_to_test}\"\n",
    "control_probe_file_location = f\"{SAVED_PROBE_DIR}{base_control_probe_name}\"\n",
    "with open(probe_file_location, \"rb\") as f:\n",
    "    state_dict = torch.load(f, map_location=torch.device(DEVICE))\n",
    "    print(state_dict.keys())\n",
    "    for key in state_dict.keys():\n",
    "        if key != \"linear_probe\":\n",
    "            print(key, state_dict[key])\n",
    "\n",
    "    config = chess_utils.find_config_by_name(state_dict[\"config_name\"])\n",
    "    layer = state_dict[\"layer\"]\n",
    "    model_name = state_dict[\"model_name\"]\n",
    "    dataset_prefix = state_dict[\"dataset_prefix\"]\n",
    "    column_name = state_dict[\"column_name\"]\n",
    "    config.pos_start = state_dict[\"pos_start\"]\n",
    "    levels_of_interest = None\n",
    "    if \"levels_of_interest\" in state_dict.keys():\n",
    "        levels_of_interest = state_dict[\"levels_of_interest\"]\n",
    "    config.levels_of_interest = levels_of_interest\n",
    "    indexing_function_name = state_dict[\"indexing_function_name\"]\n",
    "    n_layers = state_dict[\"n_layers\"]\n",
    "    \n",
    "\n",
    "    split = SPLIT\n",
    "    input_dataframe_file = f\"{DATA_DIR}{dataset_prefix}_{split}.csv\"\n",
    "    config = chess_utils.set_config_min_max_vals_and_column_name(\n",
    "        config, input_dataframe_file, dataset_prefix\n",
    "    )\n",
    "    misc_logging_dict = {\n",
    "        \"split\": split,\n",
    "        \"dataset_prefix\": dataset_prefix,\n",
    "        \"model_name\": model_name,\n",
    "        \"n_layers\": n_layers,\n",
    "    }\n",
    "print(f\"This is the control probe: {control_probe_file_location}\")\n",
    "with open(control_probe_file_location, \"rb\") as f:\n",
    "    control_state_dict = torch.load(f, map_location=torch.device(DEVICE))\n",
    "    print(control_state_dict.keys())\n",
    "    for key in control_state_dict.keys():\n",
    "        if key != \"linear_probe\":\n",
    "            print(key, control_state_dict[key])\n",
    "\n",
    "    control_config = chess_utils.find_config_by_name(state_dict[\"config_name\"])\n",
    "    control_layer = state_dict[\"layer\"]\n",
    "    control_model_name = state_dict[\"model_name\"]\n",
    "    control_dataset_prefix = state_dict[\"dataset_prefix\"]\n",
    "    control_column_name = state_dict[\"column_name\"]\n",
    "    control_config.pos_start = state_dict[\"pos_start\"]\n",
    "    control_levels_of_interest = None\n",
    "    if \"levels_of_interest\" in control_state_dict.keys():\n",
    "        control_levels_of_interest = control_state_dict[\"levels_of_interest\"]\n",
    "    control_config.levels_of_interest = levels_of_interest\n",
    "    control_indexing_function_name = state_dict[\"indexing_function_name\"]\n",
    "    control_n_layers = state_dict[\"n_layers\"]\n",
    "    \n",
    "\n",
    "    control_split = SPLIT\n",
    "    control_input_dataframe_file = f\"{DATA_DIR}{dataset_prefix}_{split}.csv\"\n",
    "    control_config = chess_utils.set_config_min_max_vals_and_column_name(\n",
    "        control_config, input_dataframe_file, dataset_prefix\n",
    "    )\n",
    "    misc_logging_dict = {\n",
    "        \"control_split\": control_split,\n",
    "        \"control_dataset_prefix\": control_dataset_prefix,\n",
    "        \"control_model_name\": control_model_name,\n",
    "        \"control_n_layers\": control_n_layers,\n",
    "    }"
   ]
  },
  {
   "cell_type": "markdown",
   "metadata": {},
   "source": [
    "At the end of the below cell, we index at select 1 of the num_games. The reason we do this is that with a large number of games, storing all the resid_posts and state_stacks quickly grows to many gigabytes of VRAM."
   ]
  },
  {
   "cell_type": "code",
   "execution_count": 5,
   "metadata": {},
   "outputs": [
    {
     "name": "stderr",
     "output_type": "stream",
     "text": [
      "/home/oscar/chess_interpretability/probe_training_utils.py:163: FutureWarning: You are using `torch.load` with `weights_only=False` (the current default value), which uses the default pickle module implicitly. It is possible to construct malicious pickle data which will execute arbitrary code during unpickling (See https://github.com/pytorch/pytorch/blob/main/SECURITY.md#untrusted-models for more details). In a future release, the default value for `weights_only` will be flipped to `True`. This limits the functions that could be executed during unpickling. Arbitrary objects will no longer be allowed to be loaded via this mode unless they are explicitly allowlisted by the user via `torch.serialization.add_safe_globals`. We recommend you start setting `weights_only=True` for any use case where you don't have full control of the loaded file. Please open an issue on GitHub for any issues related to this experimental feature.\n",
      "  model.load_state_dict(torch.load(f\"{MODEL_DIR}{model_name}.pth\"))\n",
      "2024-12-10 15:34:28,480 - probe_training_utils - INFO - Number of games: 10,length of a game in chars: 365\n",
      "INFO:probe_training_utils:Number of games: 10,length of a game in chars: 365\n",
      "2024-12-10 15:34:28,481 - probe_training_utils - INFO - 0    [15, 6, 4, 19, 23, 8, 0, 19, 30, 11, 0, 7, 4, ...\n",
      "1    [15, 6, 4, 19, 30, 8, 0, 19, 28, 11, 0, 7, 4, ...\n",
      "2    [15, 6, 4, 27, 9, 0, 19, 25, 11, 0, 7, 4, 25, ...\n",
      "3    [15, 6, 4, 28, 9, 0, 26, 11, 0, 7, 4, 29, 8, 0...\n",
      "4    [15, 6, 4, 25, 9, 0, 26, 10, 0, 7, 4, 30, 9, 0...\n",
      "Name: transcript, dtype: object\n",
      "INFO:probe_training_utils:0    [15, 6, 4, 19, 23, 8, 0, 19, 30, 11, 0, 7, 4, ...\n",
      "1    [15, 6, 4, 19, 30, 8, 0, 19, 28, 11, 0, 7, 4, ...\n",
      "2    [15, 6, 4, 27, 9, 0, 19, 25, 11, 0, 7, 4, 25, ...\n",
      "3    [15, 6, 4, 28, 9, 0, 26, 11, 0, 7, 4, 29, 8, 0...\n",
      "4    [15, 6, 4, 25, 9, 0, 26, 10, 0, 7, 4, 30, 9, 0...\n",
      "Name: transcript, dtype: object\n",
      "2024-12-10 15:34:28,484 - probe_training_utils - INFO - board_seqs_int shape: torch.Size([10, 365])\n",
      "INFO:probe_training_utils:board_seqs_int shape: torch.Size([10, 365])\n",
      "INFO:__main__:state_stack shape: torch.Size([1, 4, 365, 8, 8])\n"
     ]
    },
    {
     "name": "stdout",
     "output_type": "stream",
     "text": [
      "Moving model to device:  cpu\n",
      "user state dict one hot None\n",
      "seqs string 0    ;1.Na3 Nh6 2.e4 d6 3.Be2 Nd7 4.b3 Ne5 5.Rb1 Kd...\n",
      "1    ;1.Nh3 Nf6 2.Rg1 h6 3.Na3 c6 4.Ng5 Ne4 5.Nb1 a...\n",
      "2    ;1.e4 Nc6 2.c3 a5 3.Qg4 Nd4 4.Bd3 Nc6 5.Bb5 d5...\n",
      "3    ;1.f4 d6 2.g3 c6 3.a4 e5 4.c3 h5 5.Kf2 Rh6 6.R...\n",
      "4    ;1.c4 d5 2.h4 Na6 3.Nh3 e5 4.Nc3 Bb4 5.Ne4 Nf6...\n",
      "5    ;1.e3 g6 2.e4 a5 3.Bb5 Nc6 4.Qe2 Na7 5.Qc4 e5 ...\n",
      "6    ;1.g3 g5 2.Nc3 Bh6 3.e4 Bg7 4.d3 Bh6 5.Qg4 d5 ...\n",
      "7    ;1.b4 h6 2.f4 d6 3.Ba3 Bg4 4.g3 Bd7 5.Kf2 c5 6...\n",
      "8    ;1.c3 b6 2.c4 g5 3.f3 f5 4.Kf2 d5 5.Qc2 g4 6.e...\n",
      "9    ;1.c4 a6 2.e4 d6 3.g3 Nd7 4.Bg2 Nb6 5.g4 Be6 6...\n",
      "Name: transcript, dtype: object\n",
      "seqs int tensor([[15,  6,  4, 19, 23,  8,  0, 19, 30, 11,  0,  7,  4, 27,  9,  0, 26, 11,  0,  8,  4, 17, 27,\n",
      "          7,  0, 19, 26, 12,  0,  9,  4, 24,  8,  0, 19, 27, 10,  0, 10,  4, 22, 24,  6,  0, 18, 26,\n",
      "         12,  0, 11,  4, 26,  9,  0, 18, 27, 11,  0, 12,  4, 17, 28,  6,  0, 19, 30, 29,  9,  0, 13,\n",
      "          4, 30,  9,  0, 19, 31, 28,  7,  0, 14,  4, 21, 29,  9,  2,  0, 19, 28, 31, 29,  9,  0,  6,\n",
      "          5,  4, 26, 10,  2,  0, 18, 28,  ...,  7, 11,  4, 18, 28,  6,  0, 28, 31, 27,  9,  0,  7, 12,\n",
      "          4, 17, 31, 23, 10,  0, 22, 26, 12,  0,  7, 13,  4, 19, 29, 10,  0, 17, 31, 29, 10,  0,  7,\n",
      "         14,  4, 17, 23, 11,  0, 17, 26, 13,  0,  8,  5,  4, 29,  9,  0, 18, 29, 10,  0,  8,  6,  4,\n",
      "         18, 27,  7,  0, 21, 25,  8,  0,  8,  7,  4, 19, 27,  8,  0, 25, 11,  0,  8,  8,  4, 22, 23,\n",
      "         26,  6,  0, 24, 31, 23, 11,  0,  8,  9,  4, 22, 26,  7,  0, 19, 31],\n",
      "        [15,  6,  4, 19, 30,  8,  0, 19, 28, 11,  0,  7,  4, 22, 29,  6,  0, 30, 11,  0,  8,  4, 19,\n",
      "         23,  8,  0, 25, 11,  0,  9,  4, 19, 29, 10,  0, 19, 27,  9,  0, 10,  4, 19, 24,  6,  0, 23,\n",
      "         10,  0, 11,  4, 30,  9,  0, 21, 25, 12,  0, 12,  4, 25,  8,  0, 30, 31, 29, 10,  0, 13,  4,\n",
      "         29,  8,  0, 28, 10,  0, 14,  4, 27,  8,  0, 24, 11,  0,  6,  5,  4, 21, 29,  9,  0, 19, 31,\n",
      "         28,  7,  0,  6,  6,  4, 17, 30,  ...,  7, 12,  4, 22, 23,  7,  0, 22, 30, 11,  0,  7, 13,  4,\n",
      "         21, 28, 12,  2,  0, 18, 31, 28, 12,  0,  7, 14,  4, 17, 28,  8,  0, 19, 30,  8,  2,  0,  8,\n",
      "          5,  4, 18, 28,  6,  0, 22, 30,  9,  0,  8,  6,  4, 17, 25, 11,  0, 26, 11,  0,  8,  7,  4,\n",
      "         17, 27,  9,  0, 17, 23, 11,  0,  8,  8,  4, 17, 26, 10,  0, 18, 27, 12,  0,  8,  9,  4, 22,\n",
      "         23,  8,  0, 18, 26, 12,  0,  8, 10,  4, 17, 29,  7,  0, 28,  8,  0],\n",
      "        [15,  6,  4, 27,  9,  0, 19, 25, 11,  0,  7,  4, 25,  8,  0, 23, 10,  0,  8,  4, 21, 29,  9,\n",
      "          0, 19, 26,  9,  0,  9,  4, 17, 26,  8,  0, 19, 25, 11,  0, 10,  4, 17, 24, 10,  0, 26, 10,\n",
      "          0, 11,  4, 17, 27,  7,  0, 19, 28, 11,  0, 12,  4, 30,  9,  0, 19, 30, 10,  0, 13,  4, 21,\n",
      "         28, 10,  0, 17, 27, 11,  0, 14,  4, 17, 29,  9,  0, 19, 23, 12,  0,  6,  5,  4, 21, 28,  8,\n",
      "          0, 25, 11,  0,  6,  6,  4, 24,  ..., 10,  0, 22, 25, 12,  0,  7, 12,  4, 21, 24,  8,  0, 27,\n",
      "          9,  0,  7, 13,  4, 17, 23, 11,  0, 23,  8,  0,  7, 14,  4, 22, 30,  8,  0, 21, 23, 13,  0,\n",
      "          8,  5,  4, 22, 30,  9,  0, 20,  3, 20,  0,  8,  6,  4, 17, 24,  7,  0, 21, 27, 13,  0,  8,\n",
      "          7,  4, 19, 31, 23,  8,  0, 17, 27, 12,  0,  8,  8,  4, 17, 25, 13,  0, 17, 25, 10,  0,  8,\n",
      "          9,  4, 29,  9,  0, 21, 27, 12,  0,  8, 10,  4, 21, 31, 28, 12,  2],\n",
      "        [15,  6,  4, 28,  9,  0, 26, 11,  0,  7,  4, 29,  8,  0, 25, 11,  0,  8,  4, 23,  9,  0, 27,\n",
      "         10,  0,  9,  4, 25,  8,  0, 30, 10,  0, 10,  4, 18, 28,  7,  0, 22, 30, 11,  0, 11,  4, 22,\n",
      "         23,  8,  0, 19, 28, 11,  0, 12,  4, 28, 10,  0, 21, 26, 12,  0, 13,  4, 18, 28,  8,  0, 26,\n",
      "         10,  0, 14,  4, 30,  9,  0, 21, 26, 13,  0,  6,  5,  4, 23, 10,  0, 18, 27, 12,  0,  6,  6,\n",
      "          4, 27,  8,  0, 19, 30, 12,  0,  ..., 27,  7,  0, 17, 24, 12,  0,  7, 13,  4, 22, 30,  8,  0,\n",
      "         21, 27, 13,  0,  7, 14,  4, 19, 26,  7,  0, 27, 31, 26,  8,  0,  8,  5,  4, 29, 31, 28, 12,\n",
      "          0, 17, 25, 11,  0,  8,  6,  4, 23, 11,  0, 17, 24, 12,  0,  8,  7,  4, 17, 31, 26, 10,  0,\n",
      "         26, 31, 27,  8,  0,  8,  8,  4, 22, 28,  8,  0, 21, 27, 11,  0,  8,  9,  4, 28, 31, 29, 13,\n",
      "         16, 17,  0, 21, 31, 26, 10,  0,  8, 10,  4, 23, 31, 24, 12,  0, 27],\n",
      "        [15,  6,  4, 25,  9,  0, 26, 10,  0,  7,  4, 30,  9,  0, 19, 23, 11,  0,  8,  4, 19, 30,  8,\n",
      "          0, 27, 10,  0,  9,  4, 19, 25,  8,  0, 17, 24,  9,  0, 10,  4, 19, 27,  9,  0, 19, 28, 11,\n",
      "          0, 11,  4, 25, 10,  0, 26, 31, 27,  9,  0, 12,  4, 21, 23,  9,  2,  0, 25, 11,  0, 13,  4,\n",
      "         27,  8,  0, 22, 24, 13,  0, 14,  4, 21, 31, 25, 11,  2,  0, 17, 26, 12,  0,  6,  5,  4, 21,\n",
      "         31, 27,  9,  0, 18, 28, 13,  0,  ...,  0,  7, 11,  4, 29, 10,  0, 21, 31, 26,  7,  2,  0,  7,\n",
      "         12,  4, 17, 31, 26,  7,  0, 19, 26, 10,  0,  7, 13,  4, 17, 25,  7,  0, 18, 27, 12,  0,  7,\n",
      "         14,  4, 21, 31, 24,  9,  0, 19, 24, 13,  0,  8,  5,  4, 27,  9,  0, 23, 10,  0,  8,  6,  4,\n",
      "         27, 31, 26, 10,  0, 17, 23,  9,  0,  8,  7,  4, 18, 27,  7,  0, 19, 26, 12,  0,  8,  8,  4,\n",
      "         18, 27,  8,  0, 18, 27, 13,  0,  8,  9,  4, 22, 23, 28,  6,  0, 18],\n",
      "        [15,  6,  4, 27,  8,  0, 29, 11,  0,  7,  4, 27,  9,  0, 23, 10,  0,  8,  4, 17, 24, 10,  0,\n",
      "         19, 25, 11,  0,  9,  4, 21, 27,  7,  0, 19, 23, 12,  0, 10,  4, 21, 25,  9,  0, 27, 10,  0,\n",
      "         11,  4, 19, 27,  7,  0, 17, 25, 10,  0, 12,  4, 19, 24, 25,  8,  0, 25, 11,  0, 13,  4, 30,\n",
      "          8,  0, 17, 31, 28,  7,  2,  0, 14,  4, 18, 31, 28,  7,  0, 29, 10,  0,  6,  5,  4, 19, 26,\n",
      "          6,  0, 19, 27, 12,  0,  6,  6,  ..., 22, 26,  6,  0, 21, 27, 13,  0,  7, 12,  4, 19, 28,  8,\n",
      "          0, 21, 28, 13,  0,  7, 13,  4, 19, 30,  6,  0, 21, 24,  9,  0,  7, 14,  4, 17, 25,  6,  0,\n",
      "         21, 24,  7,  0,  8,  5,  4, 19, 30,  9,  0, 22, 31, 23, 12,  0,  8,  6,  4, 17, 26,  7,  0,\n",
      "         19, 27, 13,  0,  8,  7,  4, 29,  9,  0, 22, 28, 12,  0,  8,  8,  4, 17, 27,  8,  0, 19, 31,\n",
      "         25,  8,  0,  8,  9,  4, 17, 29,  6,  0, 26, 11,  0,  8, 10,  4, 22],\n",
      "        [15,  6,  4, 29,  8,  0, 29, 10,  0,  7,  4, 19, 25,  8,  0, 17, 30, 11,  0,  8,  4, 27,  9,\n",
      "          0, 17, 29, 12,  0,  9,  4, 26,  8,  0, 17, 30, 11,  0, 10,  4, 21, 29,  9,  0, 26, 10,  0,\n",
      "         11,  4, 27, 10,  0, 24, 11,  0, 12,  4, 28,  8,  0, 19, 23, 11,  0, 13,  4, 17, 27,  8,  0,\n",
      "         19, 24,  9,  0, 14,  4, 22, 24,  6,  0, 18, 28, 13,  0,  6,  5,  4, 21, 31, 29, 10,  0, 26,\n",
      "          9,  0,  6,  6,  4, 19, 30,  8,  ..., 24,  8,  0, 18, 27, 12,  0,  7, 12,  4, 17, 25,  6,  0,\n",
      "         17, 30,  9,  0,  7, 13,  4, 17, 30, 10,  0, 24, 10,  0,  7, 14,  4, 18, 27,  7,  0, 21, 24,\n",
      "         13,  0,  8,  5,  4, 17, 27,  8,  0, 21, 27, 13,  0,  8,  6,  4, 18, 26,  6,  0, 17, 29, 10,\n",
      "          0,  8,  7,  4, 17, 28,  8,  0, 19, 28, 11,  0,  8,  8,  4, 17, 29,  6,  0, 24, 31, 23,  9,\n",
      "          0,  8,  9,  4, 17, 27,  7,  0, 22, 29, 13,  0,  8, 10,  4, 17, 27],\n",
      "        [15,  6,  4, 24,  9,  0, 30, 11,  0,  7,  4, 28,  9,  0, 26, 11,  0,  8,  4, 17, 23,  8,  0,\n",
      "         17, 29,  9,  0,  9,  4, 29,  8,  0, 17, 26, 12,  0, 10,  4, 18, 28,  7,  0, 25, 10,  0, 11,\n",
      "          4, 29,  9,  0, 17, 28, 10,  0, 12,  4, 18, 27,  6,  0, 21, 25, 12,  0, 13,  4, 24, 31, 25,\n",
      "         10,  0, 19, 23, 11,  0, 14,  4, 17, 24,  7,  0, 26, 31, 25, 10,  0,  6,  5,  4, 29, 31, 28,\n",
      "         10,  0, 27, 11,  0,  6,  6,  4,  ...,  9,  0, 28, 11,  0,  7, 12,  4, 18, 27,  6,  0, 22, 30,\n",
      "         12,  0,  7, 13,  4, 19, 27, 10,  0, 22, 30, 11,  0,  7, 14,  4, 17, 24, 12,  0, 17, 27, 12,\n",
      "          0,  8,  5,  4, 17, 27,  8,  0, 22, 31, 26,  8,  0,  8,  6,  4, 17, 31, 25, 10,  0, 18, 27,\n",
      "         13,  0,  8,  7,  4, 21, 25,  6,  0, 22, 30, 13,  0,  8,  8,  4, 21, 25,  8,  0, 27, 31, 28,\n",
      "         10,  0,  8,  9,  4, 17, 29,  6,  0, 28, 31, 27, 10,  0,  8, 10,  4],\n",
      "        [15,  6,  4, 25,  8,  0, 24, 11,  0,  7,  4, 25,  9,  0, 29, 10,  0,  8,  4, 28,  8,  0, 28,\n",
      "         10,  0,  9,  4, 18, 28,  7,  0, 26, 10,  0, 10,  4, 21, 25,  7,  0, 29,  9,  0, 11,  4, 27,\n",
      "          9,  0, 19, 25, 11,  0, 12,  4, 28,  9,  0, 22, 24, 13,  0, 13,  4, 23,  8,  0, 17, 23, 11,\n",
      "          0, 14,  4, 21, 24,  8,  0, 17, 31, 25,  9,  0,  6,  5,  4, 18, 27,  8,  0, 18, 28, 12,  0,\n",
      "          6,  6,  4, 23,  9,  0, 17, 23,  ..., 17, 25, 11,  0,  7, 12,  4, 22, 29, 13,  2,  0, 22, 31,\n",
      "         29, 13,  0,  7, 13,  4, 23, 10,  0, 27, 10,  0,  7, 14,  4, 24,  9,  0, 19, 30, 10,  0,  8,\n",
      "          5,  4, 18, 28,  6,  0, 22, 31, 25,  6,  2,  0,  8,  6,  4, 18, 28,  7,  0, 27, 31, 26,  9,\n",
      "          0,  8,  7,  4, 23, 11,  0, 18, 26, 12,  0,  8,  8,  4, 22, 26,  8,  0, 19, 29,  8,  0,  8,\n",
      "          9,  4, 17, 25,  9,  0, 18, 27, 12,  0,  8, 10,  4, 19, 23,  8,  0],\n",
      "        [15,  6,  4, 25,  9,  0, 23, 11,  0,  7,  4, 27,  9,  0, 26, 11,  0,  8,  4, 29,  8,  0, 19,\n",
      "         26, 12,  0,  9,  4, 17, 29,  7,  0, 19, 24, 11,  0, 10,  4, 29,  9,  0, 17, 27, 11,  0, 11,\n",
      "          4, 23,  8,  0, 23, 10,  0, 12,  4, 24,  9,  0, 22, 25, 13,  0, 13,  4, 21, 24,  8,  0, 19,\n",
      "         26, 12,  0, 14,  4, 25, 10,  0, 22, 23, 13,  0,  6,  5,  4, 21, 23,  7,  0, 30, 11,  0,  6,\n",
      "          6,  4, 30,  9,  0, 29, 10,  0,  ..., 19, 24,  6,  0, 17, 28, 11,  0,  7, 13,  4, 17, 31, 28,\n",
      "         11,  0, 18, 24, 13,  0,  7, 14,  4, 18, 28,  7,  0, 22, 23, 10,  0,  8,  5,  4, 17, 26,  9,\n",
      "          0, 28, 10,  0,  8,  6,  4, 22, 31, 24,  9,  0, 17, 24,  8,  0,  8,  7,  4, 17, 29,  7,  0,\n",
      "         22, 27, 12,  0,  8,  8,  4, 27, 31, 28, 10,  0, 18, 23, 12,  0,  8,  9,  4, 18, 29,  8,  0,\n",
      "         19, 24, 12,  0,  8, 10,  4, 28,  9,  0, 22, 29, 12,  0,  8, 11,  4]])\n",
      "Shortest length: 34\n",
      "Moving model to device:  cpu\n",
      "Input dataframe file data/random_test.csv\n",
      "AND NOW:\n"
     ]
    }
   ],
   "source": [
    "importlib.reload(chess_utils)\n",
    "\n",
    "torch.set_printoptions(\n",
    "    edgeitems=100,    # Increase number of edge items to display (default: 3)\n",
    "    linewidth=100,    # Increase line width for tensor display\n",
    "    profile=\"default\"  # Ensure full output\n",
    ")\n",
    "\n",
    "probe_data = train_test_chess.construct_linear_probe_data(\n",
    "    input_dataframe_file,\n",
    "    dataset_prefix,\n",
    "    n_layers,\n",
    "    model_name,\n",
    "    config,\n",
    "    num_games,\n",
    "    DEVICE,\n",
    ")\n",
    "if DEVICE == \"cpu\":\n",
    "    probe_data.model.cpu()\n",
    "print(f\"Input dataframe file {input_dataframe_file}\")\n",
    "\n",
    "#print(probe_data.board_seqs_string)\n",
    "print(\"AND NOW:\")\n",
    "num_games = 4\n",
    "game = 1\n",
    "games_to_run = probe_data.board_seqs_string[:num_games]\n",
    "game_length_in_chars = len(games_to_run[0])\n",
    "state_stacks_all_chars_MBlRR = chess_utils.create_state_stacks(games_to_run, config.custom_board_state_function)\n",
    "#print(state_stacks_all_chars_MBlRR.shape)\n",
    "logger.info(f\"state_stack shape: {state_stacks_all_chars_MBlRR.shape}\")\n",
    "assert(state_stacks_all_chars_MBlRR.shape) == (modes, num_games, game_length_in_chars, config.num_rows, config.num_cols)\n",
    "#This is the indices of the periods rights before the white moves\n",
    "white_move_indices_BL = probe_data.custom_indices[:num_games]\n",
    "#print(f\"2nd transcript {games_to_run[game]}\")\n",
    "#print(f\"and the white moves are {white_move_indices_BL[game]}\")\n",
    "#print(white_move_indices_BL.shape)\n",
    "num_white_moves = white_move_indices_BL.shape[1]\n",
    "#print(f\"Num white moves {num_white_moves}\")\n",
    "##What about if the game is super compact and goes a move over? Ignore for now\n",
    "assert(white_move_indices_BL.shape) == (num_games, num_white_moves)\n"
   ]
  },
  {
   "cell_type": "code",
   "execution_count": 6,
   "metadata": {},
   "outputs": [
    {
     "name": "stdout",
     "output_type": "stream",
     "text": [
      "\n",
      "Selecting the game of interest\n",
      "torch.Size([10, 365])\n",
      "torch.Size([1, 4, 365, 8, 8])\n",
      "torch.Size([4, 34])\n",
      "10 365\n"
     ]
    }
   ],
   "source": [
    "print(\"\\nSelecting the game of interest\")\n",
    "print(probe_data.board_seqs_int.shape)\n",
    "print(state_stacks_all_chars_MBlRR.shape)\n",
    "print(white_move_indices_BL.shape)\n",
    "##This is the straight un string of chars \n",
    "bss = probe_data.board_seqs_string\n",
    "\n",
    "print(len(bss), len(bss[0]))\n",
    "#print(bss[0])\n",
    "\n",
    "game_of_interest = 2\n",
    "## and this is the sequence of tokens\n",
    "bsi = probe_data.board_seqs_int\n",
    "bsi_interest = bsi[game_of_interest]\n",
    "#print(f\"before unsqueeze the shape is {bsi_interest.shape}, and it looks like {bsi_interest}\")\n",
    "probe_data.board_seqs_int = bsi_interest.unsqueeze(0)\n",
    "#print(f\"after unsqueeze the shape is {bsi_interest.shape}, and it looks like {bsi_interest}\")\n",
    "\n",
    "##Take only the string of the game of interest\n",
    "probe_data.board_seqs_string = [probe_data.board_seqs_string[game_of_interest]]\n",
    "\n",
    "probe_data.custom_indices = white_move_indices_BL[game_of_interest].unsqueeze(0)"
   ]
  },
  {
   "cell_type": "code",
   "execution_count": 7,
   "metadata": {},
   "outputs": [
    {
     "name": "stdout",
     "output_type": "stream",
     "text": [
      "shape of selected state stacks torch.Size([1, 1, 365, 8, 8])\n"
     ]
    }
   ],
   "source": [
    "##select the state stacks\n",
    "state_stacks_all_chars_MBlRR = state_stacks_all_chars_MBlRR[:, game_of_interest, :, :, :].unsqueeze(1)\n",
    "print(f\"shape of selected state stacks {state_stacks_all_chars_MBlRR.shape}\")\n",
    "##This makes little sense it looks like hes just recalculating the value of probedata custom indices\n",
    "white_move_indices_BL = white_move_indices_BL[game_of_interest].unsqueeze(0)\n",
    "\n"
   ]
  },
  {
   "cell_type": "code",
   "execution_count": 8,
   "metadata": {},
   "outputs": [
    {
     "name": "stdout",
     "output_type": "stream",
     "text": [
      "torch.Size([1, 365])\n",
      "torch.Size([1, 1, 365, 8, 8])\n",
      "torch.Size([1, 34])\n",
      "1 365\n"
     ]
    }
   ],
   "source": [
    "##Conclusion\n",
    "print(probe_data.board_seqs_int.shape)\n",
    "print(state_stacks_all_chars_MBlRR.shape)\n",
    "print(white_move_indices_BL.shape)\n",
    "print(len(probe_data.board_seqs_string), len(probe_data.board_seqs_string[0]))\n",
    "\n",
    "##Everything should be of size 1"
   ]
  },
  {
   "cell_type": "markdown",
   "metadata": {},
   "source": [
    "Here is an explanation of all the data we just generated:"
   ]
  },
  {
   "cell_type": "code",
   "execution_count": 9,
   "metadata": {},
   "outputs": [
    {
     "name": "stdout",
     "output_type": "stream",
     "text": [
      "All pgn strings are of length 365\n",
      "For game 2, the pgn string is ;1.e4 Nc6 2.c3 a5 3.Qg4 Nd4 4.Bd3 Nc6 5.Bb5 d5 6.Be2 Nf6 7.h4 Nh5 8.Qf5 Be6 9.Bg4 Na7 10.Qf3 c6 11.b4 Nf6 12.Qh3 a4 13.Bxe6 b5 14.Bc8 Ng4 15.h5 g6 16.Ba6 e5 17.Qxg4 Qd6 18.Bb2 Qe7 19.h6 Qb7 20.exd5 Rd8 21.Qg5 Bd6 22.Qf4 Rd7 23.Qc4 Bb8 24.Bc1 Bd6 25.dxc6 Bxb4 26.Bxb5 Rc7 27.Qb3 e4 28.Ba6 a3 29.Rh3 Qa8 30.Rh4 O-O 31.Bb2 Qe8 32.Nxa3 Be7 33.Bc8 Bc5 34.g4 Qe7 35.Qxf7+\n",
      "Using our encode functions, it's represented as ints that are fed as input to the GPT model with shape torch.Size([1, 365])\n",
      "The first 30 characters of board_seqs_ints looks like this: tensor([[15,  6,  4, 27,  9,  0, 19, 25, 11,  0,  7,  4, 25,  8,  0, 23, 10,  0,  8,  4, 21, 29,  9,\n",
      "          0, 19, 26,  9,  0,  9,  4]])\n",
      "state_stacks_all_chars contains the board state at every char index in the pgn string with shape torch.Size([1, 1, 365, 8, 8])\n",
      "white_move_indices contains the index of every white move in the pgn string with shape torch.Size([1, 34])\n",
      "That means there are 34 white moves in the game\n",
      "For example, in ;1.e4 Nc6 2.c3, the white move indices are tensor([[ 2, 11]], dtype=torch.int32) (the indices of each period)\n"
     ]
    }
   ],
   "source": [
    "print(f\"All pgn strings are of length {game_length_in_chars}\")\n",
    "print(f\"For game {game_of_interest}, the pgn string is {probe_data.board_seqs_string[0]}\")\n",
    "print(f\"Using our encode functions, it's represented as ints that are fed as input to the GPT model with shape {probe_data.board_seqs_int.shape}\")\n",
    "print(f\"The first 30 characters of board_seqs_ints looks like this: {probe_data.board_seqs_int[:, :30]}\")\n",
    "print(f\"state_stacks_all_chars contains the board state at every char index in the pgn string with shape {state_stacks_all_chars_MBlRR.shape}\")\n",
    "print(f\"white_move_indices contains the index of every white move in the pgn string with shape {white_move_indices_BL.shape}\")\n",
    "print(f\"That means there are {num_white_moves} white moves in the game\")\n",
    "print(f\"For example, in {probe_data.board_seqs_string[0][:14]}, the white move indices are {white_move_indices_BL[:, :2]} (the indices of each period)\")\n",
    "\n"
   ]
  },
  {
   "cell_type": "code",
   "execution_count": 10,
   "metadata": {},
   "outputs": [
    {
     "name": "stdout",
     "output_type": "stream",
     "text": [
      "torch.Size([1, 512, 8, 8, 13])\n"
     ]
    },
    {
     "name": "stderr",
     "output_type": "stream",
     "text": [
      "/tmp/ipykernel_42572/443782230.py:2: FutureWarning: You are using `torch.load` with `weights_only=False` (the current default value), which uses the default pickle module implicitly. It is possible to construct malicious pickle data which will execute arbitrary code during unpickling (See https://github.com/pytorch/pytorch/blob/main/SECURITY.md#untrusted-models for more details). In a future release, the default value for `weights_only` will be flipped to `True`. This limits the functions that could be executed during unpickling. Arbitrary objects will no longer be allowed to be loaded via this mode unless they are explicitly allowlisted by the user via `torch.serialization.add_safe_globals`. We recommend you start setting `weights_only=True` for any use case where you don't have full control of the loaded file. Please open an issue on GitHub for any issues related to this experimental feature.\n",
      "  checkpoint = torch.load(probe_file_location, map_location=torch.device(DEVICE))\n"
     ]
    }
   ],
   "source": [
    "##Loading the model and the probe\n",
    "checkpoint = torch.load(probe_file_location, map_location=torch.device(DEVICE))\n",
    "linear_probe_MDRRC = checkpoint[\"linear_probe\"]\n",
    "##this is the straight-up probe matrix (this means no activation I believe)\n",
    "print(linear_probe_MDRRC.shape)\n",
    "\n",
    "##Apparently max and min val in config are the range of the one hot encoding\n",
    "##For other games I suppose? Look into this\n",
    "one_hot_range = config.max_val - config.min_val + 1\n",
    "\n",
    "board_seqs_int_BL = probe_data.board_seqs_int[:].to(DEVICE)\n",
    "\n",
    "assert(board_seqs_int_BL.shape) == (1, game_length_in_chars)\n",
    "\n",
    "indexed_state_stacks_MBLRR = []"
   ]
  },
  {
   "cell_type": "code",
   "execution_count": 11,
   "metadata": {},
   "outputs": [],
   "source": [
    "##this sample size object is designed to handle these visualisations on multiple games\n",
    "for batch_idx in range(sample_size):\n",
    "    # Get the indices for the current batch\n",
    "    ##what is up with the constant renaming??\n",
    "    dots_indices_for_batch_L = white_move_indices_BL[batch_idx]\n",
    "\n",
    "    # Index the state_stack for the current batch. Adding an unsqueeze operation to maintain the batch dimension.\n",
    "    indexed_state_stack_MLRR = state_stacks_all_chars_MBlRR[:, batch_idx:batch_idx+1, dots_indices_for_batch_L, :, :]\n",
    "\n",
    "    # Append the result to the list\n",
    "    ##this list isnt a real list, its lenght is 1\n",
    "    indexed_state_stacks_MBLRR.append(indexed_state_stack_MLRR)\n",
    "\n"
   ]
  },
  {
   "cell_type": "markdown",
   "metadata": {},
   "source": [
    "Important note: At the bottom of the below cell, I currently am using softmax to view probe output probabilities. You can comment that out to view raw logits instead.\n",
    "\n",
    "In this cell, we input the board_seqs_int to the GPT to obtain resid_post, the intermediate activations after our layer of interest. We index into resid_post using white_move_indices. These indexed resid_posts are then input to the linear probe, which outputs probe_out, a probability distribution for the state of every square on the board."
   ]
  },
  {
   "cell_type": "code",
   "execution_count": 12,
   "metadata": {},
   "outputs": [
    {
     "name": "stdout",
     "output_type": "stream",
     "text": [
      "torch.Size([1, 1, 34, 8, 8])\n",
      "state stack shapes\n",
      "torch.Size([1, 1, 34, 8, 8])\n",
      "torch.Size([1, 1, 365, 8, 8])\n"
     ]
    }
   ],
   "source": [
    "# Concatenate the indexed state stacks along the second dimension (batch dimension)\n",
    "# Since we're maintaining the batch dimension during indexing, we don't need to add it back in\n",
    "\n",
    "print(indexed_state_stacks_MBLRR[0].shape)\n",
    "##does this renaming mean something or is it lazy name tracking?\n",
    "state_stack_white_moves_MBLRR = torch.cat(indexed_state_stacks_MBLRR, dim=1)\n",
    "\n",
    "print(\"state stack shapes\")\n",
    "print(state_stack_white_moves_MBLRR.shape)\n",
    "print(state_stacks_all_chars_MBlRR.shape)"
   ]
  },
  {
   "cell_type": "code",
   "execution_count": 13,
   "metadata": {},
   "outputs": [],
   "source": [
    "with torch.inference_mode():\n",
    "    _, cache = probe_data.model.run_with_cache(board_seqs_int_BL[:, :-1], return_type=None)\n",
    "    \n",
    "    resid_post_BlD = cache[\"resid_post\", layer][:, :]\n",
    "\n",
    "#print(resid_post_BlD.shape)\n",
    "assert(resid_post_BlD.shape) == (sample_size, game_length_in_chars - 1, linear_probe_MDRRC.shape[1])"
   ]
  },
  {
   "cell_type": "code",
   "execution_count": 14,
   "metadata": {},
   "outputs": [
    {
     "name": "stdout",
     "output_type": "stream",
     "text": [
      "Resid post torch.Size([1, 34, 512])\n"
     ]
    }
   ],
   "source": [
    "# Initialize a list to hold the indexed state stacks\n",
    "indexed_resid_posts_BLD = []\n",
    "\n",
    "for batch_idx in range(sample_size):\n",
    "    # Get the indices for the current batch\n",
    "    # please stop\n",
    "    dots_indices_for_batch_L = white_move_indices_BL[batch_idx]\n",
    "\n",
    "    # Index the state_stack for the current batch\n",
    "    indexed_resid_post_LD = resid_post_BlD[batch_idx, dots_indices_for_batch_L]\n",
    "\n",
    "    # Append the result to the list\n",
    "    indexed_resid_posts_BLD.append(indexed_resid_post_LD)\n",
    "\n",
    "# Stack the indexed state stacks along the first dimension\n",
    "# This results in a tensor of shape [2, 61, 8, 8] (assuming all batches have 61 indices)\n",
    "resid_post_BLD = torch.stack(indexed_resid_posts_BLD)\n",
    "resid_post_BLD = resid_post_BLD.to(DEVICE)\n",
    "print(\"Resid post\", resid_post_BLD.shape)"
   ]
  },
  {
   "cell_type": "code",
   "execution_count": 15,
   "metadata": {},
   "outputs": [
    {
     "name": "stdout",
     "output_type": "stream",
     "text": [
      "Probe out shape: torch.Size([1, 1, 34, 8, 8, 13])\n"
     ]
    }
   ],
   "source": [
    "##einstein summing convention\n",
    "probe_out_MBLRRC = einsum(\n",
    "    \"batch pos d_model, modes d_model rows cols options -> modes batch pos rows cols options\",\n",
    "    resid_post_BLD,\n",
    "    linear_probe_MDRRC,\n",
    ")\n",
    "\n",
    "#print(f\"Probe out info: {probe_out_MBLRRC}\")\n",
    "probe_out_MBLRRC = probe_out_MBLRRC.log_softmax(-1)\n",
    "print(f\"Probe out shape: {probe_out_MBLRRC.shape}\")\n",
    "assert(probe_out_MBLRRC.shape) == (modes, sample_size, white_move_indices_BL.shape[1], config.num_rows, config.num_cols, one_hot_range)"
   ]
  },
  {
   "cell_type": "markdown",
   "metadata": {},
   "source": [
    "Here you can select which move you want to visualize (move_of_interest)."
   ]
  },
  {
   "cell_type": "code",
   "execution_count": 16,
   "metadata": {},
   "outputs": [
    {
     "name": "stdout",
     "output_type": "stream",
     "text": [
      "torch.Size([8, 8])\n",
      "tensor([[ 4,  2,  3,  0,  6,  0,  2,  4],\n",
      "        [ 1,  0,  0,  1,  0,  1,  1,  0],\n",
      "        [ 0,  0,  1,  0,  0,  5,  0,  0],\n",
      "        [ 0,  1,  0,  0,  1,  0,  3,  1],\n",
      "        [-1,  0,  0, -1,  0,  0,  0,  0],\n",
      "        [ 0,  0, -1,  0, -3, -2,  0,  0],\n",
      "        [-2, -1,  0,  0, -1, -1, -1, -1],\n",
      "        [-4,  0,  0, -5, -6, -3,  0, -4]], dtype=torch.int8)\n"
     ]
    }
   ],
   "source": [
    "move_of_interest = 11\n",
    "GAME_IDX = 0 # After refactoring to discard unused games, this is always 0\n",
    "move_of_interest_index = white_move_indices_BL[GAME_IDX][move_of_interest] # Used to select pgn strings\n",
    "move_of_interest_state_RR = state_stack_white_moves_MBLRR[0][GAME_IDX][move_of_interest]\n",
    "print(move_of_interest_state_RR.shape)\n",
    "print(move_of_interest_state_RR)"
   ]
  },
  {
   "cell_type": "markdown",
   "metadata": {},
   "source": [
    "Now we one hot encode our move_of_interest and store it in move_of_interest_state_one_hot."
   ]
  },
  {
   "cell_type": "code",
   "execution_count": 17,
   "metadata": {},
   "outputs": [
    {
     "name": "stdout",
     "output_type": "stream",
     "text": [
      "torch.Size([1, 1, 34, 8, 8, 13])\n",
      "torch.Size([8, 8, 13])\n"
     ]
    }
   ],
   "source": [
    "##this is one hot encoding of the previous version, so just ones where the pieces are\n",
    "state_stacks_one_hot_MBLRRC = chess_utils.state_stack_to_one_hot(modes, config.num_rows, config.num_cols, config.min_val, config.max_val, DEVICE, state_stack_white_moves_MBLRR)\n",
    "print(state_stacks_one_hot_MBLRRC.shape)\n",
    "assert(state_stacks_one_hot_MBLRRC.shape) == (modes, sample_size, num_white_moves, config.num_rows, config.num_cols, one_hot_range)\n",
    "move_of_interest_state_one_hot_RRC = state_stacks_one_hot_MBLRRC[0][GAME_IDX][move_of_interest]\n",
    "print(move_of_interest_state_one_hot_RRC.shape)"
   ]
  },
  {
   "cell_type": "markdown",
   "metadata": {},
   "source": [
    "We get the argmax of each square's probe probability distribution and store it in state_stacks_probe_outputs for easy graphing."
   ]
  },
  {
   "cell_type": "code",
   "execution_count": 18,
   "metadata": {},
   "outputs": [
    {
     "name": "stdout",
     "output_type": "stream",
     "text": [
      "torch.Size([8, 8, 13])\n",
      "torch.Size([1, 1, 34, 8, 8, 13])\n",
      "torch.Size([1, 1, 34, 8, 8])\n",
      "tensor([[ 4,  2,  0,  0,  6,  3,  2,  4],\n",
      "        [ 1,  1,  1,  0,  0,  1,  1,  1],\n",
      "        [ 0,  0,  0,  0,  0,  0,  0,  0],\n",
      "        [ 0,  0,  0,  0,  0,  0,  1,  0],\n",
      "        [ 0,  0,  0,  0,  0,  0,  0,  0],\n",
      "        [ 0,  0, -2,  0,  0, -2,  0,  0],\n",
      "        [-1, -1, -1,  0,  0, -1, -1, -1],\n",
      "        [-4,  0, -3, -5, -6,  0,  0, -4]])\n"
     ]
    },
    {
     "name": "stderr",
     "output_type": "stream",
     "text": [
      "/tmp/ipykernel_42572/1390504110.py:4: UserWarning: To copy construct from a tensor, it is recommended to use sourceTensor.clone().detach() or sourceTensor.clone().detach().requires_grad_(True), rather than torch.tensor(sourceTensor).\n",
      "  state_stacks_probe_outputs_MBLRR = torch.tensor(state_stacks_probe_outputs_MBLRR)\n"
     ]
    }
   ],
   "source": [
    "print(move_of_interest_state_one_hot_RRC.shape)\n",
    "print(state_stacks_one_hot_MBLRRC.shape)\n",
    "state_stacks_probe_outputs_MBLRR = chess_utils.one_hot_to_state_stack(probe_out_MBLRRC, config.min_val)\n",
    "state_stacks_probe_outputs_MBLRR = torch.tensor(state_stacks_probe_outputs_MBLRR)\n",
    "print(state_stacks_probe_outputs_MBLRR.shape)\n",
    "assert(state_stacks_probe_outputs_MBLRR.shape) == (modes, sample_size, num_white_moves, config.num_rows, config.num_cols)\n",
    "print(state_stacks_probe_outputs_MBLRR[0][GAME_IDX][move_of_interest])"
   ]
  },
  {
   "cell_type": "markdown",
   "metadata": {},
   "source": [
    "Change blank_index, king_index, or pawn_index if you want to visualize the probe's view of other pieces. For example, if I want to see the black queen, I could set blank_index = -5 (refer to INT_TO_CHAR for the mapping)"
   ]
  },
  {
   "cell_type": "code",
   "execution_count": 23,
   "metadata": {},
   "outputs": [
    {
     "name": "stdout",
     "output_type": "stream",
     "text": [
      "tensor([[0, 0, 0, 0, 0, 0, 0, 0],\n",
      "        [1, 0, 0, 1, 0, 1, 1, 0],\n",
      "        [0, 0, 1, 0, 0, 0, 0, 0],\n",
      "        [0, 1, 0, 0, 1, 0, 0, 1],\n",
      "        [0, 0, 0, 0, 0, 0, 0, 0],\n",
      "        [0, 0, 0, 0, 0, 0, 0, 0],\n",
      "        [0, 0, 0, 0, 0, 0, 0, 0],\n",
      "        [0, 0, 0, 0, 0, 0, 0, 0]], dtype=torch.int8)\n",
      "torch.Size([8, 8, 13])\n"
     ]
    },
    {
     "data": {
      "application/vnd.plotly.v1+json": {
       "config": {
        "plotlyServerURL": "https://plot.ly"
       },
       "data": [
        {
         "colorscale": [
          [
           0,
           "rgb(0, 0, 0)"
          ],
          [
           0.09090909090909091,
           "rgb(16, 16, 16)"
          ],
          [
           0.18181818181818182,
           "rgb(38, 38, 38)"
          ],
          [
           0.2727272727272727,
           "rgb(59, 59, 59)"
          ],
          [
           0.36363636363636365,
           "rgb(81, 80, 80)"
          ],
          [
           0.45454545454545453,
           "rgb(102, 101, 101)"
          ],
          [
           0.5454545454545454,
           "rgb(124, 123, 122)"
          ],
          [
           0.6363636363636364,
           "rgb(146, 146, 145)"
          ],
          [
           0.7272727272727273,
           "rgb(171, 171, 170)"
          ],
          [
           0.8181818181818182,
           "rgb(197, 197, 195)"
          ],
          [
           0.9090909090909091,
           "rgb(224, 224, 223)"
          ],
          [
           1,
           "rgb(254, 254, 253)"
          ]
         ],
         "showscale": true,
         "type": "heatmap",
         "z": [
          [
           -27.0360050201416,
           -26.48781967163086,
           -26.402576446533203,
           -26.0150146484375,
           -27.135332107543945,
           -26.199941635131836,
           -26.531299591064453,
           -26.823598861694336
          ],
          [
           -0.4600343406200409,
           -0.5609445571899414,
           -0.3103066086769104,
           -0.9907900094985962,
           -1.092096209526062,
           -0.17402127385139465,
           -0.4606144428253174,
           -0.25258079171180725
          ],
          [
           -2.5185770988464355,
           -1.330651044845581,
           -2.1350936889648438,
           -2.001314163208008,
           -2.286165237426758,
           -1.9759340286254883,
           -2.3315274715423584,
           -1.610754370689392
          ],
          [
           -2.031806230545044,
           -1.6104344129562378,
           -1.329050064086914,
           -1.5285731554031372,
           -1.1814080476760864,
           -1.8804643154144287,
           -0.6132267713546753,
           -1.7886377573013306
          ],
          [
           -2.9971835613250732,
           -3.0817782878875732,
           -2.588871479034424,
           -1.7791457176208496,
           -3.8607544898986816,
           -5.160852909088135,
           -3.6042418479919434,
           -4.938026428222656
          ],
          [
           -5.042624473571777,
           -6.654326438903809,
           -7.430815696716309,
           -6.611684799194336,
           -5.770416259765625,
           -8.637198448181152,
           -7.158786296844482,
           -7.730292320251465
          ],
          [
           -12.03378677368164,
           -7.770700931549072,
           -11.12756633758545,
           -9.466548919677734,
           -10.145408630371094,
           -10.416072845458984,
           -11.110945701599121,
           -14.00489330291748
          ],
          [
           -26.32461929321289,
           -26.303964614868164,
           -26.245149612426758,
           -26.38118553161621,
           -26.95511245727539,
           -26.149456024169922,
           -27.63545036315918,
           -25.92400360107422
          ]
         ]
        }
       ],
       "layout": {
        "autosize": false,
        "height": 600,
        "template": {
         "data": {
          "bar": [
           {
            "error_x": {
             "color": "#2a3f5f"
            },
            "error_y": {
             "color": "#2a3f5f"
            },
            "marker": {
             "line": {
              "color": "#E5ECF6",
              "width": 0.5
             },
             "pattern": {
              "fillmode": "overlay",
              "size": 10,
              "solidity": 0.2
             }
            },
            "type": "bar"
           }
          ],
          "barpolar": [
           {
            "marker": {
             "line": {
              "color": "#E5ECF6",
              "width": 0.5
             },
             "pattern": {
              "fillmode": "overlay",
              "size": 10,
              "solidity": 0.2
             }
            },
            "type": "barpolar"
           }
          ],
          "carpet": [
           {
            "aaxis": {
             "endlinecolor": "#2a3f5f",
             "gridcolor": "white",
             "linecolor": "white",
             "minorgridcolor": "white",
             "startlinecolor": "#2a3f5f"
            },
            "baxis": {
             "endlinecolor": "#2a3f5f",
             "gridcolor": "white",
             "linecolor": "white",
             "minorgridcolor": "white",
             "startlinecolor": "#2a3f5f"
            },
            "type": "carpet"
           }
          ],
          "choropleth": [
           {
            "colorbar": {
             "outlinewidth": 0,
             "ticks": ""
            },
            "type": "choropleth"
           }
          ],
          "contour": [
           {
            "colorbar": {
             "outlinewidth": 0,
             "ticks": ""
            },
            "colorscale": [
             [
              0,
              "#0d0887"
             ],
             [
              0.1111111111111111,
              "#46039f"
             ],
             [
              0.2222222222222222,
              "#7201a8"
             ],
             [
              0.3333333333333333,
              "#9c179e"
             ],
             [
              0.4444444444444444,
              "#bd3786"
             ],
             [
              0.5555555555555556,
              "#d8576b"
             ],
             [
              0.6666666666666666,
              "#ed7953"
             ],
             [
              0.7777777777777778,
              "#fb9f3a"
             ],
             [
              0.8888888888888888,
              "#fdca26"
             ],
             [
              1,
              "#f0f921"
             ]
            ],
            "type": "contour"
           }
          ],
          "contourcarpet": [
           {
            "colorbar": {
             "outlinewidth": 0,
             "ticks": ""
            },
            "type": "contourcarpet"
           }
          ],
          "heatmap": [
           {
            "colorbar": {
             "outlinewidth": 0,
             "ticks": ""
            },
            "colorscale": [
             [
              0,
              "#0d0887"
             ],
             [
              0.1111111111111111,
              "#46039f"
             ],
             [
              0.2222222222222222,
              "#7201a8"
             ],
             [
              0.3333333333333333,
              "#9c179e"
             ],
             [
              0.4444444444444444,
              "#bd3786"
             ],
             [
              0.5555555555555556,
              "#d8576b"
             ],
             [
              0.6666666666666666,
              "#ed7953"
             ],
             [
              0.7777777777777778,
              "#fb9f3a"
             ],
             [
              0.8888888888888888,
              "#fdca26"
             ],
             [
              1,
              "#f0f921"
             ]
            ],
            "type": "heatmap"
           }
          ],
          "heatmapgl": [
           {
            "colorbar": {
             "outlinewidth": 0,
             "ticks": ""
            },
            "colorscale": [
             [
              0,
              "#0d0887"
             ],
             [
              0.1111111111111111,
              "#46039f"
             ],
             [
              0.2222222222222222,
              "#7201a8"
             ],
             [
              0.3333333333333333,
              "#9c179e"
             ],
             [
              0.4444444444444444,
              "#bd3786"
             ],
             [
              0.5555555555555556,
              "#d8576b"
             ],
             [
              0.6666666666666666,
              "#ed7953"
             ],
             [
              0.7777777777777778,
              "#fb9f3a"
             ],
             [
              0.8888888888888888,
              "#fdca26"
             ],
             [
              1,
              "#f0f921"
             ]
            ],
            "type": "heatmapgl"
           }
          ],
          "histogram": [
           {
            "marker": {
             "pattern": {
              "fillmode": "overlay",
              "size": 10,
              "solidity": 0.2
             }
            },
            "type": "histogram"
           }
          ],
          "histogram2d": [
           {
            "colorbar": {
             "outlinewidth": 0,
             "ticks": ""
            },
            "colorscale": [
             [
              0,
              "#0d0887"
             ],
             [
              0.1111111111111111,
              "#46039f"
             ],
             [
              0.2222222222222222,
              "#7201a8"
             ],
             [
              0.3333333333333333,
              "#9c179e"
             ],
             [
              0.4444444444444444,
              "#bd3786"
             ],
             [
              0.5555555555555556,
              "#d8576b"
             ],
             [
              0.6666666666666666,
              "#ed7953"
             ],
             [
              0.7777777777777778,
              "#fb9f3a"
             ],
             [
              0.8888888888888888,
              "#fdca26"
             ],
             [
              1,
              "#f0f921"
             ]
            ],
            "type": "histogram2d"
           }
          ],
          "histogram2dcontour": [
           {
            "colorbar": {
             "outlinewidth": 0,
             "ticks": ""
            },
            "colorscale": [
             [
              0,
              "#0d0887"
             ],
             [
              0.1111111111111111,
              "#46039f"
             ],
             [
              0.2222222222222222,
              "#7201a8"
             ],
             [
              0.3333333333333333,
              "#9c179e"
             ],
             [
              0.4444444444444444,
              "#bd3786"
             ],
             [
              0.5555555555555556,
              "#d8576b"
             ],
             [
              0.6666666666666666,
              "#ed7953"
             ],
             [
              0.7777777777777778,
              "#fb9f3a"
             ],
             [
              0.8888888888888888,
              "#fdca26"
             ],
             [
              1,
              "#f0f921"
             ]
            ],
            "type": "histogram2dcontour"
           }
          ],
          "mesh3d": [
           {
            "colorbar": {
             "outlinewidth": 0,
             "ticks": ""
            },
            "type": "mesh3d"
           }
          ],
          "parcoords": [
           {
            "line": {
             "colorbar": {
              "outlinewidth": 0,
              "ticks": ""
             }
            },
            "type": "parcoords"
           }
          ],
          "pie": [
           {
            "automargin": true,
            "type": "pie"
           }
          ],
          "scatter": [
           {
            "fillpattern": {
             "fillmode": "overlay",
             "size": 10,
             "solidity": 0.2
            },
            "type": "scatter"
           }
          ],
          "scatter3d": [
           {
            "line": {
             "colorbar": {
              "outlinewidth": 0,
              "ticks": ""
             }
            },
            "marker": {
             "colorbar": {
              "outlinewidth": 0,
              "ticks": ""
             }
            },
            "type": "scatter3d"
           }
          ],
          "scattercarpet": [
           {
            "marker": {
             "colorbar": {
              "outlinewidth": 0,
              "ticks": ""
             }
            },
            "type": "scattercarpet"
           }
          ],
          "scattergeo": [
           {
            "marker": {
             "colorbar": {
              "outlinewidth": 0,
              "ticks": ""
             }
            },
            "type": "scattergeo"
           }
          ],
          "scattergl": [
           {
            "marker": {
             "colorbar": {
              "outlinewidth": 0,
              "ticks": ""
             }
            },
            "type": "scattergl"
           }
          ],
          "scattermapbox": [
           {
            "marker": {
             "colorbar": {
              "outlinewidth": 0,
              "ticks": ""
             }
            },
            "type": "scattermapbox"
           }
          ],
          "scatterpolar": [
           {
            "marker": {
             "colorbar": {
              "outlinewidth": 0,
              "ticks": ""
             }
            },
            "type": "scatterpolar"
           }
          ],
          "scatterpolargl": [
           {
            "marker": {
             "colorbar": {
              "outlinewidth": 0,
              "ticks": ""
             }
            },
            "type": "scatterpolargl"
           }
          ],
          "scatterternary": [
           {
            "marker": {
             "colorbar": {
              "outlinewidth": 0,
              "ticks": ""
             }
            },
            "type": "scatterternary"
           }
          ],
          "surface": [
           {
            "colorbar": {
             "outlinewidth": 0,
             "ticks": ""
            },
            "colorscale": [
             [
              0,
              "#0d0887"
             ],
             [
              0.1111111111111111,
              "#46039f"
             ],
             [
              0.2222222222222222,
              "#7201a8"
             ],
             [
              0.3333333333333333,
              "#9c179e"
             ],
             [
              0.4444444444444444,
              "#bd3786"
             ],
             [
              0.5555555555555556,
              "#d8576b"
             ],
             [
              0.6666666666666666,
              "#ed7953"
             ],
             [
              0.7777777777777778,
              "#fb9f3a"
             ],
             [
              0.8888888888888888,
              "#fdca26"
             ],
             [
              1,
              "#f0f921"
             ]
            ],
            "type": "surface"
           }
          ],
          "table": [
           {
            "cells": {
             "fill": {
              "color": "#EBF0F8"
             },
             "line": {
              "color": "white"
             }
            },
            "header": {
             "fill": {
              "color": "#C8D4E3"
             },
             "line": {
              "color": "white"
             }
            },
            "type": "table"
           }
          ]
         },
         "layout": {
          "annotationdefaults": {
           "arrowcolor": "#2a3f5f",
           "arrowhead": 0,
           "arrowwidth": 1
          },
          "autotypenumbers": "strict",
          "coloraxis": {
           "colorbar": {
            "outlinewidth": 0,
            "ticks": ""
           }
          },
          "colorscale": {
           "diverging": [
            [
             0,
             "#8e0152"
            ],
            [
             0.1,
             "#c51b7d"
            ],
            [
             0.2,
             "#de77ae"
            ],
            [
             0.3,
             "#f1b6da"
            ],
            [
             0.4,
             "#fde0ef"
            ],
            [
             0.5,
             "#f7f7f7"
            ],
            [
             0.6,
             "#e6f5d0"
            ],
            [
             0.7,
             "#b8e186"
            ],
            [
             0.8,
             "#7fbc41"
            ],
            [
             0.9,
             "#4d9221"
            ],
            [
             1,
             "#276419"
            ]
           ],
           "sequential": [
            [
             0,
             "#0d0887"
            ],
            [
             0.1111111111111111,
             "#46039f"
            ],
            [
             0.2222222222222222,
             "#7201a8"
            ],
            [
             0.3333333333333333,
             "#9c179e"
            ],
            [
             0.4444444444444444,
             "#bd3786"
            ],
            [
             0.5555555555555556,
             "#d8576b"
            ],
            [
             0.6666666666666666,
             "#ed7953"
            ],
            [
             0.7777777777777778,
             "#fb9f3a"
            ],
            [
             0.8888888888888888,
             "#fdca26"
            ],
            [
             1,
             "#f0f921"
            ]
           ],
           "sequentialminus": [
            [
             0,
             "#0d0887"
            ],
            [
             0.1111111111111111,
             "#46039f"
            ],
            [
             0.2222222222222222,
             "#7201a8"
            ],
            [
             0.3333333333333333,
             "#9c179e"
            ],
            [
             0.4444444444444444,
             "#bd3786"
            ],
            [
             0.5555555555555556,
             "#d8576b"
            ],
            [
             0.6666666666666666,
             "#ed7953"
            ],
            [
             0.7777777777777778,
             "#fb9f3a"
            ],
            [
             0.8888888888888888,
             "#fdca26"
            ],
            [
             1,
             "#f0f921"
            ]
           ]
          },
          "colorway": [
           "#636efa",
           "#EF553B",
           "#00cc96",
           "#ab63fa",
           "#FFA15A",
           "#19d3f3",
           "#FF6692",
           "#B6E880",
           "#FF97FF",
           "#FECB52"
          ],
          "font": {
           "color": "#2a3f5f"
          },
          "geo": {
           "bgcolor": "white",
           "lakecolor": "white",
           "landcolor": "#E5ECF6",
           "showlakes": true,
           "showland": true,
           "subunitcolor": "white"
          },
          "hoverlabel": {
           "align": "left"
          },
          "hovermode": "closest",
          "mapbox": {
           "style": "light"
          },
          "paper_bgcolor": "white",
          "plot_bgcolor": "#E5ECF6",
          "polar": {
           "angularaxis": {
            "gridcolor": "white",
            "linecolor": "white",
            "ticks": ""
           },
           "bgcolor": "#E5ECF6",
           "radialaxis": {
            "gridcolor": "white",
            "linecolor": "white",
            "ticks": ""
           }
          },
          "scene": {
           "xaxis": {
            "backgroundcolor": "#E5ECF6",
            "gridcolor": "white",
            "gridwidth": 2,
            "linecolor": "white",
            "showbackground": true,
            "ticks": "",
            "zerolinecolor": "white"
           },
           "yaxis": {
            "backgroundcolor": "#E5ECF6",
            "gridcolor": "white",
            "gridwidth": 2,
            "linecolor": "white",
            "showbackground": true,
            "ticks": "",
            "zerolinecolor": "white"
           },
           "zaxis": {
            "backgroundcolor": "#E5ECF6",
            "gridcolor": "white",
            "gridwidth": 2,
            "linecolor": "white",
            "showbackground": true,
            "ticks": "",
            "zerolinecolor": "white"
           }
          },
          "shapedefaults": {
           "line": {
            "color": "#2a3f5f"
           }
          },
          "ternary": {
           "aaxis": {
            "gridcolor": "white",
            "linecolor": "white",
            "ticks": ""
           },
           "baxis": {
            "gridcolor": "white",
            "linecolor": "white",
            "ticks": ""
           },
           "bgcolor": "#E5ECF6",
           "caxis": {
            "gridcolor": "white",
            "linecolor": "white",
            "ticks": ""
           }
          },
          "title": {
           "x": 0.05
          },
          "xaxis": {
           "automargin": true,
           "gridcolor": "white",
           "linecolor": "white",
           "ticks": "",
           "title": {
            "standoff": 15
           },
           "zerolinecolor": "white",
           "zerolinewidth": 2
          },
          "yaxis": {
           "automargin": true,
           "gridcolor": "white",
           "linecolor": "white",
           "ticks": "",
           "title": {
            "standoff": 15
           },
           "zerolinecolor": "white",
           "zerolinewidth": 2
          }
         }
        },
        "title": {
         "text": "Chess board white pawns"
        },
        "width": 600,
        "xaxis": {
         "nticks": 8,
         "ticks": ""
        },
        "yaxis": {
         "nticks": 8,
         "ticks": ""
        }
       }
      }
     },
     "metadata": {},
     "output_type": "display_data"
    }
   ],
   "source": [
    "\n",
    "INT_TO_CHAR = {\n",
    "    -6: \"\\u265a\",\n",
    "    -5: \"\\u265b\",\n",
    "    -4: \"\\u265c\",\n",
    "    -3: \"\\u265d\",\n",
    "    -2: \"\\u265e\",\n",
    "    -1: \"\\u265f\",\n",
    "    0: \".\",\n",
    "    1: \"\\u2659\",\n",
    "    2: \"\\u2658\",\n",
    "    3: \"\\u2657\",\n",
    "    4: \"\\u2656\",\n",
    "    5: \"\\u2655\",\n",
    "    6: \"\\u2654\",\n",
    "}\n",
    "\n",
    "# Mapping of integers to chess pieces\n",
    "# I'm duplicating this from chess_utils.py for easy reference\n",
    "PIECE_TO_ONE_HOT_MAPPING = {\n",
    "    -6: 0,\n",
    "    -5: 1,\n",
    "    -4: 2,\n",
    "    -3: 3,\n",
    "    -2: 4,\n",
    "    -1: 5,\n",
    "    0: 6,\n",
    "    1: 7,\n",
    "    2: 8,\n",
    "    3: 9,\n",
    "    4: 10,\n",
    "    5: 11,\n",
    "    6: 12,\n",
    "}\n",
    "\n",
    "# Mapping of chess pieces to integers\n",
    "PIECE_TO_INT = {\n",
    "    chess.PAWN: 1,\n",
    "    chess.KNIGHT: 2,\n",
    "    chess.BISHOP: 3,\n",
    "    chess.ROOK: 4,\n",
    "    chess.QUEEN: 5,\n",
    "    chess.KING: 6,\n",
    "}\n",
    "\n",
    "INT_TO_PIECE = {value: key for key, value in PIECE_TO_INT.items()}\n",
    "\n",
    "BLANK_INDEX = PIECE_TO_ONE_HOT_MAPPING[0]\n",
    "white_pawn_index = PIECE_TO_ONE_HOT_MAPPING[1]\n",
    "black_king_index = PIECE_TO_ONE_HOT_MAPPING[-6]\n",
    "\n",
    "def plot_board_state(board_state: torch.Tensor, clip_size: int = 200, show_scale: bool = False):\n",
    "    # color scale: Black for -1, Gray for 0, White for 1\n",
    "    # colorscale = [[0.0, 'black'], [0.5, 'gray'], [1.0, 'white']]\n",
    "    colorscale = 'gray'\n",
    "    if board_state.is_cuda:\n",
    "        board_state = board_state.cpu()\n",
    "    board_state = np.clip(board_state.numpy(), -clip_size, clip_size)\n",
    "\n",
    "    # Create heatmap\n",
    "    heatmap = go.Heatmap(z=board_state, colorscale=colorscale, showscale=show_scale)\n",
    "    return heatmap\n",
    "\n",
    "print(move_of_interest_state_one_hot_RRC[:, :, white_pawn_index])\n",
    "# heatmap = plot_board_state(move_of_interest_state_one_hot[:, :, white_pawn_index], show_scale=True)\n",
    "\n",
    "move_of_interest_probe_out = probe_out_MBLRRC[0][0][move_of_interest]\n",
    "print(move_of_interest_probe_out.shape)\n",
    "\n",
    "heatmap = plot_board_state(move_of_interest_probe_out[:, :, white_pawn_index], show_scale=True)\n",
    "\n",
    "# Define the layout\n",
    "layout = go.Layout(\n",
    "    title=\"Chess board white pawns\",\n",
    "    xaxis=dict(ticks='', nticks=8),\n",
    "    yaxis=dict(ticks='', nticks=8),\n",
    "    autosize=False,\n",
    "    width=600,\n",
    "    height=600\n",
    ")\n",
    "\n",
    "# Create figure and plot\n",
    "fig = go.Figure(data=[heatmap], layout=layout)\n",
    "fig.show()"
   ]
  },
  {
   "cell_type": "code",
   "execution_count": 24,
   "metadata": {},
   "outputs": [
    {
     "data": {
      "application/vnd.plotly.v1+json": {
       "config": {
        "plotlyServerURL": "https://plot.ly"
       },
       "data": [
        {
         "colorscale": [
          [
           0,
           "white"
          ],
          [
           0.49,
           "white"
          ],
          [
           0.5,
           "grey"
          ],
          [
           0.51,
           "white"
          ],
          [
           1,
           "white"
          ]
         ],
         "showscale": false,
         "text": [
          [
           "♖",
           "♘",
           "♗",
           ".",
           "♔",
           ".",
           "♘",
           "♖"
          ],
          [
           "♙",
           ".",
           ".",
           "♙",
           ".",
           "♙",
           "♙",
           "."
          ],
          [
           ".",
           ".",
           "♙",
           ".",
           ".",
           "♕",
           ".",
           "."
          ],
          [
           ".",
           "♙",
           ".",
           ".",
           "♙",
           ".",
           "♗",
           "♙"
          ],
          [
           "♟",
           ".",
           ".",
           "♟",
           ".",
           ".",
           ".",
           "."
          ],
          [
           ".",
           ".",
           "♟",
           ".",
           "♝",
           "♞",
           ".",
           "."
          ],
          [
           "♞",
           "♟",
           ".",
           ".",
           "♟",
           "♟",
           "♟",
           "♟"
          ],
          [
           "♜",
           ".",
           ".",
           "♛",
           "♚",
           "♝",
           ".",
           "♜"
          ]
         ],
         "textfont": {
          "size": 48
         },
         "texttemplate": "%{text}",
         "type": "heatmap",
         "z": [
          [
           4,
           2,
           3,
           0,
           6,
           0,
           2,
           4
          ],
          [
           1,
           0,
           0,
           1,
           0,
           1,
           1,
           0
          ],
          [
           0,
           0,
           1,
           0,
           0,
           5,
           0,
           0
          ],
          [
           0,
           1,
           0,
           0,
           1,
           0,
           3,
           1
          ],
          [
           -1,
           0,
           0,
           -1,
           0,
           0,
           0,
           0
          ],
          [
           0,
           0,
           -1,
           0,
           -3,
           -2,
           0,
           0
          ],
          [
           -2,
           -1,
           0,
           0,
           -1,
           -1,
           -1,
           -1
          ],
          [
           -4,
           0,
           0,
           -5,
           -6,
           -3,
           0,
           -4
          ]
         ]
        }
       ],
       "layout": {
        "autosize": false,
        "height": 600,
        "template": {
         "data": {
          "bar": [
           {
            "error_x": {
             "color": "#2a3f5f"
            },
            "error_y": {
             "color": "#2a3f5f"
            },
            "marker": {
             "line": {
              "color": "#E5ECF6",
              "width": 0.5
             },
             "pattern": {
              "fillmode": "overlay",
              "size": 10,
              "solidity": 0.2
             }
            },
            "type": "bar"
           }
          ],
          "barpolar": [
           {
            "marker": {
             "line": {
              "color": "#E5ECF6",
              "width": 0.5
             },
             "pattern": {
              "fillmode": "overlay",
              "size": 10,
              "solidity": 0.2
             }
            },
            "type": "barpolar"
           }
          ],
          "carpet": [
           {
            "aaxis": {
             "endlinecolor": "#2a3f5f",
             "gridcolor": "white",
             "linecolor": "white",
             "minorgridcolor": "white",
             "startlinecolor": "#2a3f5f"
            },
            "baxis": {
             "endlinecolor": "#2a3f5f",
             "gridcolor": "white",
             "linecolor": "white",
             "minorgridcolor": "white",
             "startlinecolor": "#2a3f5f"
            },
            "type": "carpet"
           }
          ],
          "choropleth": [
           {
            "colorbar": {
             "outlinewidth": 0,
             "ticks": ""
            },
            "type": "choropleth"
           }
          ],
          "contour": [
           {
            "colorbar": {
             "outlinewidth": 0,
             "ticks": ""
            },
            "colorscale": [
             [
              0,
              "#0d0887"
             ],
             [
              0.1111111111111111,
              "#46039f"
             ],
             [
              0.2222222222222222,
              "#7201a8"
             ],
             [
              0.3333333333333333,
              "#9c179e"
             ],
             [
              0.4444444444444444,
              "#bd3786"
             ],
             [
              0.5555555555555556,
              "#d8576b"
             ],
             [
              0.6666666666666666,
              "#ed7953"
             ],
             [
              0.7777777777777778,
              "#fb9f3a"
             ],
             [
              0.8888888888888888,
              "#fdca26"
             ],
             [
              1,
              "#f0f921"
             ]
            ],
            "type": "contour"
           }
          ],
          "contourcarpet": [
           {
            "colorbar": {
             "outlinewidth": 0,
             "ticks": ""
            },
            "type": "contourcarpet"
           }
          ],
          "heatmap": [
           {
            "colorbar": {
             "outlinewidth": 0,
             "ticks": ""
            },
            "colorscale": [
             [
              0,
              "#0d0887"
             ],
             [
              0.1111111111111111,
              "#46039f"
             ],
             [
              0.2222222222222222,
              "#7201a8"
             ],
             [
              0.3333333333333333,
              "#9c179e"
             ],
             [
              0.4444444444444444,
              "#bd3786"
             ],
             [
              0.5555555555555556,
              "#d8576b"
             ],
             [
              0.6666666666666666,
              "#ed7953"
             ],
             [
              0.7777777777777778,
              "#fb9f3a"
             ],
             [
              0.8888888888888888,
              "#fdca26"
             ],
             [
              1,
              "#f0f921"
             ]
            ],
            "type": "heatmap"
           }
          ],
          "heatmapgl": [
           {
            "colorbar": {
             "outlinewidth": 0,
             "ticks": ""
            },
            "colorscale": [
             [
              0,
              "#0d0887"
             ],
             [
              0.1111111111111111,
              "#46039f"
             ],
             [
              0.2222222222222222,
              "#7201a8"
             ],
             [
              0.3333333333333333,
              "#9c179e"
             ],
             [
              0.4444444444444444,
              "#bd3786"
             ],
             [
              0.5555555555555556,
              "#d8576b"
             ],
             [
              0.6666666666666666,
              "#ed7953"
             ],
             [
              0.7777777777777778,
              "#fb9f3a"
             ],
             [
              0.8888888888888888,
              "#fdca26"
             ],
             [
              1,
              "#f0f921"
             ]
            ],
            "type": "heatmapgl"
           }
          ],
          "histogram": [
           {
            "marker": {
             "pattern": {
              "fillmode": "overlay",
              "size": 10,
              "solidity": 0.2
             }
            },
            "type": "histogram"
           }
          ],
          "histogram2d": [
           {
            "colorbar": {
             "outlinewidth": 0,
             "ticks": ""
            },
            "colorscale": [
             [
              0,
              "#0d0887"
             ],
             [
              0.1111111111111111,
              "#46039f"
             ],
             [
              0.2222222222222222,
              "#7201a8"
             ],
             [
              0.3333333333333333,
              "#9c179e"
             ],
             [
              0.4444444444444444,
              "#bd3786"
             ],
             [
              0.5555555555555556,
              "#d8576b"
             ],
             [
              0.6666666666666666,
              "#ed7953"
             ],
             [
              0.7777777777777778,
              "#fb9f3a"
             ],
             [
              0.8888888888888888,
              "#fdca26"
             ],
             [
              1,
              "#f0f921"
             ]
            ],
            "type": "histogram2d"
           }
          ],
          "histogram2dcontour": [
           {
            "colorbar": {
             "outlinewidth": 0,
             "ticks": ""
            },
            "colorscale": [
             [
              0,
              "#0d0887"
             ],
             [
              0.1111111111111111,
              "#46039f"
             ],
             [
              0.2222222222222222,
              "#7201a8"
             ],
             [
              0.3333333333333333,
              "#9c179e"
             ],
             [
              0.4444444444444444,
              "#bd3786"
             ],
             [
              0.5555555555555556,
              "#d8576b"
             ],
             [
              0.6666666666666666,
              "#ed7953"
             ],
             [
              0.7777777777777778,
              "#fb9f3a"
             ],
             [
              0.8888888888888888,
              "#fdca26"
             ],
             [
              1,
              "#f0f921"
             ]
            ],
            "type": "histogram2dcontour"
           }
          ],
          "mesh3d": [
           {
            "colorbar": {
             "outlinewidth": 0,
             "ticks": ""
            },
            "type": "mesh3d"
           }
          ],
          "parcoords": [
           {
            "line": {
             "colorbar": {
              "outlinewidth": 0,
              "ticks": ""
             }
            },
            "type": "parcoords"
           }
          ],
          "pie": [
           {
            "automargin": true,
            "type": "pie"
           }
          ],
          "scatter": [
           {
            "fillpattern": {
             "fillmode": "overlay",
             "size": 10,
             "solidity": 0.2
            },
            "type": "scatter"
           }
          ],
          "scatter3d": [
           {
            "line": {
             "colorbar": {
              "outlinewidth": 0,
              "ticks": ""
             }
            },
            "marker": {
             "colorbar": {
              "outlinewidth": 0,
              "ticks": ""
             }
            },
            "type": "scatter3d"
           }
          ],
          "scattercarpet": [
           {
            "marker": {
             "colorbar": {
              "outlinewidth": 0,
              "ticks": ""
             }
            },
            "type": "scattercarpet"
           }
          ],
          "scattergeo": [
           {
            "marker": {
             "colorbar": {
              "outlinewidth": 0,
              "ticks": ""
             }
            },
            "type": "scattergeo"
           }
          ],
          "scattergl": [
           {
            "marker": {
             "colorbar": {
              "outlinewidth": 0,
              "ticks": ""
             }
            },
            "type": "scattergl"
           }
          ],
          "scattermapbox": [
           {
            "marker": {
             "colorbar": {
              "outlinewidth": 0,
              "ticks": ""
             }
            },
            "type": "scattermapbox"
           }
          ],
          "scatterpolar": [
           {
            "marker": {
             "colorbar": {
              "outlinewidth": 0,
              "ticks": ""
             }
            },
            "type": "scatterpolar"
           }
          ],
          "scatterpolargl": [
           {
            "marker": {
             "colorbar": {
              "outlinewidth": 0,
              "ticks": ""
             }
            },
            "type": "scatterpolargl"
           }
          ],
          "scatterternary": [
           {
            "marker": {
             "colorbar": {
              "outlinewidth": 0,
              "ticks": ""
             }
            },
            "type": "scatterternary"
           }
          ],
          "surface": [
           {
            "colorbar": {
             "outlinewidth": 0,
             "ticks": ""
            },
            "colorscale": [
             [
              0,
              "#0d0887"
             ],
             [
              0.1111111111111111,
              "#46039f"
             ],
             [
              0.2222222222222222,
              "#7201a8"
             ],
             [
              0.3333333333333333,
              "#9c179e"
             ],
             [
              0.4444444444444444,
              "#bd3786"
             ],
             [
              0.5555555555555556,
              "#d8576b"
             ],
             [
              0.6666666666666666,
              "#ed7953"
             ],
             [
              0.7777777777777778,
              "#fb9f3a"
             ],
             [
              0.8888888888888888,
              "#fdca26"
             ],
             [
              1,
              "#f0f921"
             ]
            ],
            "type": "surface"
           }
          ],
          "table": [
           {
            "cells": {
             "fill": {
              "color": "#EBF0F8"
             },
             "line": {
              "color": "white"
             }
            },
            "header": {
             "fill": {
              "color": "#C8D4E3"
             },
             "line": {
              "color": "white"
             }
            },
            "type": "table"
           }
          ]
         },
         "layout": {
          "annotationdefaults": {
           "arrowcolor": "#2a3f5f",
           "arrowhead": 0,
           "arrowwidth": 1
          },
          "autotypenumbers": "strict",
          "coloraxis": {
           "colorbar": {
            "outlinewidth": 0,
            "ticks": ""
           }
          },
          "colorscale": {
           "diverging": [
            [
             0,
             "#8e0152"
            ],
            [
             0.1,
             "#c51b7d"
            ],
            [
             0.2,
             "#de77ae"
            ],
            [
             0.3,
             "#f1b6da"
            ],
            [
             0.4,
             "#fde0ef"
            ],
            [
             0.5,
             "#f7f7f7"
            ],
            [
             0.6,
             "#e6f5d0"
            ],
            [
             0.7,
             "#b8e186"
            ],
            [
             0.8,
             "#7fbc41"
            ],
            [
             0.9,
             "#4d9221"
            ],
            [
             1,
             "#276419"
            ]
           ],
           "sequential": [
            [
             0,
             "#0d0887"
            ],
            [
             0.1111111111111111,
             "#46039f"
            ],
            [
             0.2222222222222222,
             "#7201a8"
            ],
            [
             0.3333333333333333,
             "#9c179e"
            ],
            [
             0.4444444444444444,
             "#bd3786"
            ],
            [
             0.5555555555555556,
             "#d8576b"
            ],
            [
             0.6666666666666666,
             "#ed7953"
            ],
            [
             0.7777777777777778,
             "#fb9f3a"
            ],
            [
             0.8888888888888888,
             "#fdca26"
            ],
            [
             1,
             "#f0f921"
            ]
           ],
           "sequentialminus": [
            [
             0,
             "#0d0887"
            ],
            [
             0.1111111111111111,
             "#46039f"
            ],
            [
             0.2222222222222222,
             "#7201a8"
            ],
            [
             0.3333333333333333,
             "#9c179e"
            ],
            [
             0.4444444444444444,
             "#bd3786"
            ],
            [
             0.5555555555555556,
             "#d8576b"
            ],
            [
             0.6666666666666666,
             "#ed7953"
            ],
            [
             0.7777777777777778,
             "#fb9f3a"
            ],
            [
             0.8888888888888888,
             "#fdca26"
            ],
            [
             1,
             "#f0f921"
            ]
           ]
          },
          "colorway": [
           "#636efa",
           "#EF553B",
           "#00cc96",
           "#ab63fa",
           "#FFA15A",
           "#19d3f3",
           "#FF6692",
           "#B6E880",
           "#FF97FF",
           "#FECB52"
          ],
          "font": {
           "color": "#2a3f5f"
          },
          "geo": {
           "bgcolor": "white",
           "lakecolor": "white",
           "landcolor": "#E5ECF6",
           "showlakes": true,
           "showland": true,
           "subunitcolor": "white"
          },
          "hoverlabel": {
           "align": "left"
          },
          "hovermode": "closest",
          "mapbox": {
           "style": "light"
          },
          "paper_bgcolor": "white",
          "plot_bgcolor": "#E5ECF6",
          "polar": {
           "angularaxis": {
            "gridcolor": "white",
            "linecolor": "white",
            "ticks": ""
           },
           "bgcolor": "#E5ECF6",
           "radialaxis": {
            "gridcolor": "white",
            "linecolor": "white",
            "ticks": ""
           }
          },
          "scene": {
           "xaxis": {
            "backgroundcolor": "#E5ECF6",
            "gridcolor": "white",
            "gridwidth": 2,
            "linecolor": "white",
            "showbackground": true,
            "ticks": "",
            "zerolinecolor": "white"
           },
           "yaxis": {
            "backgroundcolor": "#E5ECF6",
            "gridcolor": "white",
            "gridwidth": 2,
            "linecolor": "white",
            "showbackground": true,
            "ticks": "",
            "zerolinecolor": "white"
           },
           "zaxis": {
            "backgroundcolor": "#E5ECF6",
            "gridcolor": "white",
            "gridwidth": 2,
            "linecolor": "white",
            "showbackground": true,
            "ticks": "",
            "zerolinecolor": "white"
           }
          },
          "shapedefaults": {
           "line": {
            "color": "#2a3f5f"
           }
          },
          "ternary": {
           "aaxis": {
            "gridcolor": "white",
            "linecolor": "white",
            "ticks": ""
           },
           "baxis": {
            "gridcolor": "white",
            "linecolor": "white",
            "ticks": ""
           },
           "bgcolor": "#E5ECF6",
           "caxis": {
            "gridcolor": "white",
            "linecolor": "white",
            "ticks": ""
           }
          },
          "title": {
           "x": 0.05
          },
          "xaxis": {
           "automargin": true,
           "gridcolor": "white",
           "linecolor": "white",
           "ticks": "",
           "title": {
            "standoff": 15
           },
           "zerolinecolor": "white",
           "zerolinewidth": 2
          },
          "yaxis": {
           "automargin": true,
           "gridcolor": "white",
           "linecolor": "white",
           "ticks": "",
           "title": {
            "standoff": 15
           },
           "zerolinecolor": "white",
           "zerolinewidth": 2
          }
         }
        },
        "title": {
         "text": "Chess board state with text"
        },
        "width": 600,
        "xaxis": {
         "nticks": 8,
         "ticks": ""
        },
        "yaxis": {
         "nticks": 8,
         "ticks": ""
        }
       }
      }
     },
     "metadata": {},
     "output_type": "display_data"
    }
   ],
   "source": [
    "def tensor_to_text(board_state: torch.Tensor) -> np.ndarray:\n",
    "    # Create a mapping from numbers to characters\n",
    "    # Update this mapping according to your requirements\n",
    "\n",
    "    # Convert the tensor to numpy array for easier processing\n",
    "    board_array = board_state.numpy()\n",
    "\n",
    "    # Create an empty array with the same shape for text\n",
    "    text_array = np.empty(board_array.shape, dtype=str)\n",
    "\n",
    "    # Fill the text array with corresponding characters\n",
    "    for i in range(board_array.shape[0]):\n",
    "        for j in range(board_array.shape[1]):\n",
    "            text_array[i, j] = INT_TO_CHAR.get(board_array[i, j], str(board_array[i, j]))\n",
    "\n",
    "    return text_array\n",
    "\n",
    "def plot_board_state_with_text(board_state: torch.Tensor):\n",
    "    # Convert the tensor to a text matrix\n",
    "    text_matrix = tensor_to_text(board_state)\n",
    "\n",
    "    # Define the custom colorscale\n",
    "    colorscale = [\n",
    "        [0, 'white'],   # Negative values\n",
    "        [0.49, 'white'],\n",
    "        [0.5, 'grey'],  # Zero\n",
    "        [0.51, 'white'],\n",
    "        [1, 'white']    # Positive values\n",
    "    ]\n",
    "\n",
    "\n",
    "    # Create heatmap with text and custom colorscale\n",
    "    heatmap = go.Heatmap(\n",
    "        z=board_state.numpy(), \n",
    "        text=text_matrix, \n",
    "        showscale=False, \n",
    "        colorscale=colorscale,\n",
    "        texttemplate=\"%{text}\",\n",
    "        textfont=dict(size=48) \n",
    "    )\n",
    "\n",
    "    return heatmap\n",
    "heatmap = plot_board_state_with_text(move_of_interest_state_RR)\n",
    "\n",
    "# Define the layout\n",
    "layout = go.Layout(\n",
    "    title=\"Chess board state with text\",\n",
    "    xaxis=dict(ticks='', nticks=8),\n",
    "    yaxis=dict(ticks='', nticks=8),\n",
    "    autosize=False,\n",
    "    width=600,\n",
    "    height=600\n",
    ")\n",
    "\n",
    "# Create figure and plot\n",
    "fig = go.Figure(data=[heatmap], layout=layout)\n",
    "fig.show()"
   ]
  },
  {
   "cell_type": "code",
   "execution_count": 20,
   "metadata": {},
   "outputs": [
    {
     "name": "stdout",
     "output_type": "stream",
     "text": [
      "torch.Size([8, 8, 13])\n",
      "tensor([[-11.8638,  -8.7759,  -8.5766, -10.3639, -11.9331,  -8.8207,  -9.0213, -10.1887],\n",
      "        [ -9.5913,  -8.6168,  -8.2171,  -9.6126, -11.9665,  -8.5630, -10.0502,  -7.7284],\n",
      "        [ -6.8680,  -7.0490,  -8.1512,  -7.1776,  -8.1446,  -6.6237,  -8.3881,  -8.5811],\n",
      "        [ -9.0261,  -6.1371,  -6.2827,  -8.1011,  -7.4854,  -4.0360,  -7.0112,  -6.4512],\n",
      "        [ -4.5671,  -6.1766,  -4.6725,  -6.3546,  -6.6435,  -2.9665,  -4.6150,  -5.7747],\n",
      "        [ -5.5416,  -4.3494,  -5.7295,  -4.1441,  -3.1769,  -2.0063,  -5.8228,  -5.4695],\n",
      "        [ -7.5855,  -5.6352,  -3.2520,  -3.5098,  -4.4906,  -4.4931,  -6.5019,  -8.2606],\n",
      "        [ -7.0716,  -6.4105,  -5.8733,  -0.3633,  -5.4494,  -5.0350,  -9.3927,  -8.3793]])\n"
     ]
    }
   ],
   "source": [
    "move_of_interest_probe_out = probe_out_MBLRRC[0][0][move_of_interest]\n",
    "print(move_of_interest_probe_out.shape)\n",
    "print(move_of_interest_probe_out[:,:,1])"
   ]
  },
  {
   "cell_type": "code",
   "execution_count": 25,
   "metadata": {},
   "outputs": [
    {
     "name": "stdout",
     "output_type": "stream",
     "text": [
      "tensor([[ 4,  2,  0,  0,  6,  3,  2,  4],\n",
      "        [ 1,  1,  1,  0,  0,  1,  1,  1],\n",
      "        [ 0,  0,  0,  0,  0,  0,  0,  0],\n",
      "        [ 0,  0,  0,  0,  0,  0,  1,  0],\n",
      "        [ 0,  0,  0,  0,  0,  0,  0,  0],\n",
      "        [ 0,  0, -2,  0,  0, -2,  0,  0],\n",
      "        [-1, -1, -1,  0,  0, -1, -1, -1],\n",
      "        [-4,  0, -3, -5, -6,  0,  0, -4]])\n",
      "tensor([[0, 1, 0, 0, 0, 0, 1, 0],\n",
      "        [0, 0, 0, 0, 0, 0, 0, 0],\n",
      "        [0, 0, 0, 0, 0, 0, 0, 0],\n",
      "        [0, 0, 0, 0, 0, 0, 0, 0],\n",
      "        [0, 0, 0, 0, 0, 0, 0, 0],\n",
      "        [0, 0, 0, 0, 0, 0, 0, 0],\n",
      "        [0, 0, 0, 0, 0, 0, 0, 0],\n",
      "        [0, 0, 0, 0, 0, 0, 0, 0]], dtype=torch.int32)\n"
     ]
    }
   ],
   "source": [
    "probe_prediction_squares_RR = state_stacks_probe_outputs_MBLRR[0][GAME_IDX][move_of_interest]\n",
    "print(probe_prediction_squares_RR)\n",
    "def get_predictied(board_prediction_RR, piece_idx):\n",
    "    return (board_prediction_RR == piece_idx).int()\n",
    "print(get_predictied(probe_prediction_squares_RR, 2))"
   ]
  },
  {
   "cell_type": "code",
   "execution_count": 26,
   "metadata": {},
   "outputs": [
    {
     "data": {
      "application/vnd.plotly.v1+json": {
       "config": {
        "plotlyServerURL": "https://plot.ly"
       },
       "data": [
        {
         "colorscale": [
          [
           0,
           "rgb(0, 0, 0)"
          ],
          [
           0.09090909090909091,
           "rgb(16, 16, 16)"
          ],
          [
           0.18181818181818182,
           "rgb(38, 38, 38)"
          ],
          [
           0.2727272727272727,
           "rgb(59, 59, 59)"
          ],
          [
           0.36363636363636365,
           "rgb(81, 80, 80)"
          ],
          [
           0.45454545454545453,
           "rgb(102, 101, 101)"
          ],
          [
           0.5454545454545454,
           "rgb(124, 123, 122)"
          ],
          [
           0.6363636363636364,
           "rgb(146, 146, 145)"
          ],
          [
           0.7272727272727273,
           "rgb(171, 171, 170)"
          ],
          [
           0.8181818181818182,
           "rgb(197, 197, 195)"
          ],
          [
           0.9090909090909091,
           "rgb(224, 224, 223)"
          ],
          [
           1,
           "rgb(254, 254, 253)"
          ]
         ],
         "showscale": false,
         "type": "heatmap",
         "xaxis": "x",
         "yaxis": "y",
         "z": [
          [
           0,
           0,
           0,
           1,
           0,
           1,
           0,
           0
          ],
          [
           0,
           1,
           1,
           0,
           1,
           0,
           0,
           1
          ],
          [
           1,
           1,
           0,
           1,
           1,
           0,
           1,
           1
          ],
          [
           1,
           0,
           1,
           1,
           0,
           1,
           0,
           0
          ],
          [
           0,
           1,
           1,
           0,
           1,
           1,
           1,
           1
          ],
          [
           1,
           1,
           0,
           1,
           0,
           0,
           1,
           1
          ],
          [
           0,
           0,
           1,
           1,
           0,
           0,
           0,
           0
          ],
          [
           0,
           1,
           1,
           0,
           0,
           0,
           1,
           0
          ]
         ]
        },
        {
         "colorscale": [
          [
           0,
           "rgb(0, 0, 0)"
          ],
          [
           0.09090909090909091,
           "rgb(16, 16, 16)"
          ],
          [
           0.18181818181818182,
           "rgb(38, 38, 38)"
          ],
          [
           0.2727272727272727,
           "rgb(59, 59, 59)"
          ],
          [
           0.36363636363636365,
           "rgb(81, 80, 80)"
          ],
          [
           0.45454545454545453,
           "rgb(102, 101, 101)"
          ],
          [
           0.5454545454545454,
           "rgb(124, 123, 122)"
          ],
          [
           0.6363636363636364,
           "rgb(146, 146, 145)"
          ],
          [
           0.7272727272727273,
           "rgb(171, 171, 170)"
          ],
          [
           0.8181818181818182,
           "rgb(197, 197, 195)"
          ],
          [
           0.9090909090909091,
           "rgb(224, 224, 223)"
          ],
          [
           1,
           "rgb(254, 254, 253)"
          ]
         ],
         "showscale": false,
         "type": "heatmap",
         "xaxis": "x2",
         "yaxis": "y2",
         "z": [
          [
           0,
           0,
           1,
           1,
           0,
           0,
           0,
           0
          ],
          [
           0,
           0,
           0,
           1,
           1,
           0,
           0,
           0
          ],
          [
           1,
           1,
           1,
           1,
           1,
           1,
           1,
           1
          ],
          [
           1,
           1,
           1,
           1,
           1,
           1,
           0,
           1
          ],
          [
           1,
           1,
           1,
           1,
           1,
           1,
           1,
           1
          ],
          [
           1,
           1,
           0,
           1,
           1,
           0,
           1,
           1
          ],
          [
           0,
           0,
           0,
           1,
           1,
           0,
           0,
           0
          ],
          [
           0,
           1,
           0,
           0,
           0,
           1,
           1,
           0
          ]
         ]
        },
        {
         "colorscale": [
          [
           0,
           "rgb(0, 0, 0)"
          ],
          [
           0.09090909090909091,
           "rgb(16, 16, 16)"
          ],
          [
           0.18181818181818182,
           "rgb(38, 38, 38)"
          ],
          [
           0.2727272727272727,
           "rgb(59, 59, 59)"
          ],
          [
           0.36363636363636365,
           "rgb(81, 80, 80)"
          ],
          [
           0.45454545454545453,
           "rgb(102, 101, 101)"
          ],
          [
           0.5454545454545454,
           "rgb(124, 123, 122)"
          ],
          [
           0.6363636363636364,
           "rgb(146, 146, 145)"
          ],
          [
           0.7272727272727273,
           "rgb(171, 171, 170)"
          ],
          [
           0.8181818181818182,
           "rgb(197, 197, 195)"
          ],
          [
           0.9090909090909091,
           "rgb(224, 224, 223)"
          ],
          [
           1,
           "rgb(254, 254, 253)"
          ]
         ],
         "showscale": false,
         "type": "heatmap",
         "xaxis": "x3",
         "yaxis": "y3",
         "z": [
          [
           -2.3446061611175537,
           -0.9778198003768921,
           -0.3896731436252594,
           -0.06362609565258026,
           -3.073030710220337,
           -1.0741422176361084,
           -0.976341724395752,
           -2.9140536785125732
          ],
          [
           -1.0877037048339844,
           -0.9613471031188965,
           -1.4950065612792969,
           -0.5776153802871704,
           -0.4785989820957184,
           -2.0588936805725098,
           -1.0351879596710205,
           -1.8180800676345825
          ],
          [
           -0.32212400436401367,
           -0.36473339796066284,
           -0.2636670768260956,
           -0.25134268403053284,
           -0.15910153090953827,
           -0.5502234101295471,
           -0.13716872036457062,
           -0.3544662892818451
          ],
          [
           -0.23210737109184265,
           -0.31445297598838806,
           -0.5160704255104065,
           -0.4297229051589966,
           -0.4796968698501587,
           -0.5645968914031982,
           -0.8805426359176636,
           -0.21537554264068604
          ],
          [
           -0.3066595494747162,
           -0.5155684947967529,
           -0.6940951347351074,
           -0.5737596154212952,
           -0.5699256658554077,
           -0.7009309530258179,
           -0.9435230493545532,
           -0.5918750166893005
          ],
          [
           -0.9162367582321167,
           -0.19019518792629242,
           -1.0042550563812256,
           -0.511367678642273,
           -0.5770809650421143,
           -1.8927693367004395,
           -0.2826906740665436,
           -0.3977280557155609
          ],
          [
           -1.6480835676193237,
           -0.7633776664733887,
           -1.113694429397583,
           -0.7346981763839722,
           -0.4881995618343353,
           -1.1497423648834229,
           -0.8270747065544128,
           -1.9859946966171265
          ],
          [
           -1.6596088409423828,
           -0.33232903480529785,
           -1.499446988105774,
           -1.2308086156845093,
           -3.111041307449341,
           -0.7730628252029419,
           -0.07369471341371536,
           -1.4542784690856934
          ]
         ]
        },
        {
         "colorscale": [
          [
           0,
           "rgb(0, 0, 0)"
          ],
          [
           0.09090909090909091,
           "rgb(16, 16, 16)"
          ],
          [
           0.18181818181818182,
           "rgb(38, 38, 38)"
          ],
          [
           0.2727272727272727,
           "rgb(59, 59, 59)"
          ],
          [
           0.36363636363636365,
           "rgb(81, 80, 80)"
          ],
          [
           0.45454545454545453,
           "rgb(102, 101, 101)"
          ],
          [
           0.5454545454545454,
           "rgb(124, 123, 122)"
          ],
          [
           0.6363636363636364,
           "rgb(146, 146, 145)"
          ],
          [
           0.7272727272727273,
           "rgb(171, 171, 170)"
          ],
          [
           0.8181818181818182,
           "rgb(197, 197, 195)"
          ],
          [
           0.9090909090909091,
           "rgb(224, 224, 223)"
          ],
          [
           1,
           "rgb(254, 254, 253)"
          ]
         ],
         "showscale": false,
         "type": "heatmap",
         "xaxis": "x4",
         "yaxis": "y4",
         "z": [
          [
           0,
           0,
           0,
           0,
           0,
           0,
           0,
           0
          ],
          [
           1,
           0,
           0,
           1,
           0,
           1,
           1,
           0
          ],
          [
           0,
           0,
           1,
           0,
           0,
           0,
           0,
           0
          ],
          [
           0,
           1,
           0,
           0,
           1,
           0,
           0,
           1
          ],
          [
           0,
           0,
           0,
           0,
           0,
           0,
           0,
           0
          ],
          [
           0,
           0,
           0,
           0,
           0,
           0,
           0,
           0
          ],
          [
           0,
           0,
           0,
           0,
           0,
           0,
           0,
           0
          ],
          [
           0,
           0,
           0,
           0,
           0,
           0,
           0,
           0
          ]
         ]
        },
        {
         "colorscale": [
          [
           0,
           "rgb(0, 0, 0)"
          ],
          [
           0.09090909090909091,
           "rgb(16, 16, 16)"
          ],
          [
           0.18181818181818182,
           "rgb(38, 38, 38)"
          ],
          [
           0.2727272727272727,
           "rgb(59, 59, 59)"
          ],
          [
           0.36363636363636365,
           "rgb(81, 80, 80)"
          ],
          [
           0.45454545454545453,
           "rgb(102, 101, 101)"
          ],
          [
           0.5454545454545454,
           "rgb(124, 123, 122)"
          ],
          [
           0.6363636363636364,
           "rgb(146, 146, 145)"
          ],
          [
           0.7272727272727273,
           "rgb(171, 171, 170)"
          ],
          [
           0.8181818181818182,
           "rgb(197, 197, 195)"
          ],
          [
           0.9090909090909091,
           "rgb(224, 224, 223)"
          ],
          [
           1,
           "rgb(254, 254, 253)"
          ]
         ],
         "showscale": false,
         "type": "heatmap",
         "xaxis": "x5",
         "yaxis": "y5",
         "z": [
          [
           0,
           0,
           0,
           0,
           0,
           0,
           0,
           0
          ],
          [
           1,
           1,
           1,
           0,
           0,
           1,
           1,
           1
          ],
          [
           0,
           0,
           0,
           0,
           0,
           0,
           0,
           0
          ],
          [
           0,
           0,
           0,
           0,
           0,
           0,
           1,
           0
          ],
          [
           0,
           0,
           0,
           0,
           0,
           0,
           0,
           0
          ],
          [
           0,
           0,
           0,
           0,
           0,
           0,
           0,
           0
          ],
          [
           0,
           0,
           0,
           0,
           0,
           0,
           0,
           0
          ],
          [
           0,
           0,
           0,
           0,
           0,
           0,
           0,
           0
          ]
         ]
        },
        {
         "colorscale": [
          [
           0,
           "rgb(0, 0, 0)"
          ],
          [
           0.09090909090909091,
           "rgb(16, 16, 16)"
          ],
          [
           0.18181818181818182,
           "rgb(38, 38, 38)"
          ],
          [
           0.2727272727272727,
           "rgb(59, 59, 59)"
          ],
          [
           0.36363636363636365,
           "rgb(81, 80, 80)"
          ],
          [
           0.45454545454545453,
           "rgb(102, 101, 101)"
          ],
          [
           0.5454545454545454,
           "rgb(124, 123, 122)"
          ],
          [
           0.6363636363636364,
           "rgb(146, 146, 145)"
          ],
          [
           0.7272727272727273,
           "rgb(171, 171, 170)"
          ],
          [
           0.8181818181818182,
           "rgb(197, 197, 195)"
          ],
          [
           0.9090909090909091,
           "rgb(224, 224, 223)"
          ],
          [
           1,
           "rgb(254, 254, 253)"
          ]
         ],
         "showscale": true,
         "type": "heatmap",
         "xaxis": "x6",
         "yaxis": "y6",
         "z": [
          [
           -27.0360050201416,
           -26.48781967163086,
           -26.402576446533203,
           -26.0150146484375,
           -27.135332107543945,
           -26.199941635131836,
           -26.531299591064453,
           -26.823598861694336
          ],
          [
           -0.4600343406200409,
           -0.5609445571899414,
           -0.3103066086769104,
           -0.9907900094985962,
           -1.092096209526062,
           -0.17402127385139465,
           -0.4606144428253174,
           -0.25258079171180725
          ],
          [
           -2.5185770988464355,
           -1.330651044845581,
           -2.1350936889648438,
           -2.001314163208008,
           -2.286165237426758,
           -1.9759340286254883,
           -2.3315274715423584,
           -1.610754370689392
          ],
          [
           -2.031806230545044,
           -1.6104344129562378,
           -1.329050064086914,
           -1.5285731554031372,
           -1.1814080476760864,
           -1.8804643154144287,
           -0.6132267713546753,
           -1.7886377573013306
          ],
          [
           -2.9971835613250732,
           -3.0817782878875732,
           -2.588871479034424,
           -1.7791457176208496,
           -3.8607544898986816,
           -5.160852909088135,
           -3.6042418479919434,
           -4.938026428222656
          ],
          [
           -5.042624473571777,
           -6.654326438903809,
           -7.430815696716309,
           -6.611684799194336,
           -5.770416259765625,
           -8.637198448181152,
           -7.158786296844482,
           -7.730292320251465
          ],
          [
           -12.03378677368164,
           -7.770700931549072,
           -11.12756633758545,
           -9.466548919677734,
           -10.145408630371094,
           -10.416072845458984,
           -11.110945701599121,
           -14.00489330291748
          ],
          [
           -26.32461929321289,
           -26.303964614868164,
           -26.245149612426758,
           -26.38118553161621,
           -26.95511245727539,
           -26.149456024169922,
           -27.63545036315918,
           -25.92400360107422
          ]
         ]
        },
        {
         "colorscale": [
          [
           0,
           "rgb(0, 0, 0)"
          ],
          [
           0.09090909090909091,
           "rgb(16, 16, 16)"
          ],
          [
           0.18181818181818182,
           "rgb(38, 38, 38)"
          ],
          [
           0.2727272727272727,
           "rgb(59, 59, 59)"
          ],
          [
           0.36363636363636365,
           "rgb(81, 80, 80)"
          ],
          [
           0.45454545454545453,
           "rgb(102, 101, 101)"
          ],
          [
           0.5454545454545454,
           "rgb(124, 123, 122)"
          ],
          [
           0.6363636363636364,
           "rgb(146, 146, 145)"
          ],
          [
           0.7272727272727273,
           "rgb(171, 171, 170)"
          ],
          [
           0.8181818181818182,
           "rgb(197, 197, 195)"
          ],
          [
           0.9090909090909091,
           "rgb(224, 224, 223)"
          ],
          [
           1,
           "rgb(254, 254, 253)"
          ]
         ],
         "showscale": false,
         "type": "heatmap",
         "xaxis": "x7",
         "yaxis": "y7",
         "z": [
          [
           0,
           0,
           0,
           0,
           0,
           0,
           0,
           0
          ],
          [
           0,
           0,
           0,
           0,
           0,
           0,
           0,
           0
          ],
          [
           0,
           0,
           0,
           0,
           0,
           0,
           0,
           0
          ],
          [
           0,
           0,
           0,
           0,
           0,
           0,
           0,
           0
          ],
          [
           0,
           0,
           0,
           0,
           0,
           0,
           0,
           0
          ],
          [
           0,
           0,
           0,
           0,
           0,
           0,
           0,
           0
          ],
          [
           0,
           0,
           0,
           0,
           0,
           0,
           0,
           0
          ],
          [
           0,
           0,
           0,
           0,
           1,
           0,
           0,
           0
          ]
         ]
        },
        {
         "colorscale": [
          [
           0,
           "rgb(0, 0, 0)"
          ],
          [
           0.09090909090909091,
           "rgb(16, 16, 16)"
          ],
          [
           0.18181818181818182,
           "rgb(38, 38, 38)"
          ],
          [
           0.2727272727272727,
           "rgb(59, 59, 59)"
          ],
          [
           0.36363636363636365,
           "rgb(81, 80, 80)"
          ],
          [
           0.45454545454545453,
           "rgb(102, 101, 101)"
          ],
          [
           0.5454545454545454,
           "rgb(124, 123, 122)"
          ],
          [
           0.6363636363636364,
           "rgb(146, 146, 145)"
          ],
          [
           0.7272727272727273,
           "rgb(171, 171, 170)"
          ],
          [
           0.8181818181818182,
           "rgb(197, 197, 195)"
          ],
          [
           0.9090909090909091,
           "rgb(224, 224, 223)"
          ],
          [
           1,
           "rgb(254, 254, 253)"
          ]
         ],
         "showscale": false,
         "type": "heatmap",
         "xaxis": "x8",
         "yaxis": "y8",
         "z": [
          [
           0,
           0,
           0,
           0,
           0,
           0,
           0,
           0
          ],
          [
           0,
           0,
           0,
           0,
           0,
           0,
           0,
           0
          ],
          [
           0,
           0,
           0,
           0,
           0,
           0,
           0,
           0
          ],
          [
           0,
           0,
           0,
           0,
           0,
           0,
           0,
           0
          ],
          [
           0,
           0,
           0,
           0,
           0,
           0,
           0,
           0
          ],
          [
           0,
           0,
           0,
           0,
           0,
           0,
           0,
           0
          ],
          [
           0,
           0,
           0,
           0,
           0,
           0,
           0,
           0
          ],
          [
           0,
           0,
           0,
           0,
           1,
           0,
           0,
           0
          ]
         ]
        },
        {
         "colorscale": [
          [
           0,
           "rgb(0, 0, 0)"
          ],
          [
           0.09090909090909091,
           "rgb(16, 16, 16)"
          ],
          [
           0.18181818181818182,
           "rgb(38, 38, 38)"
          ],
          [
           0.2727272727272727,
           "rgb(59, 59, 59)"
          ],
          [
           0.36363636363636365,
           "rgb(81, 80, 80)"
          ],
          [
           0.45454545454545453,
           "rgb(102, 101, 101)"
          ],
          [
           0.5454545454545454,
           "rgb(124, 123, 122)"
          ],
          [
           0.6363636363636364,
           "rgb(146, 146, 145)"
          ],
          [
           0.7272727272727273,
           "rgb(171, 171, 170)"
          ],
          [
           0.8181818181818182,
           "rgb(197, 197, 195)"
          ],
          [
           0.9090909090909091,
           "rgb(224, 224, 223)"
          ],
          [
           1,
           "rgb(254, 254, 253)"
          ]
         ],
         "showscale": false,
         "type": "heatmap",
         "xaxis": "x9",
         "yaxis": "y9",
         "z": [
          [
           -26.60503578186035,
           -26.61461639404297,
           -26.257892608642578,
           -26.416507720947266,
           -27.94515037536621,
           -26.169111251831055,
           -26.145572662353516,
           -26.87653923034668
          ],
          [
           -26.265844345092773,
           -26.469947814941406,
           -26.287824630737305,
           -26.96915626525879,
           -26.566238403320312,
           -26.64964485168457,
           -26.820011138916016,
           -26.292156219482422
          ],
          [
           -26.891765594482422,
           -20.77611541748047,
           -21.246423721313477,
           -26.75822639465332,
           -17.834779739379883,
           -21.364307403564453,
           -18.911582946777344,
           -27.591529846191406
          ],
          [
           -17.942312240600586,
           -14.959056854248047,
           -13.792996406555176,
           -11.475715637207031,
           -15.130514144897461,
           -16.86960792541504,
           -14.036097526550293,
           -12.891294479370117
          ],
          [
           -15.677596092224121,
           -11.765603065490723,
           -9.98619270324707,
           -9.942218780517578,
           -10.771499633789062,
           -10.106948852539062,
           -10.435218811035156,
           -8.581092834472656
          ],
          [
           -14.85219669342041,
           -8.9058256149292,
           -8.631613731384277,
           -5.981361389160156,
           -6.5367584228515625,
           -5.981205463409424,
           -5.231215000152588,
           -9.401850700378418
          ],
          [
           -12.410406112670898,
           -10.06550407409668,
           -7.5106329917907715,
           -4.398202896118164,
           -4.569735050201416,
           -2.3598549365997314,
           -7.770206928253174,
           -7.39808988571167
          ],
          [
           -14.63606071472168,
           -9.550102233886719,
           -7.615520477294922,
           -4.800573825836182,
           -0.05085768178105354,
           -3.273371696472168,
           -7.730591773986816,
           -9.336298942565918
          ]
         ]
        },
        {
         "colorscale": [
          [
           0,
           "white"
          ],
          [
           0.49,
           "white"
          ],
          [
           0.5,
           "grey"
          ],
          [
           0.51,
           "white"
          ],
          [
           1,
           "white"
          ]
         ],
         "showscale": false,
         "text": [
          [
           "♖",
           "♘",
           "♗",
           ".",
           "♔",
           ".",
           "♘",
           "♖"
          ],
          [
           "♙",
           ".",
           ".",
           "♙",
           ".",
           "♙",
           "♙",
           "."
          ],
          [
           ".",
           ".",
           "♙",
           ".",
           ".",
           "♕",
           ".",
           "."
          ],
          [
           ".",
           "♙",
           ".",
           ".",
           "♙",
           ".",
           "♗",
           "♙"
          ],
          [
           "♟",
           ".",
           ".",
           "♟",
           ".",
           ".",
           ".",
           "."
          ],
          [
           ".",
           ".",
           "♟",
           ".",
           "♝",
           "♞",
           ".",
           "."
          ],
          [
           "♞",
           "♟",
           ".",
           ".",
           "♟",
           "♟",
           "♟",
           "♟"
          ],
          [
           "♜",
           ".",
           ".",
           "♛",
           "♚",
           "♝",
           ".",
           "♜"
          ]
         ],
         "textfont": {
          "size": 48
         },
         "texttemplate": "%{text}",
         "type": "heatmap",
         "xaxis": "x10",
         "yaxis": "y10",
         "z": [
          [
           4,
           2,
           3,
           0,
           6,
           0,
           2,
           4
          ],
          [
           1,
           0,
           0,
           1,
           0,
           1,
           1,
           0
          ],
          [
           0,
           0,
           1,
           0,
           0,
           5,
           0,
           0
          ],
          [
           0,
           1,
           0,
           0,
           1,
           0,
           3,
           1
          ],
          [
           -1,
           0,
           0,
           -1,
           0,
           0,
           0,
           0
          ],
          [
           0,
           0,
           -1,
           0,
           -3,
           -2,
           0,
           0
          ],
          [
           -2,
           -1,
           0,
           0,
           -1,
           -1,
           -1,
           -1
          ],
          [
           -4,
           0,
           0,
           -5,
           -6,
           -3,
           0,
           -4
          ]
         ]
        },
        {
         "colorscale": [
          [
           0,
           "white"
          ],
          [
           0.49,
           "white"
          ],
          [
           0.5,
           "grey"
          ],
          [
           0.51,
           "white"
          ],
          [
           1,
           "white"
          ]
         ],
         "showscale": false,
         "text": [
          [
           "♖",
           "♘",
           ".",
           ".",
           "♔",
           "♗",
           "♘",
           "♖"
          ],
          [
           "♙",
           "♙",
           "♙",
           ".",
           ".",
           "♙",
           "♙",
           "♙"
          ],
          [
           ".",
           ".",
           ".",
           ".",
           ".",
           ".",
           ".",
           "."
          ],
          [
           ".",
           ".",
           ".",
           ".",
           ".",
           ".",
           "♙",
           "."
          ],
          [
           ".",
           ".",
           ".",
           ".",
           ".",
           ".",
           ".",
           "."
          ],
          [
           ".",
           ".",
           "♞",
           ".",
           ".",
           "♞",
           ".",
           "."
          ],
          [
           "♟",
           "♟",
           "♟",
           ".",
           ".",
           "♟",
           "♟",
           "♟"
          ],
          [
           "♜",
           ".",
           "♝",
           "♛",
           "♚",
           ".",
           ".",
           "♜"
          ]
         ],
         "textfont": {
          "size": 48
         },
         "texttemplate": "%{text}",
         "type": "heatmap",
         "xaxis": "x11",
         "yaxis": "y11",
         "z": [
          [
           4,
           2,
           0,
           0,
           6,
           3,
           2,
           4
          ],
          [
           1,
           1,
           1,
           0,
           0,
           1,
           1,
           1
          ],
          [
           0,
           0,
           0,
           0,
           0,
           0,
           0,
           0
          ],
          [
           0,
           0,
           0,
           0,
           0,
           0,
           1,
           0
          ],
          [
           0,
           0,
           0,
           0,
           0,
           0,
           0,
           0
          ],
          [
           0,
           0,
           -2,
           0,
           0,
           -2,
           0,
           0
          ],
          [
           -1,
           -1,
           -1,
           0,
           0,
           -1,
           -1,
           -1
          ],
          [
           -4,
           0,
           -3,
           -5,
           -6,
           0,
           0,
           -4
          ]
         ]
        },
        {
         "colorscale": [
          [
           0,
           "white"
          ],
          [
           0.49,
           "white"
          ],
          [
           0.5,
           "grey"
          ],
          [
           0.51,
           "white"
          ],
          [
           1,
           "white"
          ]
         ],
         "showscale": false,
         "text": [
          [
           ".",
           ".",
           "♗",
           ".",
           ".",
           ".",
           ".",
           "."
          ],
          [
           ".",
           ".",
           ".",
           "♙",
           ".",
           ".",
           ".",
           "."
          ],
          [
           ".",
           ".",
           "♙",
           ".",
           ".",
           "♕",
           ".",
           "."
          ],
          [
           ".",
           "♙",
           ".",
           ".",
           "♙",
           ".",
           "♗",
           "♙"
          ],
          [
           "♟",
           ".",
           ".",
           "♟",
           ".",
           ".",
           ".",
           "."
          ],
          [
           ".",
           ".",
           "♟",
           ".",
           "♝",
           ".",
           ".",
           "."
          ],
          [
           "♞",
           ".",
           ".",
           ".",
           "♟",
           ".",
           ".",
           "."
          ],
          [
           ".",
           ".",
           ".",
           ".",
           ".",
           "♝",
           ".",
           "."
          ]
         ],
         "textfont": {
          "size": 48
         },
         "texttemplate": "%{text}",
         "type": "heatmap",
         "xaxis": "x12",
         "yaxis": "y12",
         "z": [
          [
           0,
           0,
           3,
           0,
           0,
           0,
           0,
           0
          ],
          [
           0,
           0,
           0,
           1,
           0,
           0,
           0,
           0
          ],
          [
           0,
           0,
           1,
           0,
           0,
           5,
           0,
           0
          ],
          [
           0,
           1,
           0,
           0,
           1,
           0,
           3,
           1
          ],
          [
           -1,
           0,
           0,
           -1,
           0,
           0,
           0,
           0
          ],
          [
           0,
           0,
           -1,
           0,
           -3,
           0,
           0,
           0
          ],
          [
           -2,
           0,
           0,
           0,
           -1,
           0,
           0,
           0
          ],
          [
           0,
           0,
           0,
           0,
           0,
           -3,
           0,
           0
          ]
         ]
        }
       ],
       "layout": {
        "annotations": [
         {
          "font": {
           "size": 18
          },
          "showarrow": false,
          "text": "Ground truth blank squares",
          "x": 0.14444444444444446,
          "xanchor": "center",
          "xref": "paper",
          "y": 1,
          "yanchor": "bottom",
          "yref": "paper"
         },
         {
          "font": {
           "size": 18
          },
          "showarrow": false,
          "text": "Predicted blank squares",
          "x": 0.5,
          "xanchor": "center",
          "xref": "paper",
          "y": 1,
          "yanchor": "bottom",
          "yref": "paper"
         },
         {
          "font": {
           "size": 18
          },
          "showarrow": false,
          "text": "Confidence gradient blank squares",
          "x": 0.8555555555555556,
          "xanchor": "center",
          "xref": "paper",
          "y": 1,
          "yanchor": "bottom",
          "yref": "paper"
         },
         {
          "font": {
           "size": 18
          },
          "showarrow": false,
          "text": "Ground truth white pawn positions",
          "x": 0.14444444444444446,
          "xanchor": "center",
          "xref": "paper",
          "y": 0.71875,
          "yanchor": "bottom",
          "yref": "paper"
         },
         {
          "font": {
           "size": 18
          },
          "showarrow": false,
          "text": "Predicted white pawn positions",
          "x": 0.5,
          "xanchor": "center",
          "xref": "paper",
          "y": 0.71875,
          "yanchor": "bottom",
          "yref": "paper"
         },
         {
          "font": {
           "size": 18
          },
          "showarrow": false,
          "text": "Confidence gradient white pawn positions",
          "x": 0.8555555555555556,
          "xanchor": "center",
          "xref": "paper",
          "y": 0.71875,
          "yanchor": "bottom",
          "yref": "paper"
         },
         {
          "font": {
           "size": 18
          },
          "showarrow": false,
          "text": "Ground truth black king position",
          "x": 0.14444444444444446,
          "xanchor": "center",
          "xref": "paper",
          "y": 0.4375,
          "yanchor": "bottom",
          "yref": "paper"
         },
         {
          "font": {
           "size": 18
          },
          "showarrow": false,
          "text": "Predicted black king position",
          "x": 0.5,
          "xanchor": "center",
          "xref": "paper",
          "y": 0.4375,
          "yanchor": "bottom",
          "yref": "paper"
         },
         {
          "font": {
           "size": 18
          },
          "showarrow": false,
          "text": "Confidence gradient black king position",
          "x": 0.8555555555555556,
          "xanchor": "center",
          "xref": "paper",
          "y": 0.4375,
          "yanchor": "bottom",
          "yref": "paper"
         },
         {
          "font": {
           "size": 18
          },
          "showarrow": false,
          "text": "Ground truth state",
          "x": 0.14444444444444446,
          "xanchor": "center",
          "xref": "paper",
          "y": 0.15625,
          "yanchor": "bottom",
          "yref": "paper"
         },
         {
          "font": {
           "size": 18
          },
          "showarrow": false,
          "text": "Predicted board state",
          "x": 0.5,
          "xanchor": "center",
          "xref": "paper",
          "y": 0.15625,
          "yanchor": "bottom",
          "yref": "paper"
         },
         {
          "font": {
           "size": 18
          },
          "showarrow": false,
          "text": "Missing pieces",
          "x": 0.8555555555555556,
          "xanchor": "center",
          "xref": "paper",
          "y": 0.15625,
          "yanchor": "bottom",
          "yref": "paper"
         }
        ],
        "height": 2080,
        "template": {
         "data": {
          "bar": [
           {
            "error_x": {
             "color": "#2a3f5f"
            },
            "error_y": {
             "color": "#2a3f5f"
            },
            "marker": {
             "line": {
              "color": "#E5ECF6",
              "width": 0.5
             },
             "pattern": {
              "fillmode": "overlay",
              "size": 10,
              "solidity": 0.2
             }
            },
            "type": "bar"
           }
          ],
          "barpolar": [
           {
            "marker": {
             "line": {
              "color": "#E5ECF6",
              "width": 0.5
             },
             "pattern": {
              "fillmode": "overlay",
              "size": 10,
              "solidity": 0.2
             }
            },
            "type": "barpolar"
           }
          ],
          "carpet": [
           {
            "aaxis": {
             "endlinecolor": "#2a3f5f",
             "gridcolor": "white",
             "linecolor": "white",
             "minorgridcolor": "white",
             "startlinecolor": "#2a3f5f"
            },
            "baxis": {
             "endlinecolor": "#2a3f5f",
             "gridcolor": "white",
             "linecolor": "white",
             "minorgridcolor": "white",
             "startlinecolor": "#2a3f5f"
            },
            "type": "carpet"
           }
          ],
          "choropleth": [
           {
            "colorbar": {
             "outlinewidth": 0,
             "ticks": ""
            },
            "type": "choropleth"
           }
          ],
          "contour": [
           {
            "colorbar": {
             "outlinewidth": 0,
             "ticks": ""
            },
            "colorscale": [
             [
              0,
              "#0d0887"
             ],
             [
              0.1111111111111111,
              "#46039f"
             ],
             [
              0.2222222222222222,
              "#7201a8"
             ],
             [
              0.3333333333333333,
              "#9c179e"
             ],
             [
              0.4444444444444444,
              "#bd3786"
             ],
             [
              0.5555555555555556,
              "#d8576b"
             ],
             [
              0.6666666666666666,
              "#ed7953"
             ],
             [
              0.7777777777777778,
              "#fb9f3a"
             ],
             [
              0.8888888888888888,
              "#fdca26"
             ],
             [
              1,
              "#f0f921"
             ]
            ],
            "type": "contour"
           }
          ],
          "contourcarpet": [
           {
            "colorbar": {
             "outlinewidth": 0,
             "ticks": ""
            },
            "type": "contourcarpet"
           }
          ],
          "heatmap": [
           {
            "colorbar": {
             "outlinewidth": 0,
             "ticks": ""
            },
            "colorscale": [
             [
              0,
              "#0d0887"
             ],
             [
              0.1111111111111111,
              "#46039f"
             ],
             [
              0.2222222222222222,
              "#7201a8"
             ],
             [
              0.3333333333333333,
              "#9c179e"
             ],
             [
              0.4444444444444444,
              "#bd3786"
             ],
             [
              0.5555555555555556,
              "#d8576b"
             ],
             [
              0.6666666666666666,
              "#ed7953"
             ],
             [
              0.7777777777777778,
              "#fb9f3a"
             ],
             [
              0.8888888888888888,
              "#fdca26"
             ],
             [
              1,
              "#f0f921"
             ]
            ],
            "type": "heatmap"
           }
          ],
          "heatmapgl": [
           {
            "colorbar": {
             "outlinewidth": 0,
             "ticks": ""
            },
            "colorscale": [
             [
              0,
              "#0d0887"
             ],
             [
              0.1111111111111111,
              "#46039f"
             ],
             [
              0.2222222222222222,
              "#7201a8"
             ],
             [
              0.3333333333333333,
              "#9c179e"
             ],
             [
              0.4444444444444444,
              "#bd3786"
             ],
             [
              0.5555555555555556,
              "#d8576b"
             ],
             [
              0.6666666666666666,
              "#ed7953"
             ],
             [
              0.7777777777777778,
              "#fb9f3a"
             ],
             [
              0.8888888888888888,
              "#fdca26"
             ],
             [
              1,
              "#f0f921"
             ]
            ],
            "type": "heatmapgl"
           }
          ],
          "histogram": [
           {
            "marker": {
             "pattern": {
              "fillmode": "overlay",
              "size": 10,
              "solidity": 0.2
             }
            },
            "type": "histogram"
           }
          ],
          "histogram2d": [
           {
            "colorbar": {
             "outlinewidth": 0,
             "ticks": ""
            },
            "colorscale": [
             [
              0,
              "#0d0887"
             ],
             [
              0.1111111111111111,
              "#46039f"
             ],
             [
              0.2222222222222222,
              "#7201a8"
             ],
             [
              0.3333333333333333,
              "#9c179e"
             ],
             [
              0.4444444444444444,
              "#bd3786"
             ],
             [
              0.5555555555555556,
              "#d8576b"
             ],
             [
              0.6666666666666666,
              "#ed7953"
             ],
             [
              0.7777777777777778,
              "#fb9f3a"
             ],
             [
              0.8888888888888888,
              "#fdca26"
             ],
             [
              1,
              "#f0f921"
             ]
            ],
            "type": "histogram2d"
           }
          ],
          "histogram2dcontour": [
           {
            "colorbar": {
             "outlinewidth": 0,
             "ticks": ""
            },
            "colorscale": [
             [
              0,
              "#0d0887"
             ],
             [
              0.1111111111111111,
              "#46039f"
             ],
             [
              0.2222222222222222,
              "#7201a8"
             ],
             [
              0.3333333333333333,
              "#9c179e"
             ],
             [
              0.4444444444444444,
              "#bd3786"
             ],
             [
              0.5555555555555556,
              "#d8576b"
             ],
             [
              0.6666666666666666,
              "#ed7953"
             ],
             [
              0.7777777777777778,
              "#fb9f3a"
             ],
             [
              0.8888888888888888,
              "#fdca26"
             ],
             [
              1,
              "#f0f921"
             ]
            ],
            "type": "histogram2dcontour"
           }
          ],
          "mesh3d": [
           {
            "colorbar": {
             "outlinewidth": 0,
             "ticks": ""
            },
            "type": "mesh3d"
           }
          ],
          "parcoords": [
           {
            "line": {
             "colorbar": {
              "outlinewidth": 0,
              "ticks": ""
             }
            },
            "type": "parcoords"
           }
          ],
          "pie": [
           {
            "automargin": true,
            "type": "pie"
           }
          ],
          "scatter": [
           {
            "fillpattern": {
             "fillmode": "overlay",
             "size": 10,
             "solidity": 0.2
            },
            "type": "scatter"
           }
          ],
          "scatter3d": [
           {
            "line": {
             "colorbar": {
              "outlinewidth": 0,
              "ticks": ""
             }
            },
            "marker": {
             "colorbar": {
              "outlinewidth": 0,
              "ticks": ""
             }
            },
            "type": "scatter3d"
           }
          ],
          "scattercarpet": [
           {
            "marker": {
             "colorbar": {
              "outlinewidth": 0,
              "ticks": ""
             }
            },
            "type": "scattercarpet"
           }
          ],
          "scattergeo": [
           {
            "marker": {
             "colorbar": {
              "outlinewidth": 0,
              "ticks": ""
             }
            },
            "type": "scattergeo"
           }
          ],
          "scattergl": [
           {
            "marker": {
             "colorbar": {
              "outlinewidth": 0,
              "ticks": ""
             }
            },
            "type": "scattergl"
           }
          ],
          "scattermapbox": [
           {
            "marker": {
             "colorbar": {
              "outlinewidth": 0,
              "ticks": ""
             }
            },
            "type": "scattermapbox"
           }
          ],
          "scatterpolar": [
           {
            "marker": {
             "colorbar": {
              "outlinewidth": 0,
              "ticks": ""
             }
            },
            "type": "scatterpolar"
           }
          ],
          "scatterpolargl": [
           {
            "marker": {
             "colorbar": {
              "outlinewidth": 0,
              "ticks": ""
             }
            },
            "type": "scatterpolargl"
           }
          ],
          "scatterternary": [
           {
            "marker": {
             "colorbar": {
              "outlinewidth": 0,
              "ticks": ""
             }
            },
            "type": "scatterternary"
           }
          ],
          "surface": [
           {
            "colorbar": {
             "outlinewidth": 0,
             "ticks": ""
            },
            "colorscale": [
             [
              0,
              "#0d0887"
             ],
             [
              0.1111111111111111,
              "#46039f"
             ],
             [
              0.2222222222222222,
              "#7201a8"
             ],
             [
              0.3333333333333333,
              "#9c179e"
             ],
             [
              0.4444444444444444,
              "#bd3786"
             ],
             [
              0.5555555555555556,
              "#d8576b"
             ],
             [
              0.6666666666666666,
              "#ed7953"
             ],
             [
              0.7777777777777778,
              "#fb9f3a"
             ],
             [
              0.8888888888888888,
              "#fdca26"
             ],
             [
              1,
              "#f0f921"
             ]
            ],
            "type": "surface"
           }
          ],
          "table": [
           {
            "cells": {
             "fill": {
              "color": "#EBF0F8"
             },
             "line": {
              "color": "white"
             }
            },
            "header": {
             "fill": {
              "color": "#C8D4E3"
             },
             "line": {
              "color": "white"
             }
            },
            "type": "table"
           }
          ]
         },
         "layout": {
          "annotationdefaults": {
           "arrowcolor": "#2a3f5f",
           "arrowhead": 0,
           "arrowwidth": 1
          },
          "autotypenumbers": "strict",
          "coloraxis": {
           "colorbar": {
            "outlinewidth": 0,
            "ticks": ""
           }
          },
          "colorscale": {
           "diverging": [
            [
             0,
             "#8e0152"
            ],
            [
             0.1,
             "#c51b7d"
            ],
            [
             0.2,
             "#de77ae"
            ],
            [
             0.3,
             "#f1b6da"
            ],
            [
             0.4,
             "#fde0ef"
            ],
            [
             0.5,
             "#f7f7f7"
            ],
            [
             0.6,
             "#e6f5d0"
            ],
            [
             0.7,
             "#b8e186"
            ],
            [
             0.8,
             "#7fbc41"
            ],
            [
             0.9,
             "#4d9221"
            ],
            [
             1,
             "#276419"
            ]
           ],
           "sequential": [
            [
             0,
             "#0d0887"
            ],
            [
             0.1111111111111111,
             "#46039f"
            ],
            [
             0.2222222222222222,
             "#7201a8"
            ],
            [
             0.3333333333333333,
             "#9c179e"
            ],
            [
             0.4444444444444444,
             "#bd3786"
            ],
            [
             0.5555555555555556,
             "#d8576b"
            ],
            [
             0.6666666666666666,
             "#ed7953"
            ],
            [
             0.7777777777777778,
             "#fb9f3a"
            ],
            [
             0.8888888888888888,
             "#fdca26"
            ],
            [
             1,
             "#f0f921"
            ]
           ],
           "sequentialminus": [
            [
             0,
             "#0d0887"
            ],
            [
             0.1111111111111111,
             "#46039f"
            ],
            [
             0.2222222222222222,
             "#7201a8"
            ],
            [
             0.3333333333333333,
             "#9c179e"
            ],
            [
             0.4444444444444444,
             "#bd3786"
            ],
            [
             0.5555555555555556,
             "#d8576b"
            ],
            [
             0.6666666666666666,
             "#ed7953"
            ],
            [
             0.7777777777777778,
             "#fb9f3a"
            ],
            [
             0.8888888888888888,
             "#fdca26"
            ],
            [
             1,
             "#f0f921"
            ]
           ]
          },
          "colorway": [
           "#636efa",
           "#EF553B",
           "#00cc96",
           "#ab63fa",
           "#FFA15A",
           "#19d3f3",
           "#FF6692",
           "#B6E880",
           "#FF97FF",
           "#FECB52"
          ],
          "font": {
           "color": "#2a3f5f"
          },
          "geo": {
           "bgcolor": "white",
           "lakecolor": "white",
           "landcolor": "#E5ECF6",
           "showlakes": true,
           "showland": true,
           "subunitcolor": "white"
          },
          "hoverlabel": {
           "align": "left"
          },
          "hovermode": "closest",
          "mapbox": {
           "style": "light"
          },
          "paper_bgcolor": "white",
          "plot_bgcolor": "#E5ECF6",
          "polar": {
           "angularaxis": {
            "gridcolor": "white",
            "linecolor": "white",
            "ticks": ""
           },
           "bgcolor": "#E5ECF6",
           "radialaxis": {
            "gridcolor": "white",
            "linecolor": "white",
            "ticks": ""
           }
          },
          "scene": {
           "xaxis": {
            "backgroundcolor": "#E5ECF6",
            "gridcolor": "white",
            "gridwidth": 2,
            "linecolor": "white",
            "showbackground": true,
            "ticks": "",
            "zerolinecolor": "white"
           },
           "yaxis": {
            "backgroundcolor": "#E5ECF6",
            "gridcolor": "white",
            "gridwidth": 2,
            "linecolor": "white",
            "showbackground": true,
            "ticks": "",
            "zerolinecolor": "white"
           },
           "zaxis": {
            "backgroundcolor": "#E5ECF6",
            "gridcolor": "white",
            "gridwidth": 2,
            "linecolor": "white",
            "showbackground": true,
            "ticks": "",
            "zerolinecolor": "white"
           }
          },
          "shapedefaults": {
           "line": {
            "color": "#2a3f5f"
           }
          },
          "ternary": {
           "aaxis": {
            "gridcolor": "white",
            "linecolor": "white",
            "ticks": ""
           },
           "baxis": {
            "gridcolor": "white",
            "linecolor": "white",
            "ticks": ""
           },
           "bgcolor": "#E5ECF6",
           "caxis": {
            "gridcolor": "white",
            "linecolor": "white",
            "ticks": ""
           }
          },
          "title": {
           "x": 0.05
          },
          "xaxis": {
           "automargin": true,
           "gridcolor": "white",
           "linecolor": "white",
           "ticks": "",
           "title": {
            "standoff": 15
           },
           "zerolinecolor": "white",
           "zerolinewidth": 2
          },
          "yaxis": {
           "automargin": true,
           "gridcolor": "white",
           "linecolor": "white",
           "ticks": "",
           "title": {
            "standoff": 15
           },
           "zerolinecolor": "white",
           "zerolinewidth": 2
          }
         }
        },
        "width": 1200,
        "xaxis": {
         "anchor": "y",
         "domain": [
          0,
          0.2888888888888889
         ]
        },
        "xaxis10": {
         "anchor": "y10",
         "domain": [
          0,
          0.2888888888888889
         ]
        },
        "xaxis11": {
         "anchor": "y11",
         "domain": [
          0.35555555555555557,
          0.6444444444444445
         ]
        },
        "xaxis12": {
         "anchor": "y12",
         "domain": [
          0.7111111111111111,
          1
         ]
        },
        "xaxis2": {
         "anchor": "y2",
         "domain": [
          0.35555555555555557,
          0.6444444444444445
         ]
        },
        "xaxis3": {
         "anchor": "y3",
         "domain": [
          0.7111111111111111,
          1
         ]
        },
        "xaxis4": {
         "anchor": "y4",
         "domain": [
          0,
          0.2888888888888889
         ]
        },
        "xaxis5": {
         "anchor": "y5",
         "domain": [
          0.35555555555555557,
          0.6444444444444445
         ]
        },
        "xaxis6": {
         "anchor": "y6",
         "domain": [
          0.7111111111111111,
          1
         ]
        },
        "xaxis7": {
         "anchor": "y7",
         "domain": [
          0,
          0.2888888888888889
         ]
        },
        "xaxis8": {
         "anchor": "y8",
         "domain": [
          0.35555555555555557,
          0.6444444444444445
         ]
        },
        "xaxis9": {
         "anchor": "y9",
         "domain": [
          0.7111111111111111,
          1
         ]
        },
        "yaxis": {
         "anchor": "x",
         "domain": [
          0.84375,
          1
         ]
        },
        "yaxis10": {
         "anchor": "x10",
         "domain": [
          0,
          0.15625
         ]
        },
        "yaxis11": {
         "anchor": "x11",
         "domain": [
          0,
          0.15625
         ]
        },
        "yaxis12": {
         "anchor": "x12",
         "domain": [
          0,
          0.15625
         ]
        },
        "yaxis2": {
         "anchor": "x2",
         "domain": [
          0.84375,
          1
         ]
        },
        "yaxis3": {
         "anchor": "x3",
         "domain": [
          0.84375,
          1
         ]
        },
        "yaxis4": {
         "anchor": "x4",
         "domain": [
          0.5625,
          0.71875
         ]
        },
        "yaxis5": {
         "anchor": "x5",
         "domain": [
          0.5625,
          0.71875
         ]
        },
        "yaxis6": {
         "anchor": "x6",
         "domain": [
          0.5625,
          0.71875
         ]
        },
        "yaxis7": {
         "anchor": "x7",
         "domain": [
          0.28125,
          0.4375
         ]
        },
        "yaxis8": {
         "anchor": "x8",
         "domain": [
          0.28125,
          0.4375
         ]
        },
        "yaxis9": {
         "anchor": "x9",
         "domain": [
          0.28125,
          0.4375
         ]
        }
       }
      }
     },
     "metadata": {},
     "output_type": "display_data"
    }
   ],
   "source": [
    "from plotly.subplots import make_subplots\n",
    "\n",
    "fig_rows = 4\n",
    "fig_cols = 3\n",
    "fig = make_subplots(rows=fig_rows, cols=fig_cols, subplot_titles=[\n",
    "    \"Ground truth blank squares\", \"Predicted blank squares\", \"Confidence gradient blank squares\",\n",
    "    \"Ground truth white pawn positions\", \"Predicted white pawn positions\", \"Confidence gradient white pawn positions\",\n",
    "    \"Ground truth black king position\", \"Predicted black king position\", \"Confidence gradient black king position\",\n",
    "    \"Ground truth state\", \"Predicted board state\", \"Missing pieces\"\n",
    "])\n",
    "\n",
    "\n",
    "# Specify the size of each plot\n",
    "plot_size = 400  # You can adjust this size\n",
    "\n",
    "fig.add_trace(plot_board_state(move_of_interest_state_one_hot_RRC[:, :, BLANK_INDEX]), row=1, col=1)\n",
    "#fig.add_trace(plot_board_state(move_of_interest_probe_out[:, :, BLANK_INDEX], clip_size=1), row=1, col=2)\n",
    "fig.add_trace(plot_board_state(get_predictied(probe_prediction_squares_RR,BLANK_INDEX - 6)), row=1, col=2)\n",
    "fig.add_trace(plot_board_state(move_of_interest_probe_out[:, :, BLANK_INDEX]), row=1, col=3)\n",
    "\n",
    "fig.add_trace(plot_board_state(move_of_interest_state_one_hot_RRC[:, :, white_pawn_index]), row=2, col=1)\n",
    "#fig.add_trace(plot_board_state(move_of_interest_probe_out[:, :, white_pawn_index], clip_size=1), row=2, col=2)\n",
    "fig.add_trace(plot_board_state(get_predictied(probe_prediction_squares_RR,white_pawn_index -6)), row=2, col=2)\n",
    "fig.add_trace(plot_board_state(move_of_interest_probe_out[:, :, white_pawn_index], show_scale=True), row=2, col=3)\n",
    "\n",
    "fig.add_trace(plot_board_state(move_of_interest_state_one_hot_RRC[:, :, black_king_index]), row=3, col=1)\n",
    "#fig.add_trace(plot_board_state(move_of_interest_probe_out[:, :, black_king_index], clip_size=1), row=3, col=2)\n",
    "fig.add_trace(plot_board_state(get_predictied(probe_prediction_squares_RR, black_king_index - 6)), row=3, col=2)\n",
    "fig.add_trace(plot_board_state(move_of_interest_probe_out[:, :, black_king_index]), row=3, col=3)\n",
    "\n",
    "fig.add_trace(plot_board_state_with_text(move_of_interest_state_RR), row=4, col=1)\n",
    "fig.add_trace(plot_board_state_with_text(state_stacks_probe_outputs_MBLRR[0][0][move_of_interest]), row=4, col=2)\n",
    "missing_pieces_positions_RR = (move_of_interest_state_RR != state_stacks_probe_outputs_MBLRR[0][0][move_of_interest]).int()\n",
    "missing_pieces_RR = (missing_pieces_positions_RR * move_of_interest_state_RR)\n",
    "fig.add_trace(plot_board_state_with_text(missing_pieces_RR), row=4, col=3)\n",
    "\n",
    "# Adjust the overall size of the figure\n",
    "fig.update_layout(height=fig_rows * plot_size * 1.3, width=fig_cols * plot_size)\n",
    "fig.update_annotations(dict(font=dict(size=18))) \n",
    "\n",
    "\n",
    "\n",
    "# Show the figure\n",
    "fig.show()"
   ]
  },
  {
   "cell_type": "markdown",
   "metadata": {},
   "source": [
    "This will check the percentage of squares in the sample (sample_size defaults to 1 game) where the ground truth matches the probe output.\n",
    "I also do a round trip through all the transformations, which should match 100%."
   ]
  },
  {
   "cell_type": "code",
   "execution_count": 25,
   "metadata": {},
   "outputs": [
    {
     "name": "stdout",
     "output_type": "stream",
     "text": [
      "Out of 2048 elements, 1534 matched, 74.90234375%\n",
      "Linear probe accuracy on all board squares in sample size: 0.7490234375\n"
     ]
    }
   ],
   "source": [
    "def calculate_matching_percentage(state_stacks: torch.Tensor, probe_outputs: torch.Tensor) -> float:\n",
    "    \"\"\"\n",
    "    Calculate the percentage of matching cells in two tensors.\n",
    "\n",
    "    :param state_stacks: A tensor of shape [1, 1, 680, 8, 8].\n",
    "    :param probe_outputs: A tensor of shape [1, 1, 680, 8, 8].\n",
    "    :return: The percentage of cells that match.\n",
    "    \"\"\"\n",
    "    # Element-wise comparison\n",
    "    matches = state_stacks == probe_outputs\n",
    "\n",
    "    # Count the number of matches\n",
    "    num_matches = matches.sum().item()\n",
    "\n",
    "    # Total number of elements\n",
    "    total_elements = state_stacks.numel()\n",
    "\n",
    "    # Calculate percentage\n",
    "    percentage = (num_matches / total_elements) * 100\n",
    "    print(f\"Out of {total_elements} elements, {num_matches} matched, {percentage}%\")\n",
    "\n",
    "    return percentage\n",
    "assert(state_stacks_probe_outputs_MBLRR.shape) == (state_stack_white_moves_MBLRR.shape)\n",
    "print(\"Linear probe accuracy on all board squares in sample size:\", calculate_matching_percentage(state_stack_white_moves_MBLRR, state_stacks_probe_outputs_MBLRR)/100)\n",
    "\n",
    "##Round trip tests\n",
    "#round_trip = chess_utils.one_hot_to_state_stack(chess_utils.state_stack_to_one_hot(modes, config.num_rows, config.num_cols, config.min_val,config.max_val, DEVICE, state_stack_white_moves_MBLRR), config.min_val)\n",
    "#round_trip = torch.tensor(round_trip)\n",
    "#print(round_trip.shape)\n",
    "#print(state_stack_white_moves_MBLRR.shape)\n",
    "#assert(round_trip.shape) == (modes, sample_size, num_white_moves, config.num_rows, config.num_cols)\n",
    "#assert(round_trip.shape) == state_stack_white_moves_MBLRR.shape\n",
    "#matching_percentage = calculate_matching_percentage(round_trip, state_stack_white_moves_MBLRR)\n",
    "#assert(matching_percentage == 100.0)\n",
    "#print(f\"Round trip matching percentage: {matching_percentage}%\")"
   ]
  },
  {
   "cell_type": "markdown",
   "metadata": {},
   "source": [
    "Now, we can perform interventions on the model's internals and view the modified probe outputs. We can also verify the model produces legal moves under the modified state of the board.\n",
    "\n",
    "First, we perform a sanity check to ensure that our interventions on model activations are working correctly. In this case, diff should roughly equal flip_dir.\n",
    "\n",
    "Note that I'm only intervening on one layer here. By modifying the first for loop and training additional probes, we can easily intervene on an arbitrary amount of layers. If we were to intervene on multiple layers, we can only check that torch.allclose(diff, flip_dirs[layer], atol=1e-6) for the first layer that we intervene on."
   ]
  },
  {
   "cell_type": "code",
   "execution_count": 26,
   "metadata": {},
   "outputs": [
    {
     "name": "stdout",
     "output_type": "stream",
     "text": [
      "Moving model to device:  cpu\n",
      "HookedTransformer(\n",
      "  (embed): Embed()\n",
      "  (hook_embed): HookPoint()\n",
      "  (pos_embed): PosEmbed()\n",
      "  (hook_pos_embed): HookPoint()\n",
      "  (blocks): ModuleList(\n",
      "    (0-7): 8 x TransformerBlock(\n",
      "      (ln1): LayerNormPre(\n",
      "        (hook_scale): HookPoint()\n",
      "        (hook_normalized): HookPoint()\n",
      "      )\n",
      "      (ln2): LayerNormPre(\n",
      "        (hook_scale): HookPoint()\n",
      "        (hook_normalized): HookPoint()\n",
      "      )\n",
      "      (attn): Attention(\n",
      "        (hook_k): HookPoint()\n",
      "        (hook_q): HookPoint()\n",
      "        (hook_v): HookPoint()\n",
      "        (hook_z): HookPoint()\n",
      "        (hook_attn_scores): HookPoint()\n",
      "        (hook_pattern): HookPoint()\n",
      "        (hook_result): HookPoint()\n",
      "      )\n",
      "      (mlp): MLP(\n",
      "        (hook_pre): HookPoint()\n",
      "        (hook_post): HookPoint()\n",
      "      )\n",
      "      (hook_attn_in): HookPoint()\n",
      "      (hook_q_input): HookPoint()\n",
      "      (hook_k_input): HookPoint()\n",
      "      (hook_v_input): HookPoint()\n",
      "      (hook_mlp_in): HookPoint()\n",
      "      (hook_attn_out): HookPoint()\n",
      "      (hook_mlp_out): HookPoint()\n",
      "      (hook_resid_pre): HookPoint()\n",
      "      (hook_resid_mid): HookPoint()\n",
      "      (hook_resid_post): HookPoint()\n",
      "    )\n",
      "  )\n",
      "  (ln_final): LayerNormPre(\n",
      "    (hook_scale): HookPoint()\n",
      "    (hook_normalized): HookPoint()\n",
      "  )\n",
      "  (unembed): Unembed()\n",
      ")\n",
      "torch.Size([1, 364, 512])\n",
      "torch.Size([1, 364, 512])\n",
      "Flip hook test passed\n"
     ]
    }
   ],
   "source": [
    "probe_data.model.reset_hooks()\n",
    "\n",
    "_, cache = probe_data.model.run_with_cache(board_seqs_int_BL.to(DEVICE)[:, :-1], return_type=None)\n",
    "resid_post_BlD = cache[\"resid_post\", layer][:, :]\n",
    "\n",
    "r = 0\n",
    "c = 0\n",
    "\n",
    "probe_names = {}\n",
    "for i in range(layer, layer + 1):\n",
    "    probe_names[i] = base_probe_name.replace(\"layer_0\", f\"layer_{i}\")\n",
    "\n",
    "probes = {}\n",
    "\n",
    "# Use this to intervene on multiple layers\n",
    "for layer, probe_name in probe_names.items():\n",
    "    probe_file_location = f\"{SAVED_PROBE_DIR}{probe_name}\"\n",
    "    checkpoint = torch.load(probe_file_location, map_location=torch.device(DEVICE))\n",
    "    linear_probe_MDRRC = checkpoint[\"linear_probe\"]\n",
    "    probes[layer] = linear_probe_MDRRC\n",
    "\n",
    "\n",
    "flip_dirs = {}\n",
    "\n",
    "piece1 = BLANK_INDEX\n",
    "piece2 = black_king_index\n",
    "\n",
    "for layer, linear_probe_MDRRC in probes.items():\n",
    "    piece1_probe = linear_probe_MDRRC[:, :, r, c, piece1].squeeze()\n",
    "    piece2_probe = linear_probe_MDRRC[:, :, r, c, piece2].squeeze()\n",
    "    flip_dir = piece2_probe - piece1_probe\n",
    "    flip_dir.to(DEVICE)\n",
    "    flip_dirs[layer] = flip_dir\n",
    "\n",
    "def flip_hook(resid, hook, flip_dir: torch.Tensor):\n",
    "    resid[GAME_IDX, :] -= flip_dir # NOTE: We could only intervene on a single position in the sequence, but there's no harm in intervening on all of them\n",
    "\n",
    "probe_data.model.reset_hooks()\n",
    "\n",
    "for layer, flip_dir in flip_dirs.items():\n",
    "    temp_hook_fn = partial(flip_hook, flip_dir=flip_dir)\n",
    "    hook_name = f\"blocks.{layer}.hook_resid_post\"\n",
    "    probe_data.model.add_hook(hook_name, temp_hook_fn)\n",
    "\n",
    "print(probe_data.model.cpu())\n",
    "_, modified_cache = probe_data.model.run_with_cache(board_seqs_int_BL.to(DEVICE)[:, :-1])\n",
    "probe_data.model.reset_hooks()\n",
    "modified_resid_post = modified_cache[\"resid_post\", layer][:, :]\n",
    "\n",
    "print(resid_post_BlD.shape)\n",
    "print(modified_resid_post.shape)\n",
    "\n",
    "diff = resid_post_BlD[GAME_IDX, 10, :] - modified_resid_post[GAME_IDX, 10, :]\n",
    "\n",
    "assert torch.allclose(diff, flip_dirs[layer], atol=1e-6)\n",
    "print(\"Flip hook test passed\")"
   ]
  },
  {
   "cell_type": "markdown",
   "metadata": {},
   "source": [
    "Next, we load the model's vocab."
   ]
  },
  {
   "cell_type": "code",
   "execution_count": 27,
   "metadata": {},
   "outputs": [],
   "source": [
    "with open(\"models/meta.pkl\", \"rb\") as f:\n",
    "    meta = pickle.load(f)\n",
    "stoi = meta[\"stoi\"]\n",
    "itos = meta[\"itos\"]\n",
    "def encode_string(s: str) -> list[int]:\n",
    "    \"\"\"Encode a string into a list of integers.\"\"\"\n",
    "    return [stoi[c] for c in s]\n",
    "\n",
    "\n",
    "def decode_list(l: list[int]) -> str:\n",
    "    \"\"\"Decode a list of integers into a string.\"\"\"\n",
    "    return \"\".join([itos[i] for i in l])"
   ]
  },
  {
   "cell_type": "markdown",
   "metadata": {},
   "source": [
    "Next, we generate 10 characters using the model to determine the model's next move. Note that we are using argmax instead of a temperature based approach, so this will always return the most likely move.One annoying problem we deal with: In chess, the 0th row is at the bottom, which is how print(chess_board) displays everything. But, for our state stack (and any array), the 0th row is at the top.\n",
    "\n",
    "Now, we get a pgn string up to the current move and convert it to a chess board. We use it to create an encoded model_input as well."
   ]
  },
  {
   "cell_type": "code",
   "execution_count": 28,
   "metadata": {},
   "outputs": [
    {
     "name": "stdout",
     "output_type": "stream",
     "text": [
      "tensor([[ 4,  2,  0,  0,  6,  3,  2,  4],\n",
      "        [ 0,  1,  0,  5,  0,  0,  0,  1],\n",
      "        [ 3,  0,  0,  1,  0,  0,  1,  0],\n",
      "        [ 1,  0,  1,  0,  0, -2,  0,  0],\n",
      "        [-1,  0,  0,  0,  0, -3,  0,  0],\n",
      "        [ 0,  0,  0, -1,  0,  0,  0,  0],\n",
      "        [ 0, -1, -1,  0, -1,  0, -1, -1],\n",
      "        [ 0, -4,  0, -5, -6, -3, -2, -4]], dtype=torch.int8)\n",
      "torch.Size([1, 121])\n",
      ". r . q k b n r\n",
      ". p p . p . p p\n",
      ". . . p . . . .\n",
      "p . . . . b . .\n",
      "P . P . . n . .\n",
      "B . . P . . P .\n",
      ". P . Q . . . P\n",
      "R N . . K B N R\n",
      "<LegalMoveGenerator at 0x76e0bc15b470 (Bxd6, Bc5, Bb4, Qxa5, Qxf4, Qb4, Qe3, Qc3, Qg2, Qf2, Qe2, Qc2, Qd1, Qc1, Nh3, Nf3, Ne2, Bh3, Bg2, Be2, Kf2, Kd1, Nc3, Ra2, gxf4, c5, g4, d4, h3, b3, h4, b4)>\n"
     ]
    }
   ],
   "source": [
    "print(move_of_interest_state_RR)\n",
    "\n",
    "pgn_string = probe_data.board_seqs_string[GAME_IDX][:move_of_interest_index + 1]\n",
    "model_input = encode_string(pgn_string)\n",
    "model_input = torch.tensor(model_input).unsqueeze(0).to(DEVICE)\n",
    "print(model_input.shape)\n",
    "board = chess_utils.pgn_string_to_board(pgn_string)\n",
    "\n",
    "print(board)\n",
    "print(board.legal_moves)"
   ]
  },
  {
   "cell_type": "markdown",
   "metadata": {},
   "source": [
    "We generate a move using the model on the original board and check that the move is legal. Next, we determine which piece was moved, and which row / column the source square of the move was."
   ]
  },
  {
   "cell_type": "code",
   "execution_count": 29,
   "metadata": {},
   "outputs": [
    {
     "ename": "InvalidMoveError",
     "evalue": "invalid san: ''",
     "output_type": "error",
     "traceback": [
      "\u001b[0;31m---------------------------------------------------------------------------\u001b[0m",
      "\u001b[0;31mInvalidMoveError\u001b[0m                          Traceback (most recent call last)",
      "Cell \u001b[0;32mIn[29], line 2\u001b[0m\n\u001b[1;32m      1\u001b[0m model_move \u001b[38;5;241m=\u001b[39m chess_utils\u001b[38;5;241m.\u001b[39mget_model_move(probe_data\u001b[38;5;241m.\u001b[39mmodel, meta, model_input)\n\u001b[0;32m----> 2\u001b[0m model_move_san \u001b[38;5;241m=\u001b[39m \u001b[43mboard\u001b[49m\u001b[38;5;241;43m.\u001b[39;49m\u001b[43mparse_san\u001b[49m\u001b[43m(\u001b[49m\u001b[43mmodel_move\u001b[49m\u001b[43m)\u001b[49m\n\u001b[1;32m      3\u001b[0m \u001b[38;5;28;01massert\u001b[39;00m model_move_san \u001b[38;5;129;01min\u001b[39;00m board\u001b[38;5;241m.\u001b[39mlegal_moves\n\u001b[1;32m      5\u001b[0m moved_piece \u001b[38;5;241m=\u001b[39m board\u001b[38;5;241m.\u001b[39mpiece_at(model_move_san\u001b[38;5;241m.\u001b[39mfrom_square)\n",
      "File \u001b[0;32m~/chess_llm_interpretability/interEnv/lib/python3.12/site-packages/chess/__init__.py:3157\u001b[0m, in \u001b[0;36mBoard.parse_san\u001b[0;34m(self, san)\u001b[0m\n\u001b[1;32m   3155\u001b[0m         \u001b[38;5;28;01mraise\u001b[39;00m InvalidMoveError(\u001b[38;5;124mf\u001b[39m\u001b[38;5;124m\"\u001b[39m\u001b[38;5;124munsupported multi-leg move: \u001b[39m\u001b[38;5;132;01m{\u001b[39;00msan\u001b[38;5;132;01m!r}\u001b[39;00m\u001b[38;5;124m\"\u001b[39m)\n\u001b[1;32m   3156\u001b[0m     \u001b[38;5;28;01melse\u001b[39;00m:\n\u001b[0;32m-> 3157\u001b[0m         \u001b[38;5;28;01mraise\u001b[39;00m InvalidMoveError(\u001b[38;5;124mf\u001b[39m\u001b[38;5;124m\"\u001b[39m\u001b[38;5;124minvalid san: \u001b[39m\u001b[38;5;132;01m{\u001b[39;00msan\u001b[38;5;132;01m!r}\u001b[39;00m\u001b[38;5;124m\"\u001b[39m)\n\u001b[1;32m   3159\u001b[0m \u001b[38;5;66;03m# Get target square. Mask our own pieces to exclude castling moves.\u001b[39;00m\n\u001b[1;32m   3160\u001b[0m to_square \u001b[38;5;241m=\u001b[39m SQUARE_NAMES\u001b[38;5;241m.\u001b[39mindex(match\u001b[38;5;241m.\u001b[39mgroup(\u001b[38;5;241m4\u001b[39m))\n",
      "\u001b[0;31mInvalidMoveError\u001b[0m: invalid san: ''"
     ]
    }
   ],
   "source": [
    "model_move = chess_utils.get_model_move(probe_data.model, meta, model_input)\n",
    "model_move_san = board.parse_san(model_move)\n",
    "assert model_move_san in board.legal_moves\n",
    "\n",
    "moved_piece = board.piece_at(model_move_san.from_square)\n",
    "moved_piece_int = PIECE_TO_INT[moved_piece.piece_type]\n",
    "moved_piece_probe_index = PIECE_TO_ONE_HOT_MAPPING[moved_piece_int]\n",
    "source_square = chess.square_name(model_move_san.from_square)\n",
    "\n",
    "\n",
    "r, c = chess_utils.square_to_coordinate(model_move_san.from_square)\n",
    "print(r, c)\n",
    "\n",
    "print(f\"Model move: {model_move_san}, moved piece: {moved_piece}, moved piece int: {moved_piece_int}, moved piece probe index: {moved_piece_probe_index}, source square: {source_square}\")"
   ]
  },
  {
   "cell_type": "markdown",
   "metadata": {},
   "source": [
    "Now, we create a modified board where the source square of the model's original move is blank."
   ]
  },
  {
   "cell_type": "code",
   "execution_count": null,
   "metadata": {},
   "outputs": [],
   "source": [
    "modified_state_stack = state_stack_white_moves_MBLRR.clone()\n",
    "modified_state_stack[0, GAME_IDX, move_of_interest, r, c] = 0\n",
    "modified_move_of_interest_state = modified_state_stack[0, GAME_IDX, move_of_interest]\n",
    "modified_state_stacks_one_hot = chess_utils.state_stack_to_one_hot(modes, config.num_rows, config.num_cols, config.min_val, config.max_val, DEVICE, modified_state_stack)\n",
    "modified_move_of_interest_state_one_hot = modified_state_stacks_one_hot[0][GAME_IDX][move_of_interest]\n",
    "modified_board = board.copy()\n",
    "modified_board.set_piece_at(model_move_san.from_square, None)\n",
    "print(modified_board)\n",
    "print(modified_board.legal_moves)\n",
    "\n",
    "assert modified_move_of_interest_state_one_hot.shape == move_of_interest_state_one_hot_RRC.shape\n",
    "assert modified_state_stack.shape == state_stack_white_moves_MBLRR.shape\n",
    "assert modified_state_stacks_one_hot.shape == state_stacks_one_hot_MBLRRC.shape"
   ]
  },
  {
   "cell_type": "markdown",
   "metadata": {},
   "source": [
    "Next, we get flip_dir, which is a probe of piece * piece_coefficient - blank square * blank_coefficient. In practice, I find that it works best when blank_coefficient is 0. We subtract this flip_dir from the model's activations at every token. We generate 10 new characters using the model, and verify that the new move under this modified state is legal according to the modified state. We also save a copy of the modified activations and generate modified probe outputs."
   ]
  },
  {
   "cell_type": "code",
   "execution_count": null,
   "metadata": {},
   "outputs": [],
   "source": [
    "_, cache = probe_data.model.run_with_cache(board_seqs_int_BL.to(DEVICE)[:, :-1], return_type=None)\n",
    "resid_post_BlD = cache[\"resid_post\", layer][:, :]\n",
    "\n",
    "flip_dirs = {}\n",
    "\n",
    "piece1 = BLANK_INDEX\n",
    "piece1_probe = linear_probe_MDRRC[:, :, r, c, piece1].squeeze()\n",
    "piece2 = moved_piece_probe_index\n",
    "\n",
    "for layer, linear_probe_MDRRC in probes.items():\n",
    "    piece2_probe = linear_probe_MDRRC[:, :, r, c, piece2].squeeze()\n",
    "    flip_dir = piece2_probe - piece1_probe\n",
    "    flip_dir.to(DEVICE)\n",
    "    flip_dirs[layer] = flip_dir\n",
    "\n",
    "def flip_hook(resid, hook, flip_dir: torch.Tensor):\n",
    "    # print(resid[0, move_of_interest_index, :].shape)\n",
    "    # print(flip_dir.shape)\n",
    "    # print(piece1_probe.shape)\n",
    "    # left_side = torch.dot(resid[0, move_of_interest_index, :], piece1_probe) - 3.0\n",
    "    # right_side = torch.dot(flip_dir, piece1_probe)\n",
    "    # scale = left_side / right_side\n",
    "    # print(scale)\n",
    "    \n",
    "    # # Calculate scale\n",
    "    # scale = left_side / right_side\n",
    "    piece_coefficient = 1.0\n",
    "    blank_coefficient = 0.0\n",
    "    blank_probe = probes[layer][:, :, r, c, BLANK_INDEX].squeeze()\n",
    "    piece_probe = probes[layer][:, :, r, c, moved_piece_probe_index].squeeze()\n",
    "\n",
    "    flip_dir = (piece_probe * piece_coefficient) - (blank_probe * blank_coefficient)\n",
    "    flip_dir = flip_dir / flip_dir.norm()\n",
    "    scale = 1.0\n",
    "    resid[0, :] -= scale * flip_dir # NOTE: We could only intervene on a single position in the sequence, but there's no harm in intervening on all of them\n",
    "\n",
    "probe_data.model.reset_hooks()\n",
    "\n",
    "for layer, flip_dir in flip_dirs.items():\n",
    "    temp_hook_fn = partial(flip_hook, flip_dir=flip_dir)\n",
    "    hook_name = f\"blocks.{layer}.hook_resid_post\"\n",
    "    probe_data.model.add_hook(hook_name, temp_hook_fn)\n",
    "_, modified_cache = probe_data.model.run_with_cache(board_seqs_int_BL.to(DEVICE)[:, :-1])\n",
    "modified_board_model_move = chess_utils.get_model_move(probe_data.model, meta, model_input)\n",
    "probe_data.model.reset_hooks()\n",
    "modified_resid_post = modified_cache[\"resid_post\", layer][:, :]\n",
    "\n",
    "\n",
    "print(modified_board_model_move)\n",
    "# modified_board_model_move_san = modified_board.parse_san(modified_board_model_move)\n",
    "# assert modified_board_model_move_san in modified_board.legal_moves"
   ]
  },
  {
   "cell_type": "code",
   "execution_count": null,
   "metadata": {},
   "outputs": [],
   "source": [
    "print(flip_dirs[layer].shape)\n",
    "print(resid_post_BlD.shape)\n",
    "print(modified_resid_post.shape)"
   ]
  },
  {
   "cell_type": "code",
   "execution_count": null,
   "metadata": {},
   "outputs": [],
   "source": [
    "indexed_modified_resid_posts = []\n",
    "\n",
    "for batch_idx in range(white_move_indices_BL.size(0)):\n",
    "    dots_indices_for_batch_L = white_move_indices_BL[batch_idx]\n",
    "    indexed_modified_resid_post = modified_resid_post[batch_idx, dots_indices_for_batch_L]\n",
    "    indexed_modified_resid_posts.append(indexed_modified_resid_post)\n",
    "\n",
    "# Stack the indexed state stacks along the first dimension\n",
    "stacked_modified_resid_post = torch.stack(indexed_modified_resid_posts)\n",
    "stacked_modified_resid_post = stacked_modified_resid_post.to(DEVICE)\n",
    "\n",
    "assert stacked_modified_resid_post.shape == (sample_size, num_white_moves, linear_probe_MDRRC.shape[1])\n",
    "\n",
    "modified_probe_out = einsum(\n",
    "    \"batch pos d_model, modes d_model rows cols options -> modes batch pos rows cols options\",\n",
    "    stacked_modified_resid_post,\n",
    "    linear_probe_MDRRC,\n",
    ")\n",
    "modified_state_stacks_probe_outputs = chess_utils.one_hot_to_state_stack(modified_probe_out, config.min_val)\n",
    "modified_state_stacks_probe_outputs = torch.tensor(modified_state_stacks_probe_outputs)"
   ]
  },
  {
   "cell_type": "markdown",
   "metadata": {},
   "source": [
    "Now, we can graph the original and modified board states and probe outputs."
   ]
  },
  {
   "cell_type": "code",
   "execution_count": null,
   "metadata": {},
   "outputs": [],
   "source": [
    "from plotly.subplots import make_subplots\n",
    "\n",
    "move_of_interest_probe_out = probe_out_MBLRRC[0][0][move_of_interest]\n",
    "move_of_interest_probe_out_modified = modified_probe_out[0][0][move_of_interest]\n",
    "print(move_of_interest_probe_out.shape)\n",
    "\n",
    "fig_rows = 6\n",
    "fig_cols = 3\n",
    "fig = make_subplots(rows=fig_rows, cols=fig_cols, subplot_titles=[\n",
    "    \"Chess board blank squares\", \"Probe output blank squares clip=2\", \"Probe output blank squares no clipping\",\n",
    "    \"Chess board original piece\", \"Probe output original piece clip=5\", \"Probe output original piece no clipping\",\n",
    "    \"Modified chess board blank squares\", \"Probe output blank squares clip=2\", \"Probe output blank squares no clipping\",\n",
    "    \"Modified chess board original piece\", \"Probe output original piece clip=5\", \"Probe output original piece no clipping\",\n",
    "    \"Chess board state\", \"Probe output board state\", \"Redundant probe output board state\",\n",
    "    \"Modified chess board state\", \"Probe output board state\", \"Redundant probe output board state\"\n",
    "])\n",
    "\n",
    "\n",
    "# Specify the size of each plot\n",
    "plot_size = 400  # You can adjust this size\n",
    "\n",
    "\n",
    "\n",
    "fig.add_trace(plot_board_state(move_of_interest_state_one_hot_RRC[:, :, BLANK_INDEX]), row=1, col=1)\n",
    "fig.add_trace(plot_board_state(move_of_interest_probe_out[:, :, BLANK_INDEX], clip_size=2), row=1, col=2)\n",
    "fig.add_trace(plot_board_state(move_of_interest_probe_out[:, :, BLANK_INDEX]), row=1, col=3)\n",
    "\n",
    "fig.add_trace(plot_board_state(move_of_interest_state_one_hot_RRC[:, :, moved_piece_probe_index]), row=2, col=1)\n",
    "fig.add_trace(plot_board_state(move_of_interest_probe_out[:, :, moved_piece_probe_index], clip_size=5), row=2, col=2)\n",
    "fig.add_trace(plot_board_state(move_of_interest_probe_out[:, :, moved_piece_probe_index]), row=2, col=3)\n",
    "\n",
    "fig.add_trace(plot_board_state(modified_move_of_interest_state_one_hot[:, :, BLANK_INDEX]), row=3, col=1)\n",
    "fig.add_trace(plot_board_state(move_of_interest_probe_out_modified[:, :, BLANK_INDEX], clip_size=2), row=3, col=2)\n",
    "fig.add_trace(plot_board_state(move_of_interest_probe_out_modified[:, :, BLANK_INDEX]), row=3, col=3)\n",
    "\n",
    "fig.add_trace(plot_board_state(modified_move_of_interest_state_one_hot[:, :, moved_piece_probe_index]), row=4, col=1)\n",
    "fig.add_trace(plot_board_state(move_of_interest_probe_out_modified[:, :, moved_piece_probe_index], clip_size=5), row=4, col=2)\n",
    "fig.add_trace(plot_board_state(move_of_interest_probe_out_modified[:, :, moved_piece_probe_index]), row=4, col=3)\n",
    "\n",
    "fig.add_trace(plot_board_state_with_text(move_of_interest_state_RR), row=5, col=1)\n",
    "fig.add_trace(plot_board_state_with_text(state_stacks_probe_outputs_MBLRR[0][0][move_of_interest]), row=5, col=2)\n",
    "fig.add_trace(plot_board_state_with_text(state_stacks_probe_outputs_MBLRR[0][0][move_of_interest]), row=5, col=2)\n",
    "\n",
    "fig.add_trace(plot_board_state_with_text(modified_move_of_interest_state), row=6, col=1)\n",
    "fig.add_trace(plot_board_state_with_text(modified_state_stacks_probe_outputs[0][0][move_of_interest]), row=6, col=2)\n",
    "fig.add_trace(plot_board_state_with_text(modified_state_stacks_probe_outputs[0][0][move_of_interest]), row=6, col=2)\n",
    "\n",
    "# Adjust the overall size of the figure\n",
    "fig.update_layout(height=fig_rows * plot_size, width=fig_cols * plot_size)\n",
    "\n",
    "# Show the figure\n",
    "fig.show()"
   ]
  }
 ],
 "metadata": {
  "kernelspec": {
   "display_name": "env",
   "language": "python",
   "name": "python3"
  },
  "language_info": {
   "codemirror_mode": {
    "name": "ipython",
    "version": 3
   },
   "file_extension": ".py",
   "mimetype": "text/x-python",
   "name": "python",
   "nbconvert_exporter": "python",
   "pygments_lexer": "ipython3",
   "version": "3.12.3"
  }
 },
 "nbformat": 4,
 "nbformat_minor": 2
}
