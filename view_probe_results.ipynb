{
 "cells": [
  {
   "cell_type": "code",
   "execution_count": 8,
   "metadata": {},
   "outputs": [],
   "source": [
    "import plot_probe_experiment_results as g\n",
    "import importlib\n",
    "\n",
    "importlib.reload(g)\n",
    "\n",
    "\n",
    "results_datapath = 'probe_experiment_tracking.json'\n",
    "model_prefixes=[\"big_random16M\", \"lichess_karvhyp\"]\n",
    "max_train_games_list=[\"20000\"]\n",
    "num_epochs_list=[\"3\"],\n",
    "probe_datasets=[\"lichess\"]\n",
    "training_configs=[\"classic\"]\n",
    "min_epochs = 3\n",
    "max_epochs = 100\n",
    "\n",
    "g.plot_accuracy_by_iterations(\n",
    "    results_datapath,\n",
    "    model_prefixes,\n",
    "    training_configs,\n",
    "    probe_datasets,\n",
    "    max_train_games_list,\n",
    "    min_epochs,\n",
    "    max_epochs \n",
    ")\n"
   ]
  },
  {
   "cell_type": "code",
   "execution_count": 1,
   "metadata": {},
   "outputs": [
    {
     "ename": "FileNotFoundError",
     "evalue": "[Errno 2] No such file or directory: 'experiment_tracking.json'",
     "output_type": "error",
     "traceback": [
      "\u001b[0;31m---------------------------------------------------------------------------\u001b[0m",
      "\u001b[0;31mFileNotFoundError\u001b[0m                         Traceback (most recent call last)",
      "Cell \u001b[0;32mIn[1], line 15\u001b[0m\n\u001b[1;32m     12\u001b[0m training_configs\u001b[38;5;241m=\u001b[39m[\u001b[38;5;124m\"\u001b[39m\u001b[38;5;124mclassic\u001b[39m\u001b[38;5;124m\"\u001b[39m]\n\u001b[1;32m     13\u001b[0m selection_arg\u001b[38;5;241m=\u001b[39m\u001b[38;5;124m\"\u001b[39m\u001b[38;5;124mprobe_dataset\u001b[39m\u001b[38;5;124m\"\u001b[39m\n\u001b[0;32m---> 15\u001b[0m \u001b[43mg\u001b[49m\u001b[38;5;241;43m.\u001b[39;49m\u001b[43mplot_accuracy_by_iterations\u001b[49m\u001b[43m(\u001b[49m\n\u001b[1;32m     16\u001b[0m \u001b[43m    \u001b[49m\u001b[43mresults_datapath\u001b[49m\u001b[43m,\u001b[49m\n\u001b[1;32m     17\u001b[0m \u001b[43m    \u001b[49m\u001b[43mmodel_prefixes\u001b[49m\u001b[43m,\u001b[49m\n\u001b[1;32m     18\u001b[0m \u001b[43m    \u001b[49m\u001b[43mmax_train_games_list\u001b[49m\u001b[43m,\u001b[49m\n\u001b[1;32m     19\u001b[0m \u001b[43m    \u001b[49m\u001b[43mnum_epochs_list\u001b[49m\u001b[43m,\u001b[49m\n\u001b[1;32m     20\u001b[0m \u001b[43m    \u001b[49m\u001b[43mprobe_datasets\u001b[49m\u001b[43m,\u001b[49m\n\u001b[1;32m     21\u001b[0m \u001b[43m    \u001b[49m\u001b[43mtraining_configs\u001b[49m\u001b[43m,\u001b[49m\n\u001b[1;32m     22\u001b[0m \u001b[43m    \u001b[49m\u001b[43mselection_arg\u001b[49m\n\u001b[1;32m     23\u001b[0m \u001b[43m)\u001b[49m\n",
      "File \u001b[0;32m~/chess_interpretability/plot_probe_experiment_results.py:28\u001b[0m, in \u001b[0;36mplot_accuracy_by_iterations\u001b[0;34m(results_datapath, model_prefixes, max_train_games_list, num_epochs_list, probe_datasets, training_configs, selection_arg)\u001b[0m\n\u001b[1;32m      5\u001b[0m \u001b[38;5;28;01mdef\u001b[39;00m \u001b[38;5;21mplot_accuracy_by_iterations\u001b[39m(\n\u001b[1;32m      6\u001b[0m     results_datapath,\n\u001b[1;32m      7\u001b[0m     model_prefixes,\n\u001b[0;32m   (...)\u001b[0m\n\u001b[1;32m     12\u001b[0m     selection_arg\u001b[38;5;241m=\u001b[39m\u001b[38;5;124m\"\u001b[39m\u001b[38;5;124mprobe_dataset\u001b[39m\u001b[38;5;124m\"\u001b[39m\n\u001b[1;32m     13\u001b[0m ):\n\u001b[1;32m     14\u001b[0m \u001b[38;5;250m    \u001b[39m\u001b[38;5;124;03m\"\"\"\u001b[39;00m\n\u001b[1;32m     15\u001b[0m \u001b[38;5;124;03m    Plots accuracy vs. iterations, filtered by the given criteria.\u001b[39;00m\n\u001b[1;32m     16\u001b[0m \u001b[38;5;124;03m    \u001b[39;00m\n\u001b[0;32m   (...)\u001b[0m\n\u001b[1;32m     25\u001b[0m \u001b[38;5;124;03m                             Controls which column is used to vary the marker shape.\u001b[39;00m\n\u001b[1;32m     26\u001b[0m \u001b[38;5;124;03m    \"\"\"\u001b[39;00m\n\u001b[0;32m---> 28\u001b[0m     \u001b[38;5;28;01mwith\u001b[39;00m \u001b[38;5;28;43mopen\u001b[39;49m\u001b[43m(\u001b[49m\u001b[43mresults_datapath\u001b[49m\u001b[43m,\u001b[49m\u001b[43m \u001b[49m\u001b[38;5;124;43m'\u001b[39;49m\u001b[38;5;124;43mr\u001b[39;49m\u001b[38;5;124;43m'\u001b[39;49m\u001b[43m,\u001b[49m\u001b[43m \u001b[49m\u001b[43mencoding\u001b[49m\u001b[38;5;241;43m=\u001b[39;49m\u001b[38;5;124;43m'\u001b[39;49m\u001b[38;5;124;43mutf-8\u001b[39;49m\u001b[38;5;124;43m'\u001b[39;49m\u001b[43m)\u001b[49m \u001b[38;5;28;01mas\u001b[39;00m f:\n\u001b[1;32m     29\u001b[0m         data \u001b[38;5;241m=\u001b[39m json\u001b[38;5;241m.\u001b[39mload(f)\n\u001b[1;32m     31\u001b[0m     \u001b[38;5;66;03m# --- 0) Normalize optional lists to sets for quick membership checks\u001b[39;00m\n",
      "\u001b[0;31mFileNotFoundError\u001b[0m: [Errno 2] No such file or directory: 'experiment_tracking.json'"
     ]
    }
   ],
   "source": [
    "import plot_probe_experiment_results as g\n",
    "import importlib\n",
    "\n",
    "importlib.reload(g)\n",
    "\n",
    "\n",
    "results_datapath = 'experiment_tracking.json'\n",
    "model_prefixes=[\"big_random16M\", \"lichess_karvhyp\"]\n",
    "max_train_games_list=[\"20000\"]\n",
    "num_epochs_list=[\"3\"],\n",
    "probe_datasets=[\"lichess\"]\n",
    "training_configs=[\"classic\"]\n",
    "selection_arg=\"probe_dataset\"\n",
    "\n",
    "g.plot_accuracy_by_iterations(\n",
    "    results_datapath,\n",
    "    model_prefixes,\n",
    "    max_train_games_list,\n",
    "    num_epochs_list,\n",
    "    probe_datasets,\n",
    "    training_configs,\n",
    "    selection_arg\n",
    ")\n"
   ]
  }
 ],
 "metadata": {
  "kernelspec": {
   "display_name": "env",
   "language": "python",
   "name": "python3"
  },
  "language_info": {
   "codemirror_mode": {
    "name": "ipython",
    "version": 3
   },
   "file_extension": ".py",
   "mimetype": "text/x-python",
   "name": "python",
   "nbconvert_exporter": "python",
   "pygments_lexer": "ipython3",
   "version": "3.12.3"
  }
 },
 "nbformat": 4,
 "nbformat_minor": 2
}
