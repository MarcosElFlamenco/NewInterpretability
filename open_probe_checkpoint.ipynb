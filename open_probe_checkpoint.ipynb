{
 "cells": [
  {
   "cell_type": "code",
   "execution_count": 6,
   "metadata": {},
   "outputs": [
    {
     "name": "stdout",
     "output_type": "stream",
     "text": [
      "dict_keys(['linear_probe_MDRRC', 'final_loss', 'iters', 'epochs', 'acc', 'linear_probe_name', 'layer', 'indexing_function_name', 'batch_size', 'lr', 'wd', 'pos_start', 'num_epochs', 'num_games', 'modes', 'wandb_project', 'config_name', 'column_name', 'levels_of_interest', 'split', 'dataset_prefix', 'model_name', 'n_layers', 'wandb_run_name', 'player_color', 'probe_type'])\n",
      "linear_probe_MDRRC : torch.Size([1, 512, 8, 8, 13])\n",
      "final_loss : 28.455963134765625\n",
      "iters : 50000\n",
      "epochs : 4\n",
      "acc : 0.8328598737716675\n",
      "linear_probe_name : chess_piece_probe\n",
      "layer : 5\n",
      "indexing_function_name : find_dots_indices\n",
      "batch_size : 2\n",
      "lr : 0.001\n",
      "wd : 0.01\n",
      "pos_start : 0\n",
      "num_epochs : 5\n",
      "num_games : 10000\n",
      "modes : 1\n",
      "wandb_project : chess_linear_probes\n",
      "config_name : chess_piece_probe\n",
      "column_name : None\n",
      "levels_of_interest : None\n",
      "split : train\n",
      "dataset_prefix : random\n",
      "model_name : tf_lens_big_random16M_vocab32_150K\n",
      "n_layers : 8\n",
      "wandb_run_name : chess_piece_probe_tf_lens_big_random16M_vocab32_150K_layer_5_indexing_find_dots_indices_max_games_10000\n",
      "player_color : White\n",
      "probe_type : vanilla\n"
     ]
    },
    {
     "name": "stderr",
     "output_type": "stream",
     "text": [
      "/tmp/ipykernel_7092/2873181609.py:3: FutureWarning: You are using `torch.load` with `weights_only=False` (the current default value), which uses the default pickle module implicitly. It is possible to construct malicious pickle data which will execute arbitrary code during unpickling (See https://github.com/pytorch/pytorch/blob/main/SECURITY.md#untrusted-models for more details). In a future release, the default value for `weights_only` will be flipped to `True`. This limits the functions that could be executed during unpickling. Arbitrary objects will no longer be allowed to be loaded via this mode unless they are explicitly allowlisted by the user via `torch.serialization.add_safe_globals`. We recommend you start setting `weights_only=True` for any use case where you don't have full control of the loaded file. Please open an issue on GitHub for any issues related to this experimental feature.\n",
      "  dic = torch.load(checkpoint)\n"
     ]
    }
   ],
   "source": [
    "import torch\n",
    "checkpoint = \"/home/oscar/chess_interpretability/linear_probes/tf_lens_big_random16M_vocab32_150K_chess_piece_probe_type_vanilla_layer_5_test_random.pth\"\n",
    "dic = torch.load(checkpoint)\n",
    "print(dic.keys())\n",
    "for key in dic.keys():\n",
    "    if key == \"linear_probe_MDRRC\":\n",
    "        print(f\"{key} : {dic[key].shape}\")\n",
    "    else:\n",
    "        print(f\"{key} : {dic[key]}\")\n",
    "\n"
   ]
  },
  {
   "cell_type": "code",
   "execution_count": null,
   "metadata": {},
   "outputs": [],
   "source": []
  }
 ],
 "metadata": {
  "kernelspec": {
   "display_name": "env",
   "language": "python",
   "name": "python3"
  },
  "language_info": {
   "codemirror_mode": {
    "name": "ipython",
    "version": 3
   },
   "file_extension": ".py",
   "mimetype": "text/x-python",
   "name": "python",
   "nbconvert_exporter": "python",
   "pygments_lexer": "ipython3",
   "version": "3.12.3"
  }
 },
 "nbformat": 4,
 "nbformat_minor": 2
}
